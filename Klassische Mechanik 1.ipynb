{
 "cells": [
  {
   "cell_type": "code",
   "execution_count": 1,
   "metadata": {},
   "outputs": [
    {
     "data": {
      "application/javascript": [
       "require.undef(\"nbextensions/vpython_libraries/glow.min\");"
      ],
      "text/plain": [
       "<IPython.core.display.Javascript object>"
      ]
     },
     "metadata": {},
     "output_type": "display_data"
    },
    {
     "data": {
      "application/javascript": [
       "require.undef(\"nbextensions/vpython_libraries/glowcomm\");"
      ],
      "text/plain": [
       "<IPython.core.display.Javascript object>"
      ]
     },
     "metadata": {},
     "output_type": "display_data"
    },
    {
     "data": {
      "application/javascript": [
       "require.undef(\"nbextensions/vpython_libraries/jquery-ui.custom.min\");"
      ],
      "text/plain": [
       "<IPython.core.display.Javascript object>"
      ]
     },
     "metadata": {},
     "output_type": "display_data"
    },
    {
     "data": {
      "application/javascript": [
       "require([\"nbextensions/vpython_libraries/glow.min\"], function(){console.log(\"GLOW LOADED\");})"
      ],
      "text/plain": [
       "<IPython.core.display.Javascript object>"
      ]
     },
     "metadata": {},
     "output_type": "display_data"
    },
    {
     "data": {
      "application/javascript": [
       "require([\"nbextensions/vpython_libraries/glowcomm\"], function(){console.log(\"GLOWCOMM LOADED\");})"
      ],
      "text/plain": [
       "<IPython.core.display.Javascript object>"
      ]
     },
     "metadata": {},
     "output_type": "display_data"
    },
    {
     "data": {
      "application/javascript": [
       "require([\"nbextensions/vpython_libraries/jquery-ui.custom.min\"], function(){console.log(\"JQUERY LOADED\");})"
      ],
      "text/plain": [
       "<IPython.core.display.Javascript object>"
      ]
     },
     "metadata": {},
     "output_type": "display_data"
    },
    {
     "data": {
      "text/html": [
       "<div id=\"glowscript\" class=\"glowscript\"></div>"
      ],
      "text/plain": [
       "<IPython.core.display.HTML object>"
      ]
     },
     "metadata": {},
     "output_type": "display_data"
    },
    {
     "data": {
      "application/javascript": [
       "window.__context = { glowscript_container: $(\"#glowscript\").removeAttr(\"id\")}"
      ],
      "text/plain": [
       "<IPython.core.display.Javascript object>"
      ]
     },
     "metadata": {},
     "output_type": "display_data"
    }
   ],
   "source": [
    "import pandas as pd\n",
    "import matplotlib.pyplot as plt\n",
    "import sympy as sy\n",
    "sy.init_printing(use_latex=True)\n",
    "import numpy as np\n",
    "import math\n",
    "import scipy as sc\n",
    "from vpython import *"
   ]
  },
  {
   "cell_type": "code",
   "execution_count": null,
   "metadata": {},
   "outputs": [],
   "source": [
    "sphere()"
   ]
  },
  {
   "cell_type": "markdown",
   "metadata": {},
   "source": [
    "# 1. Experimentelle Daten"
   ]
  },
  {
   "cell_type": "markdown",
   "metadata": {},
   "source": [
    "# (a)\n",
    "\n",
    "Führen Sie das Phyhox-Fahrstuhl Experiment durch und stellen sie die Daten für Ort, Geschwindigkeit und Beschleunigung als Funktion der Zeit mit matplotlib graphisch dar. Mit welchen Funktionen können die Daten beschrieben werden? Simulieren sie die Bewegung mit vpython oder pyplay"
   ]
  },
  {
   "cell_type": "markdown",
   "metadata": {},
   "source": [
    "Zunächst werden die im Experiment gewonnenen Daten eingelesen. Die Datei \"experiment\" enthält die Daten für Zeit, Druck, Höhe und Geschwindigkeit zu 42 verschiedenen Zeitpunkten (ca 42 Sekunden). \"experiment_beschleunigung\" enthält die genaue Beschleunigung zu 901 Messzeiten (ca. 45 Sekunden)."
   ]
  },
  {
   "cell_type": "code",
   "execution_count": 2,
   "metadata": {},
   "outputs": [],
   "source": [
    "#pd.read_excel(\"\\D:\\Dokumente\\Uni\\6.Semester\\Modellbildung und Simulation\\Aufgabe 1\\phyphoxTestdatenFahrstuhl.xls\")\n",
    "experiment = pd.read_csv(\"Pressure and velocity.csv\", \",\")\n",
    "experiment_beschleunigung = pd.read_csv(\"Acceleration.csv\", \",\")"
   ]
  },
  {
   "cell_type": "markdown",
   "metadata": {},
   "source": [
    "Dieser Erste Plot zeigt die genaue analytische Position des Aufzugs während des Experiments"
   ]
  },
  {
   "cell_type": "code",
   "execution_count": 4,
   "metadata": {},
   "outputs": [
    {
     "data": {
      "image/png": "[encoded data removed]",
      "text/plain": [
       "<matplotlib.figure.Figure at 0x9c5d49f048>"
      ]
     },
     "metadata": {},
     "output_type": "display_data"
    },
    {
     "name": "stdout",
     "output_type": "stream",
     "text": [
      "     Time (s)  Pressure (hPa)  Height (m)  Time (velocity) (s)  Velocity (m/s)\n",
      "0    0.000000      939.853287    0.000000             0.509613        0.021195\n",
      "1    1.019226      939.850845    0.021602             1.527084        0.037884\n",
      "2    2.034942      939.846497    0.060081             2.544128        0.000000\n",
      "3    3.053313      939.846497    0.060081             3.564467        0.000000\n",
      "4    4.075621      939.846497    0.060081             4.584975        0.047713\n",
      "5    5.094329      939.841003    0.108687             5.603575        0.013919\n",
      "6    6.112822      939.839401    0.122863             6.679430       -0.001191\n",
      "7    7.246037      939.839554    0.121513             7.755925       -0.113861\n",
      "8    8.265813      939.852676    0.005401             8.774297       -0.317295\n",
      "9    9.282780      939.889145   -0.317278             9.791477       -0.485675\n",
      "10  10.300175      939.944992   -0.811401            10.810337       -0.695947\n",
      "11  11.320500      940.025253   -1.521493            11.828760       -0.870467\n",
      "12  12.337019      940.125275   -2.406339            12.845457       -0.993525\n",
      "13  13.353895      940.239487   -3.416631            13.862318       -0.975540\n",
      "14  14.370741      940.351639   -4.408605            14.880339       -0.993057\n",
      "15  15.389936      940.466080   -5.420724            15.898542       -0.978978\n",
      "16  16.407148      940.578690   -6.416552            16.916528       -0.990638\n",
      "17  17.425909      940.692825   -7.425775            17.935064       -0.944611\n",
      "18  18.444220      940.801621   -8.387682            18.953695       -1.008134\n",
      "19  19.463171      940.917816   -9.414922            19.972341       -0.977512\n",
      "20  20.481512      941.030426  -10.410363            20.990621       -0.984819\n",
      "21  21.499731      941.143875  -11.413124            22.007174       -0.968026\n",
      "22  22.514617      941.255035  -12.395561            23.024321       -0.986786\n",
      "23  23.534026      941.368866  -13.401500            24.042159       -0.954585\n",
      "24  24.550292      941.478653  -14.371612            25.059997       -0.946923\n",
      "25  25.569701      941.587906  -15.336914            26.078063       -0.970548\n",
      "26  26.586425      941.699600  -16.323693            27.095620       -0.999970\n",
      "27  27.604815      941.814880  -17.342052            28.113375       -1.015032\n",
      "28  28.621935      941.931763  -18.374461            29.131639       -0.992822\n",
      "29  29.641344      942.046356  -19.386553            30.151263       -0.899159\n",
      "30  30.661181      942.150192  -20.303549            31.170672       -0.696204\n",
      "31  31.680163      942.230530  -21.012969            32.187100       -0.491697\n",
      "32  32.694036      942.286987  -21.511487            33.204473       -0.289024\n",
      "33  33.714910      942.320404  -21.806544            34.223577       -0.072837\n",
      "34  34.732244      942.328796  -21.880644            35.240911        0.000000\n",
      "35  35.749578      942.328796  -21.880644            36.258992        0.023803\n",
      "36  36.768407      942.326050  -21.856393            37.278640        0.031026\n",
      "37  37.788873      942.322464  -21.824733            38.297525        0.021852\n",
      "38  38.806177      942.319946  -21.802503            39.315027        0.023829\n",
      "39  39.823877      942.317200  -21.778252            40.332636        0.000000\n",
      "40  40.841394      942.317200  -21.778252            41.349837       -0.012587\n",
      "41  41.858281      942.318649  -21.791051                  NaN             NaN\n",
      "      Time (s)  Acceleration (m/s²)\n",
      "0     0.000000             0.070275\n",
      "1     0.049945             0.082091\n",
      "2     0.099890             0.069478\n",
      "3     0.149828             0.080623\n",
      "4     0.199773             0.077368\n",
      "5     0.249689             0.075112\n",
      "6     0.299657             0.077362\n",
      "7     0.349602             0.077223\n",
      "8     0.399543             0.075425\n",
      "9     0.449486             0.072461\n",
      "10    0.499428             0.073362\n",
      "11    0.549373             0.071889\n",
      "12    0.599315             0.059846\n",
      "13    0.649261             0.067183\n",
      "14    0.699184             0.068087\n",
      "15    0.749144             0.081467\n",
      "16    0.799090             0.051295\n",
      "17    0.849026             0.068669\n",
      "18    0.898973             0.058574\n",
      "19    0.948920             0.069286\n",
      "20    0.998837             0.075287\n",
      "21    1.048801             0.055447\n",
      "22    1.098734             0.072531\n",
      "23    1.148690             0.063517\n",
      "24    1.198623             0.056308\n",
      "25    1.248578             0.067805\n",
      "26    1.298519             0.055381\n",
      "27    1.348462             0.069042\n",
      "28    1.398407             0.057825\n",
      "29    1.448330             0.070607\n",
      "..         ...                  ...\n",
      "872  43.550250             0.082325\n",
      "873  43.600189            -0.009047\n",
      "874  43.650141             0.058910\n",
      "875  43.700073             0.039594\n",
      "876  43.750029             0.069578\n",
      "877  43.799978             0.070682\n",
      "878  43.849922             0.084923\n",
      "879  43.899866             0.063013\n",
      "880  43.949814             0.051911\n",
      "881  43.999758             0.098264\n",
      "882  44.049701             0.061221\n",
      "883  44.099625             0.080728\n",
      "884  44.149592             0.056167\n",
      "885  44.199511             0.051055\n",
      "886  44.249464             0.058420\n",
      "887  44.299430             0.113206\n",
      "888  44.349373             0.054174\n",
      "889  44.399321             0.091528\n",
      "890  44.449249             0.019802\n",
      "891  44.499210             0.055448\n",
      "892  44.549158             0.064208\n",
      "893  44.599102             0.101166\n",
      "894  44.649047             0.065488\n",
      "895  44.698973             0.057958\n",
      "896  44.748938             0.039766\n",
      "897  44.798735             0.056356\n",
      "898  44.848667             0.069440\n",
      "899  44.898633             0.073391\n",
      "900  44.948576             0.047357\n",
      "901  44.998525             0.049279\n",
      "\n",
      "[902 rows x 2 columns]\n"
     ]
    }
   ],
   "source": [
    "fig = plt.figure()\n",
    "ax1 = fig.add_subplot(111)\n",
    "ax1.set_title('Ort')\n",
    "ax1.set_xlabel('Zeit')\n",
    "ax1.set_ylabel('Höhe (m)')\n",
    "ax1.plot(experiment.values[:,0], experiment.values[:,2])\n",
    "plt.show()"
   ]
  },
  {
   "cell_type": "markdown",
   "metadata": {},
   "source": [
    "Da die Werte nicht stetig sind, lassen sich die Funktionen für Ort, Geschwindigkeit und Beschleunigung des Aufzugs nicht durch eine einzelne Funktion darstellen. Die Position für den Ort lässt sich annähernd durch die folgenden Fallunterscheidungen darstellen:\n",
    "\n",
    "\n",
    "\\begin{equation}\n",
    "   f(x) =\n",
    "   \\begin{cases}\n",
    "     0 & \\text{für } x < 8 \\\\\n",
    "     \\frac{(-x^2)}{35}+2 & \\text{für } 8 \\ge x < 11.8 \\\\\n",
    "     10-x & \\text{für } 11.8 \\ge x < 30\\\\\n",
    "     \\frac{(-x^2)}{130}-13.3 & \\text{für } 30 \\ge x < 34\\\\\n",
    "     -22 & \\text{für } \\ge 34\n",
    "   \\end{cases}\n",
    "\\end{equation}\n",
    "\n",
    "\n"
   ]
  },
  {
   "cell_type": "code",
   "execution_count": 5,
   "metadata": {},
   "outputs": [
    {
     "data": {
      "text/plain": [
       "[<matplotlib.lines.Line2D at 0x9c5d73cb70>]"
      ]
     },
     "execution_count": 5,
     "metadata": {},
     "output_type": "execute_result"
    },
    {
     "data": {
      "image/png": "[encoded data removed]",
      "text/plain": [
       "<matplotlib.figure.Figure at 0x9c5d793278>"
      ]
     },
     "metadata": {},
     "output_type": "display_data"
    }
   ],
   "source": [
    "def height(x):\n",
    "    if x < 8:\n",
    "        return 0.0\n",
    "    elif x < 11.8:\n",
    "        return (-x**2)/35+2\n",
    "    elif x < 30:\n",
    "        return 10-x\n",
    "    elif x < 34:\n",
    "        return (-x**2)/130-13.3\n",
    "    else:\n",
    "        return -22\n",
    "    \n",
    "    \n",
    "x = np.arange(0,45, 0.01)\n",
    "y = [height(xs) for xs in x]\n",
    "plt.plot(experiment.values[:,0], experiment.values[:,2])\n",
    "plt.plot(x,y)"
   ]
  },
  {
   "cell_type": "code",
   "execution_count": 6,
   "metadata": {},
   "outputs": [
    {
     "data": {
      "text/plain": [
       "array([ 0.00126955, -0.07983813,  0.63045598, -0.70123562])"
      ]
     },
     "execution_count": 6,
     "metadata": {},
     "output_type": "execute_result"
    }
   ],
   "source": [
    "# funktion aus python die polynom zurück gibt\n",
    "#np.polyfit(experiment.values[:,0], experiment.values[:,2], deg=3)"
   ]
  },
  {
   "cell_type": "code",
   "execution_count": 9,
   "metadata": {},
   "outputs": [],
   "source": [
    "#ort = np.polyfit(experiment.values[:,0], experiment.values[:,2], deg=10)\n",
    "#x = range(0, 43)\n",
    "#print(ort)\n",
    "#y = np.polyval(ort, x)\n",
    "#plt.plot(experiment.values[:,0], experiment.values[:,2])\n",
    "#plt.plot(x,y, 'r')\n",
    "#x2 = range(0,43)\n",
    "#y2= [hoehe(xs) for xs in x2]\n",
    "#plt.plot(x2, y2, 'r')\n",
    "#besch = sc.diff(ort)\n",
    "#ydot = np.polyval(besch, x)\n",
    "#plt.plot(x, ydot)"
   ]
  },
  {
   "cell_type": "code",
   "execution_count": 8,
   "metadata": {},
   "outputs": [
    {
     "data": {
      "text/plain": [
       "[<matplotlib.lines.Line2D at 0x9c59554668>]"
      ]
     },
     "execution_count": 8,
     "metadata": {},
     "output_type": "execute_result"
    },
    {
     "data": {
      "image/png": "[encoded data removed]",
      "text/plain": [
       "<matplotlib.figure.Figure at 0x9c59554470>"
      ]
     },
     "metadata": {},
     "output_type": "display_data"
    }
   ],
   "source": [
    "# geschwindigkeit (ableitung ort) du brauchst ein polynom um so ableiten zu können\n",
    "#gesch = sc.diff(ort)\n",
    "#x = range(0, 50)\n",
    "#ydot = np.polyval(gesch, x)\n",
    "#plt.plot(x, ydot)\n",
    "#beschleunigung\n",
    "#besch = sc.diff(gesch)\n",
    "#yddot = np.polyval(besch, x)\n",
    "#plt.plot(x, yddot)"
   ]
  },
  {
   "cell_type": "markdown",
   "metadata": {},
   "source": [
    "\n",
    "\n",
    "\\begin{equation}\n",
    "   f(x) =\n",
    "   \\begin{cases}\n",
    "     2x^{2} & \\text{f\"ur } x < 4 \\\\\n",
    "     2x^{3} + 4^{2} & \\text{f\"ur } 4 \\ge x \\textless 27 \\\\\n",
    "     3x^{2} \\cdot sin(x) & \\text{f\"ur } x \\ge 27 \n",
    "   \\end{cases}\n",
    "\\end{equation}"
   ]
  },
  {
   "cell_type": "code",
   "execution_count": 10,
   "metadata": {},
   "outputs": [
    {
     "data": {
      "text/plain": [
       "[<matplotlib.lines.Line2D at 0x9c59762e48>]"
      ]
     },
     "execution_count": 10,
     "metadata": {},
     "output_type": "execute_result"
    },
    {
     "data": {
      "image/png": "[encoded data removed]",
      "text/plain": [
       "<matplotlib.figure.Figure at 0x9c596d3c50>"
      ]
     },
     "metadata": {},
     "output_type": "display_data"
    }
   ],
   "source": [
    "fig2 = plt.figure()\n",
    "ax2 = fig2.add_subplot(111)\n",
    "ax2.set_title('Geschwindigkeit')\n",
    "ax2.set_xlabel('Zeit')\n",
    "ax2.set_ylabel('Vertikale Geschwindigkeit(m/s)')\n",
    "ax2.plot(experiment.values[:,0], experiment.values[:,4])"
   ]
  },
  {
   "cell_type": "code",
   "execution_count": 11,
   "metadata": {},
   "outputs": [
    {
     "data": {
      "text/plain": [
       "[<matplotlib.lines.Line2D at 0x9c5e6deb70>]"
      ]
     },
     "execution_count": 11,
     "metadata": {},
     "output_type": "execute_result"
    },
    {
     "data": {
      "image/png": "[encoded data removed]",
      "text/plain": [
       "<matplotlib.figure.Figure at 0x9c5e6a8898>"
      ]
     },
     "metadata": {},
     "output_type": "display_data"
    }
   ],
   "source": [
    "def speed(x):\n",
    "    if x < 0.9:\n",
    "        return x/20\n",
    "    elif x < 1.5:\n",
    "        return 0.05-x/40\n",
    "    elif x < 3:\n",
    "        return 0\n",
    "    elif x < 3.5:\n",
    "        return x/200\n",
    "    elif x < 4.5:\n",
    "        return x/100\n",
    "    elif x < 6:\n",
    "        return 0.01-(x-5)/40\n",
    "    elif x < 7:\n",
    "        return 0.6+-x/10\n",
    "    elif x < 12:\n",
    "        return 1.3-x/5.2\n",
    "    elif x < 16:\n",
    "        return -1\n",
    "    elif x < 17.4:\n",
    "        return (x/20)-1.8\n",
    "    elif x < 18.5:\n",
    "        return (-x/10)+0.82\n",
    "    elif x < 22:\n",
    "        return x/70-1.27\n",
    "    elif x < 22.7:\n",
    "        return -x/80-0.7\n",
    "    elif x < 24.7:\n",
    "        return x/80-1.26\n",
    "    elif x < 28:\n",
    "        return -x/80-0.65\n",
    "    elif x < 29:\n",
    "        return x/80-1.35\n",
    "    elif x < 30:\n",
    "        return x/10-3.85\n",
    "    elif x < 34.5:\n",
    "        return x/5.35-6.45\n",
    "    elif x < 37:\n",
    "        return x/80-0.42\n",
    "    elif x < 42:\n",
    "        return -x/80+0.5\n",
    "    \n",
    "        \n",
    "        \n",
    "fig2 = plt.figure()\n",
    "ax2 = fig2.add_subplot(111)\n",
    "ax2.set_title('Geschwindigkeit')\n",
    "ax2.set_xlabel('Zeit')\n",
    "ax2.set_ylabel('Vertikale Geschwindigkeit(m/s)')\n",
    "ax2.plot(experiment.values[:,0], experiment.values[:,4])\n",
    "\n",
    "x = np.arange(0,45, 0.01)\n",
    "y = [speed(xs) for xs in x]\n",
    "ax2.plot(x,y)"
   ]
  },
  {
   "cell_type": "code",
   "execution_count": null,
   "metadata": {},
   "outputs": [],
   "source": [
    "fig3 = plt.figure()\n",
    "ax3 = fig3.add_subplot(111)\n",
    "ax3.set_title('Beschleunigung')\n",
    "ax3.set_xlabel('Zeit')\n",
    "ax3.set_ylabel('z-Beschlunigung (m/s^2)')\n",
    "ax3.plot(experiment_beschleunigung.values[:,0], experiment_beschleunigung.values[:,1])\n",
    "plt.show()"
   ]
  },
  {
   "cell_type": "code",
   "execution_count": null,
   "metadata": {},
   "outputs": [],
   "source": [
    "def accel(x):\n",
    "    if x < 7.5:\n",
    "        return 0.07\n",
    "    elif x < 8.8:\n",
    "        return -0.669*x+5.089\n",
    "    elif x < 10.4:\n",
    "        return 0.512*x-5.373\n",
    "    elif x < 30.5:\n",
    "        return 0.07\n",
    "    elif x < 31.8:\n",
    "        return x/1.5-20.2\n",
    "    elif x < 33:\n",
    "        return -x/1.5+22\n",
    "    elif x < 33.4:\n",
    "        return x/3-11\n",
    "    elif x < 33.6:\n",
    "        return x/1.5-22.05\n",
    "    elif x < 33.8:\n",
    "        return -x/1.5+22.45\n",
    "    else:\n",
    "        return 0.07\n",
    "#zum schluss noch ein bisschen verzerrung rein bringen oder passt das so?    \n",
    "x = np.arange(0,45, 0.01)\n",
    "y = [accel(xs) for xs in x]\n",
    "plt.plot(experiment_beschleunigung.values[:,0], experiment_beschleunigung.values[:,1])\n",
    "plt.plot(x,y)\n",
    "print(experiment_beschleunigung.values[630,0], experiment_beschleunigung.values[630,1])"
   ]
  },
  {
   "cell_type": "code",
   "execution_count": null,
   "metadata": {},
   "outputs": [],
   "source": [
    "experiment.values[1,0], experiment.values[1,2]\n",
    "experiment.values[2,0], experiment.values[2,2]\n",
    "experiment.values[3,0], experiment.values[3,2]"
   ]
  },
  {
   "cell_type": "markdown",
   "metadata": {},
   "source": [
    "\n",
    "## (b)\n",
    "\n",
    "Welches Polynom beschreibt am bested die Daten Unbekannt.txt. Verwenden Sie pylab.polyfit\n"
   ]
  },
  {
   "cell_type": "code",
   "execution_count": null,
   "metadata": {},
   "outputs": [],
   "source": [
    "poly = np.loadtxt(\"UnbekannteDaten.txt\", skiprows=1)"
   ]
  },
  {
   "cell_type": "code",
   "execution_count": null,
   "metadata": {},
   "outputs": [],
   "source": [
    "plt.plot(poly[:,0], poly[:,1], 'o')"
   ]
  },
  {
   "cell_type": "code",
   "execution_count": null,
   "metadata": {},
   "outputs": [],
   "source": [
    "p = np.polyfit(poly[:,0], poly[:,1], deg=5)"
   ]
  },
  {
   "cell_type": "code",
   "execution_count": null,
   "metadata": {},
   "outputs": [],
   "source": [
    "x = range(-75,310)\n",
    "y = np.polyval(p,x)\n",
    "plt.plot(poly[:,0], poly[:,1], 'o')\n",
    "plt.plot(x,y)\n",
    "plt.show()"
   ]
  },
  {
   "cell_type": "markdown",
   "metadata": {},
   "source": [
    "\n",
    "### (c)\n",
    "\n",
    "Es werden verschiedene Massen an eine vertikale Feder gehängt und die Federlängen bestimmt die Daten befinden sich im File DatenFeder.txt. Führen Sie eine lineare Regession mit pylab.polyfit durch und bestimmen Sie die Federkonstanten für eine lineare ($F = Dx$) und eine kubische Funktion ($F = D_1x + D_2x^2 + D_3x^3$)"
   ]
  },
  {
   "cell_type": "code",
   "execution_count": null,
   "metadata": {},
   "outputs": [],
   "source": [
    "feder = np.loadtxt(\"DatenFeder.txt\", skiprows=1)"
   ]
  },
  {
   "cell_type": "code",
   "execution_count": null,
   "metadata": {},
   "outputs": [],
   "source": [
    "plt.plot(feder[:,0], feder[:,1], 'o')\n",
    "plt.show()"
   ]
  },
  {
   "cell_type": "code",
   "execution_count": null,
   "metadata": {},
   "outputs": [],
   "source": [
    "linear = np.polyfit(feder[:,0], feder[:,1], deg=1)"
   ]
  },
  {
   "cell_type": "code",
   "execution_count": null,
   "metadata": {},
   "outputs": [],
   "source": [
    "x = np.arange(0, 0.6, 0.01)\n",
    "y = [linear[0]*xs + linear[1] for xs in x]\n",
    "plt.plot(x,y)\n",
    "plt.plot(feder[:,0], feder[:,1], 'o')\n",
    "plt.show()"
   ]
  },
  {
   "cell_type": "code",
   "execution_count": null,
   "metadata": {},
   "outputs": [],
   "source": [
    "kubic = np.polyfit(feder[:,0], feder[:,1], deg=4)"
   ]
  },
  {
   "cell_type": "code",
   "execution_count": null,
   "metadata": {},
   "outputs": [],
   "source": [
    "x = np.arange(0, 0.6, 0.01)\n",
    "y = [kubic[0]*xs**4 + kubic[1]*xs**3 + kubic[2]*xs**2 + kubic[3]*xs + kubic[4] for xs in x]\n",
    "plt.plot(x,y)\n",
    "plt.plot(feder[:,0], feder[:,1], 'o')\n",
    "plt.show()"
   ]
  },
  {
   "cell_type": "markdown",
   "metadata": {},
   "source": [
    "\n",
    "### (d)\n",
    "\n",
    "Ein kleiner Ball wird mit einer bestimmten Anfangsgeschwindigkeit unter einem bestimmten Abwurfwinkel geworfen und die $x$- und $y$-Position zu verschiedenen Zeitpunkten mit einer Videoanalyse gemessen (DatenSchWurf.txt). Führen Sie eine lineare Regression mit pylab polyfit durch. Schätzen sie die Flugzeit und Geschwindigkeit des Balles ab.\n"
   ]
  },
  {
   "cell_type": "code",
   "execution_count": null,
   "metadata": {},
   "outputs": [],
   "source": [
    "wurf = np.loadtxt(\"DatenSchWurf.txt\", skiprows=1)"
   ]
  },
  {
   "cell_type": "code",
   "execution_count": null,
   "metadata": {},
   "outputs": [],
   "source": [
    "distance = wurf[:,0]\n",
    "height = wurf [:,1]\n",
    "plt.plot(distance, height)"
   ]
  },
  {
   "cell_type": "code",
   "execution_count": null,
   "metadata": {},
   "outputs": [],
   "source": [
    "height2 = wurf[:,2]\n",
    "plt.plot(distance, height2)"
   ]
  },
  {
   "cell_type": "code",
   "execution_count": null,
   "metadata": {},
   "outputs": [],
   "source": [
    "height3 = wurf[:,3]\n",
    "plt.plot(distance, height3)"
   ]
  },
  {
   "cell_type": "code",
   "execution_count": null,
   "metadata": {},
   "outputs": [],
   "source": [
    "height4 = wurf[:,4]\n",
    "plt.plot(distance, height4)"
   ]
  },
  {
   "cell_type": "code",
   "execution_count": null,
   "metadata": {},
   "outputs": [],
   "source": [
    "distance = wurf[:,0]\n",
    "height = wurf[:,1:4]\n",
    "c = np.polyfit(distance, height, deg=2)\n",
    "c"
   ]
  },
  {
   "cell_type": "code",
   "execution_count": null,
   "metadata": {},
   "outputs": [],
   "source": [
    "x = np.arange(0, 30, 0.1)\n",
    "print(c[0,2],c[1,2],c[2,2])\n",
    "y = [c[0,2]*xs**2 + c[1,2]*xs + c[2,2] for xs in x]\n",
    "plt.plot(x,y)\n",
    "plt.plot(wurf[:,0], wurf[:,3], 'o')\n",
    "plt.show()"
   ]
  },
  {
   "cell_type": "markdown",
   "metadata": {},
   "source": [
    "# 2. Wurfbewegung"
   ]
  },
  {
   "cell_type": "markdown",
   "metadata": {},
   "source": [
    "\n",
    "## (a)\n",
    "\n",
    "Ein Objekt wird von $x = x_0$ mit einer Anfangsgeschwindigkeit $v_0$ und einem Anfangswinkel $\\theta_0$ abgeworfen. Die Reibung kann vernachlässtigt werden. Die einzige Kraft ist die Gravitationskraft in $y$-Richtung.\n"
   ]
  },
  {
   "cell_type": "markdown",
   "metadata": {},
   "source": [
    "\n",
    "### i.\n",
    "\n",
    "Lösen Sie die Differentialgleichungen: $\\ddot{x} = 0, \\ddot{y} = -g$ numerisch und vergleichen Sie das Ergebnis mit der analytischen Lösungen. Berechnen Sie die Wurfweite als Funktion des Abwurfwinkels.\n"
   ]
  },
  {
   "cell_type": "code",
   "execution_count": null,
   "metadata": {},
   "outputs": [],
   "source": [
    "# g Variable: Gravitationskraft\n",
    "#g = 9.81\n",
    "g = sy.symbols('g')"
   ]
  },
  {
   "cell_type": "code",
   "execution_count": null,
   "metadata": {},
   "outputs": [],
   "source": [
    "# analytische Lösung des DGL\n",
    "t, y0, v0, theta0 = sy.symbols('t, y0, v0, theta0')\n",
    "y, dy = sy.symbols('y, \\dot{y}', function=True)\n",
    "vx0 = v0*sy.cos(theta0)\n",
    "vy0 = v0*sy.sin(theta0)\n",
    "print(\"Anfangsgeschwindigkeit(v_x0 bzw. x') in x-Richtung in Abhängigkeit der Anfangsgeschwindigkeit und des Abwurfwinkels\")\n",
    "display(vx0)\n",
    "print(\"Anfangsgeschwindigkeit(v_y0 bzw. y') in y-Richtung in Abhängigkeit der Anfangsgeschwindigkeit und des Abwurfwinkels\")\n",
    "display(vy0)\n",
    "\n",
    "eq_dy = sy.Eq(sy.Derivative(dy(t), t, 1), -g)\n",
    "print(\"y'' Ausgedrückt durch d/dt y'\")\n",
    "display(eq_dy)\n",
    "sol_dy = sy.dsolve(eq_dy)\n",
    "print('Allgemeine Lösung für y\\'')\n",
    "display(sol_dy)\n",
    "ics = {dy(0): vy0}\n",
    "print(\"Anfangsbedingung für y\\'\")\n",
    "display(ics)\n",
    "C_dy_eq = sy.Eq(sol_dy.lhs.subs(t,0).subs(ics), sol_dy.rhs.subs(t,0))\n",
    "display('Eingesetzt', C_dy_eq)\n",
    "C_dy_sol = sy.solve(C_dy_eq)\n",
    "display('Lösung für Konstante', C_dy_sol)\n",
    "dy = sol_dy.subs(C_dy_sol[0])\n",
    "display('Lösung von y\\' mit Anfangsbedingung', dy)\n",
    "eq_y = sy.Eq(sy.Derivative(y(t),t , 1), dy.rhs)\n",
    "display('y\\' dargestellt durch d/dt y', eq_y)\n",
    "sol_y = sy.dsolve(eq_y)\n",
    "display('Allgemeine Lösung für y', sol_y)\n",
    "ics = {y(0): y0}\n",
    "display('Anfangesbedingung für y', ics)\n",
    "C_y_eq = sy.Eq(sol_y.lhs.subs(t, 0).subs(ics), sol_y.rhs.subs(t,0))\n",
    "display('Eingesetzt ', C_y_eq)\n",
    "C_y_sol = sy.solve(C_y_eq)\n",
    "display('Lösung für Konstante', C_y_sol)\n",
    "if isinstance(C_y_sol[0], dict):\n",
    "    y = sol_y.subs(C_y_sol[0]).rhs\n",
    "else:\n",
    "    y = sol_y.subs({C_y_eq.rhs : C_y_eq.lhs}).rhs\n",
    "display('Lösung von y mit Anfangsbedingung', y)"
   ]
  },
  {
   "cell_type": "code",
   "execution_count": null,
   "metadata": {},
   "outputs": [],
   "source": [
    "t, x0, v0, theta0, x_v = sy.symbols('t, x0, v0, theta0, x_v')\n",
    "x, dx = sy.symbols('x, \\dot{x}', function=True)\n",
    "eq_dx = sy.Eq(sy.Derivative(dx(t), t, 1), 0)\n",
    "display('dot{x} Gleichung', eq_dx)\n",
    "sol_dx = sy.dsolve(eq_dx)\n",
    "display('Lösung für dot{x} ', sol_dx)\n",
    "ics = {dx(0): vx0}\n",
    "display('Anfangsbedingung', ics)\n",
    "C_dx_eq = sy.Eq(sol_dx.lhs.subs(t,0).subs(ics), sol_dx.rhs.subs(t,0))\n",
    "display('Eingesetzt und nach Konstante aufgelöst', C_dx_eq)\n",
    "C_dx_sol = sy.solve(C_dx_eq)\n",
    "display('Lösung für Konstante', C_dx_sol)\n",
    "dx = sol_dx.subs(C_dx_sol[0])\n",
    "display('Konstante in dot{x} eingesetzt', dx)\n",
    "eq_x = sy.Eq(sy.Derivative(x(t),t , 1), dx.rhs)\n",
    "display('Gleichung für x', eq_x)\n",
    "sol_x = sy.dsolve(eq_x)\n",
    "display('Lösung für x', sol_x)\n",
    "ics = {x(0): x0}\n",
    "display('Anfangsbedingung', ics)\n",
    "C_x_eq = sy.Eq(sol_x.lhs.subs(t, 0).subs(ics), sol_x.rhs.subs(t,0))\n",
    "display('Eingesetzt und nach Konstante aufglöst', C_x_eq)\n",
    "C_x_sol = sy.solve(C_x_eq)\n",
    "display('Lösung für Konstante', C_x_sol)\n",
    "x = sy.Eq(x_v, sol_x.subs(C_x_sol[0]).rhs)\n",
    "display('Lösung für x mit Konstante eingesetzt: ', x)"
   ]
  },
  {
   "cell_type": "code",
   "execution_count": null,
   "metadata": {},
   "outputs": [],
   "source": [
    "t_x = sy.solve(x, t)\n",
    "display('x nach t aufgelöst: ', t_x)\n",
    "display('alte y Lösung: ', y)\n",
    "y_v = y.subs({t: t_x[0]})\n",
    "display('t in abhängigkeit von x eingesetzt:', y_v)\n",
    "#y_v = sy.simplify(y_v)\n",
    "y_v = sy.trigsimp(y_v)\n",
    "display('vereinfacht:', y_v)"
   ]
  },
  {
   "cell_type": "code",
   "execution_count": null,
   "metadata": {},
   "outputs": [],
   "source": [
    "x0_val = 0\n",
    "v0_val = 20\n",
    "theta0_val = math.radians(45)\n",
    "y0_val = 0\n",
    "g_val = 9.81"
   ]
  },
  {
   "cell_type": "markdown",
   "metadata": {},
   "source": [
    "#### Herleitung der Funktion der Wurfweite in Abhängigkeit des Abwurfwinkels\n",
    "Symmetrische Funktion => $y(t)$ erreicht seinen Hochpunkt nach der hälfte der Zeit.\n",
    "Berechnen der Wurfweite\n",
    "\n",
    "1) Hochpunkt von $y(t)$ berechnen ($\\dot{y}(t)=0$) und nach $t$ (der Zeit auflösen)\n",
    "\n",
    "2) $2*t_H$ ($t_H$: Lösung aus 1)) in $x(t)$ einsetzen"
   ]
  },
  {
   "cell_type": "code",
   "execution_count": null,
   "metadata": {},
   "outputs": [],
   "source": [
    "t = sy.symbols('t')\n",
    "display(dy)\n",
    "höhepunkt = sy.Eq(0, dy.rhs)\n",
    "display(höhepunkt)\n",
    "t_H = sy.solve(höhepunkt, t)\n",
    "display('t_H', t_H)\n",
    "display(x)\n",
    "max_x = x.rhs.subs(t, 2*t_H[0])\n",
    "display(max_x)\n",
    "display(sy.simplify(max_x))"
   ]
  },
  {
   "cell_type": "code",
   "execution_count": null,
   "metadata": {},
   "outputs": [],
   "source": [
    "def x_max(theta0):\n",
    "    print('XMAX')\n",
    "    print('x0', x0_val)\n",
    "    print('v0', v0_val)\n",
    "    print('theta0', theta0)\n",
    "    print('g_val', g_val)\n",
    "    return x0_val + ((v0_val)**2*sy.sin(2*theta0))/g_val"
   ]
  },
  {
   "cell_type": "code",
   "execution_count": null,
   "metadata": {},
   "outputs": [],
   "source": [
    "def anLsg(x0_val, y0_val, v0_val, theta0_val):\n",
    "    display('y ohne subs:', y_v)\n",
    "    #print('ANLSG')\n",
    "    #print('x0', x0_val)\n",
    "    #print('v0', v0_val)\n",
    "    #print('theta0', theta0_val)\n",
    "    #print('g_val', g_val)\n",
    "    y_val = y_v.subs({x0: x0_val, y0: y0_val, v0: v0_val, theta0: theta0_val, g: g_val})\n",
    "    #display('y: ', y_val)\n",
    "    xs = np.arange(x0_val, x_max(theta0_val), 0.07)\n",
    "    display('max x:', x_max(theta0_val))\n",
    "    #for x_v in xs:\n",
    "    y_list = []\n",
    "    for x_i in xs:\n",
    "        y_i = y_val.subs({x_v: x_i})\n",
    "        y_list.append(y_i)\n",
    "    return xs, y_list"
   ]
  },
  {
   "cell_type": "code",
   "execution_count": null,
   "metadata": {},
   "outputs": [],
   "source": [
    "x0_val = 0\n",
    "theta0_val = math.radians(45)\n",
    "x_a, y_a = anLsg(x0_val, y0_val, v0_val, theta0_val)\n",
    "plt.plot(x_a, y_a)\n",
    "plt.title(r'Analytisch Wurf mit $x_0=0, y0=0 v_0=20, \\theta_0=45°$')\n",
    "plt.xlabel('x (Weite)')\n",
    "plt.ylabel('y (Höhe)')\n",
    "x0_val = 0\n",
    "theta0_val = math.radians(80)\n",
    "x_a_2, y_a_2 = anLsg(x0_val, 0, 20, theta0_val)\n",
    "plt.plot(x_a_2, y_a_2, 'r')\n",
    "plt.show()"
   ]
  },
  {
   "cell_type": "code",
   "execution_count": null,
   "metadata": {},
   "outputs": [],
   "source": [
    "t_start = 0\n",
    "h = 0.5"
   ]
  },
  {
   "cell_type": "code",
   "execution_count": null,
   "metadata": {},
   "outputs": [],
   "source": [
    "ddx = 0\n",
    "ddy = -g_val"
   ]
  },
  {
   "cell_type": "code",
   "execution_count": null,
   "metadata": {},
   "outputs": [],
   "source": [
    "def t_max(v0, theta0):\n",
    "    return (v0*sy.sin(theta0))/g_val"
   ]
  },
  {
   "cell_type": "code",
   "execution_count": null,
   "metadata": {},
   "outputs": [],
   "source": [
    "def y_max(v0, theta0, y0):\n",
    "    t_m = t_max(v0,theta0)\n",
    "    return y0+v0*sy.sin(theta0)*t_m-(g_val*t_m**2)/2"
   ]
  },
  {
   "cell_type": "code",
   "execution_count": null,
   "metadata": {},
   "outputs": [],
   "source": [
    "def euler(var, h, dvar):\n",
    "    return var + h*dvar"
   ]
  },
  {
   "cell_type": "code",
   "execution_count": null,
   "metadata": {},
   "outputs": [],
   "source": [
    "def numLsg(theta0, v0, y0, x0, h):\n",
    "    t_max = (v0*sy.sin(theta0))/g_val\n",
    "    t_end = 2*t_max # symmetrisch\n",
    "    print(t_max)\n",
    "    vx0_e = v0*sy.cos(theta0)\n",
    "    vy0_e = v0*sy.sin(theta0)\n",
    "    #sy.pprint(vx0_e)\n",
    "    y0_val = y0\n",
    "    vx_n = vx0_e\n",
    "    x_n = x0_val\n",
    "    x_e = [x0_val]\n",
    "    y_n = y0_val\n",
    "    vy_n = vy0_e\n",
    "    y_e = [y0_val]\n",
    "    display(t_end)\n",
    "    for ts in np.arange(t_start, t_end, h):\n",
    "        vy_np1 = euler(vy_n, h, ddy)\n",
    "        y_np1 = euler(y_n, h, vy_np1)\n",
    "        vy_n = vy_np1\n",
    "        y_n = y_np1\n",
    "        vx_np1 = euler(vx_n, h, ddx)\n",
    "        x_np1 = euler(x_n, h, vx_np1)\n",
    "        if y_np1 >= y0_val:\n",
    "            y_e.append(y_np1)\n",
    "            x_e.append(x_np1)\n",
    "        else:\n",
    "            y_e.append(y_np1)\n",
    "            x_e.append(x_np1)\n",
    "            break\n",
    "        vx_n = vx_np1\n",
    "        x_n = x_np1\n",
    "    return x_e, y_e\n",
    "#sy.pprint(x_e)"
   ]
  },
  {
   "cell_type": "code",
   "execution_count": null,
   "metadata": {},
   "outputs": [],
   "source": [
    "plots = []\n",
    "names = []\n",
    "for h_val in np.arange(0.01, 0.7, 0.2):\n",
    "    x_e, y_e = numLsg(theta0_val, v0_val, y0_val, x0_val, h=h_val)\n",
    "    l, = plt.plot(x_e, y_e)\n",
    "    plots.append(l,)\n",
    "    names.append('h = '+ str(h_val))\n",
    "x_a, y_a = anLsg(x0_val, y0_val, v0_val, theta0_val)\n",
    "plt.plot(x_a, y_a, 'ro')\n",
    "#plt.plot(x_e, y_e)\n",
    "plt.title(r'Vergleich Wurf mit $x_0=0, v_0=20, \\theta_0=45°$')\n",
    "plt.xlabel('x (Weite)')\n",
    "plt.ylabel('y (Höhe)')\n",
    "plt.legend(plots, names)\n",
    "x_m = float(x_max(theta0_val))\n",
    "y_m = float(y_max(v0_val, theta0_val, y0_val))\n",
    "plt.axis([x0_val-(x_m/20), x_m+(x_m/20), y0_val, y_m+(y_m/20)])\n",
    "plt.show()"
   ]
  },
  {
   "cell_type": "markdown",
   "metadata": {},
   "source": [
    "\n",
    "### ii.\n",
    "\n",
    "Formulieren Sie die Aufgabe als Randwertproblem für einen senkrechten Wurf ($\\theta_0 = \\pi$). Bestimmen Sie die Anfangsgeschwindigkeit bei vorgegebener Wurfhöhe mit Hilfe einer binären Suche.\n"
   ]
  },
  {
   "cell_type": "code",
   "execution_count": null,
   "metadata": {},
   "outputs": [],
   "source": [
    "TOL = 1e-5\n",
    "x0_val = 0\n",
    "theta0_val = math.pi/2\n",
    "display(theta0_val)\n",
    "y0_val = 0\n"
   ]
  },
  {
   "cell_type": "code",
   "execution_count": null,
   "metadata": {},
   "outputs": [],
   "source": [
    "def numLsg(theta0, v0, y0, x0, h):\n",
    "    t_max = 100\n",
    "    t_end = 2*t_max # symmetrisch\n",
    "    print(t_max)\n",
    "    vx0_e = v0*sy.cos(theta0)\n",
    "    print('anfangs gesch in x richtung:', vx0_e)\n",
    "    vy0_e = v0*sy.sin(theta0)\n",
    "    print('anfangs gesch in y richtung:', vy0_e)\n",
    "    #sy.pprint(vx0_e)\n",
    "    y0_val = y0\n",
    "    vx_n = vx0_e\n",
    "    x_n = x0_val\n",
    "    x_e = [x0_val]\n",
    "    y_n = y0_val\n",
    "    vy_n = vy0_e\n",
    "    y_e = [y0_val]\n",
    "    display(t_end)\n",
    "    for ts in np.arange(t_start, t_end, h):\n",
    "        vy_np1 = euler(vy_n, h, ddy)\n",
    "        y_np1 = euler(y_n, h, vy_np1)\n",
    "        vy_n = vy_np1\n",
    "        y_n = y_np1\n",
    "        vx_np1 = euler(vx_n, h, ddx)\n",
    "        x_np1 = euler(x_n, h, vx_np1)\n",
    "        if y_np1 >= y0_val:\n",
    "            y_e.append(y_np1)\n",
    "            x_e.append(x_np1)\n",
    "        else:\n",
    "            y_e.append(y_np1)\n",
    "            print(y_np1)\n",
    "            x_e.append(x_np1)\n",
    "            break\n",
    "        vx_n = vx_np1\n",
    "        x_n = x_np1\n",
    "    return x_e, y_e"
   ]
  },
  {
   "cell_type": "code",
   "execution_count": null,
   "metadata": {},
   "outputs": [],
   "source": [
    "def t_max(v0, theta0):\n",
    "    #print(v0, theta0)\n",
    "    return (v0*sy.sin(theta0))/g_val"
   ]
  },
  {
   "cell_type": "code",
   "execution_count": null,
   "metadata": {},
   "outputs": [],
   "source": [
    "def y_max(v0, theta0, y0):\n",
    "    #print(theta0)\n",
    "    t_m = t_max(v0, theta0)\n",
    "    #print(t_m)\n",
    "    return y0+v0*sy.sin(theta0)*t_m-(g_val*t_m**2)/2"
   ]
  },
  {
   "cell_type": "code",
   "execution_count": null,
   "metadata": {},
   "outputs": [],
   "source": [
    "def BVP(y_h, v0=100):\n",
    "    #print(theta0_val)\n",
    "    v0_val = v0/2\n",
    "    step = v0_val/2\n",
    "    y_maximum = y_max(v0_val, theta0_val, y0_val)\n",
    "    while abs(y_maximum-y_h) > TOL:\n",
    "        #print('maximum y', y_maximum)\n",
    "        #print('step', step)\n",
    "        if y_maximum-y_h < 0:\n",
    "            #print('Kleiner')\n",
    "            v0_val = v0_val + step\n",
    "            #print('v0', v0_val)\n",
    "            y_maximum = y_max(v0_val, theta0_val, y0_val)\n",
    "        elif y_maximum-y_h > 0:\n",
    "            #print('größer')\n",
    "            #print('v0', v0_val)\n",
    "            v0_val = v0_val - step\n",
    "            y_maximum = y_max(v0_val, theta0_val, y0_val)\n",
    "        step = step/2\n",
    "    return y_maximum, v0_val"
   ]
  },
  {
   "cell_type": "code",
   "execution_count": null,
   "metadata": {
    "scrolled": false
   },
   "outputs": [],
   "source": [
    "y_l, v0_val = BVP(1.1)\n",
    "print(y_l)\n",
    "print(v0_val)"
   ]
  },
  {
   "cell_type": "markdown",
   "metadata": {},
   "source": [
    "\n",
    "## (b)\n",
    "\n",
    "Ein kugelförmiges Objekt wird von einem Punkt $x_0$ unter einem Winkel $\\theta_0$ abgeworfen. Es wirkt eine Reibungskraft entgegen der Bewegungsrichtung mit dem Bertag: $$F = 0.5\\pi R^2\\rho Cv^2$$ ($R$: Radius der Kugel, $p$:Dichte der Luft, $v$: Geschwindigkeit der Kugel, $C = 0.5$)\n",
    "\n",
    "### i.\n",
    "\n",
    "Zeigen Sie, dass das Problem mit den folgenden Bewegungsgleichungen beschrieben werden kann. $$\\ddot{x} = - \\frac{0.5\\pi R^2C \\rho }{m}\\dot{x}\\sqrt{\\dot{x}^2 + \\dot{y}^2}$$ $$\\ddot{y} = -g- \\frac{0.5\\pi R^2C\\rho}{m}\\dot{y}\\sqrt{\\dot{x}^2 + \\dot{y}^2}$$\n"
   ]
  },
  {
   "cell_type": "code",
   "execution_count": null,
   "metadata": {},
   "outputs": [],
   "source": [
    "R, rho, v, C, m, pi, dotx, doty, v_x, v_y = sy.symbols('R, rho, v, C, m, pi, \\dot{x}, \\dot{y}, v_x, v_y')\n",
    "ddx, dx = sy.symbols('ddx, dx', function=True)"
   ]
  },
  {
   "cell_type": "code",
   "execution_count": null,
   "metadata": {},
   "outputs": [],
   "source": [
    "v_val = sy.sqrt(dotx**2 + doty**2)\n",
    "B = 0.5*pi*R**2*rho*C\n",
    "B_prop = B/m\n",
    "display(B_prop)\n",
    "F_drag = -B*v**2\n",
    "F_drag_prop = -B_prop*v**2\n",
    "display(F_drag_prop)\n",
    "F_drag_x = F_drag_prop*v_x/v\n",
    "display(F_drag_x)\n",
    "ddx_Lsg = -0 + F_drag_x\n",
    "display('ddot{x}:', ddx_Lsg)\n",
    "ddx_Lsg = ddx_Lsg.subs(v, v_val)\n",
    "display(ddx_Lsg)\n",
    "ddx_Lsg = ddx_Lsg.subs(v_x, dotx)\n",
    "display(ddx_Lsg)\n",
    "F_drag_y = F_drag_prop*v_y/v\n",
    "display(F_drag_y)\n",
    "ddy_Lsg = -g + F_drag_y\n",
    "display(ddy_Lsg)\n",
    "ddy_Lsg = ddy_Lsg.subs(v, v_val)\n",
    "display(ddy_Lsg)\n",
    "ddy_Lsg = ddy_Lsg.subs(v_y, doty)\n",
    "display(ddy_Lsg)"
   ]
  },
  {
   "cell_type": "markdown",
   "metadata": {},
   "source": [
    "\n",
    "### ii.\n",
    "\n",
    "Führen Sie die beiden Differentialgleichungen 2. Ordnung in ein System von 4 Differentialgleichungen 1. Ordnung über und visualisieren Sie die Wurftrajektorie.\n"
   ]
  },
  {
   "cell_type": "code",
   "execution_count": null,
   "metadata": {},
   "outputs": [],
   "source": [
    "ddy, ddx, dy, dx = sy.symbols('ddy, ddx, dy, dx', function=True)\n",
    "x1, y1, v0, theta0 = sy.symbols('x_1, y_1, v_0, theta_0')\n",
    "vx0 = v0*sy.cos(theta0)\n",
    "vy0 = v0*sy.sin(theta0)"
   ]
  },
  {
   "cell_type": "code",
   "execution_count": null,
   "metadata": {},
   "outputs": [],
   "source": [
    "eq_dy_1 = sy.Eq(y1, dy(t))\n",
    "display(eq_dy_1)\n",
    "eq_dy_1_s = sy.solve(eq_dy_1)\n",
    "#display(eq_dy_1_s)\n",
    "eq_dy = sy.Eq(sy.Derivative(dy(t), t, 1), (-(0.5*C)/m*R**2*rho*pi*dy(t)*sy.sqrt(dy(t)**2+dx(t)**2)-9.81))\n",
    "display(eq_dy)\n",
    "eq_dy_s = eq_dy.rhs.subs(dy(t), y1)\n",
    "display(eq_dy_s)\n",
    "eq_dy = sy.Eq(sy.Derivative(dy(t), t, 1), eq_dy_s)\n",
    "eq_dy_s = eq_dy.rhs.subs(dx(t), x1)\n",
    "eq_dy = sy.Eq(sy.Derivative(dy(t), t, 1), eq_dy_s)\n",
    "display(eq_dy_s)\n",
    "display(eq_dy)\n",
    "display(sy.dsolve(eq_dy))\n",
    "sol_dy = sy.dsolve(eq_dy)\n",
    "ics = {dy(0): vy0}\n",
    "display('Anfangsbedingung', ics)\n",
    "C_dy_eq = sy.Eq(sol_dy.lhs.subs(t, 0).subs(ics), sol_dy.rhs.subs(t, 0))\n",
    "display('Eingesetzt mit t=0', C_dy_eq)\n",
    "C_dy_sol = sy.solve(C_dy_eq)\n",
    "display('Lösung für Konstante', C_dy_sol)\n",
    "dy_Lsg = sol_dy.subs(C_dy_sol[0])\n",
    "display('dy mit eingesetzter Konstante', dy_Lsg)"
   ]
  },
  {
   "cell_type": "code",
   "execution_count": null,
   "metadata": {},
   "outputs": [],
   "source": [
    "eq_dx_1 = sy.Eq(x1, dx(t))\n",
    "display(eq_dx_1)\n",
    "eq_dx = sy.Eq(sy.Derivative(dx(t),t, 1), (-0.5*C)/m*R**2*rho*pi*dx(t)*sy.sqrt(dy(t)**2+dx(t)**2))\n",
    "display(eq_dx)\n",
    "eq_dx_s = eq_dx.rhs.subs(dx(t), x1)\n",
    "eq_dx = sy.Eq(sy.Derivative(dx(t), t, 1), eq_dx_s)\n",
    "eq_dx_s = eq_dx.rhs.subs(dy(t), y1)\n",
    "eq_dx = sy.Eq(sy.Derivative(dx(t), t, 1), eq_dx_s)\n",
    "display(eq_dx)\n",
    "display(eq_dx_s)\n",
    "sol_dx = sy.dsolve(eq_dx)\n",
    "display(sol_dx)\n",
    "#sol_dy = sy.dsolve(eq_dy)\n",
    "#sol_dy\n",
    "#display(sol_dy)\n",
    "ics = {dx(0): vx0}\n",
    "C_dx_eq = sy.Eq(sol_dx.lhs.subs(t,0).subs(ics), sol_dy.rhs.subs(t,0))\n",
    "display(C_dx_eq)\n",
    "C_dx_sol = sy.solve(C_dx_eq)\n",
    "display(C_dx_sol)\n",
    "dx_Lsg = sol_dx.subs(C_dx_sol[0])\n",
    "display(dx_Lsg)"
   ]
  },
  {
   "cell_type": "code",
   "execution_count": null,
   "metadata": {},
   "outputs": [],
   "source": [
    "R_val = 2.0 #Radius\n",
    "rho_val = 1.2041 #Dichte der Luft\n",
    "C_val = 0.5\n",
    "m_val = 100"
   ]
  },
  {
   "cell_type": "code",
   "execution_count": null,
   "metadata": {},
   "outputs": [],
   "source": [
    "# Zum Testen noch E-Mail schreiben\n",
    "#dx, dy = sy.symbols('dx, dy')\n",
    "dy_val = dy_Lsg.rhs\n",
    "display(dy_val)\n",
    "dy_val = dy_val.subs(R, R_val).subs(C, C_val).subs(pi, math.pi).subs(m, m_val).subs(rho, rho_val).subs(v0, v0_val).subs(theta0, theta0_val)\n",
    "display(dy_val)\n",
    "\n",
    "ddy_val = ddy_Lsg.subs(R, R_val).subs(C, C_val).subs(pi, math.pi).subs(m, m_val).subs(rho, rho_val)\n",
    "display(ddy_val)\n",
    "\n",
    "dx_val = dx_Lsg.rhs\n",
    "display(dx_val)\n",
    "dx_val = dx_val.subs(R, R_val).subs(C, C_val).subs(pi, math.pi).subs(m, m_val).subs(rho, rho_val).subs(v0, v0_val).subs(theta0, theta0_val)\n",
    "display(dx_val)\n",
    "\n",
    "ddx_val = ddx_Lsg.subs(R, R_val).subs(C, C_val).subs(pi, math.pi).subs(m, m_val).subs(rho, rho_val)\n",
    "display(ddx_val)\n",
    "\n"
   ]
  },
  {
   "cell_type": "code",
   "execution_count": null,
   "metadata": {},
   "outputs": [],
   "source": [
    "def euler_air_resistance(ddy_n, ddx_n, dy_n, dx_n, y_n, x_n, y_e_f, x_e_f, h):\n",
    "    for ts in np.arange(0, 100, h):\n",
    "        dy_np1 = euler(dy_n, h , ddy_n)\n",
    "        dx_np1 = euler(dx_n, h , ddx_n)\n",
    "        ddy_np1 = ddy_t.subs(dotx, dx_np1).subs(doty, dy_np1)\n",
    "        ddx_np1 = ddx_t.subs(dotx, dx_np1).subs(doty, dy_np1)\n",
    "        y_np1 = euler(y_n, h, dy_np1)\n",
    "        x_np1 = euler(x_n, h, dx_np1)\n",
    "        if y_np1 >= y0_val:\n",
    "            y_e_f.append(y_np1)\n",
    "            x_e_f.append(x_np1)\n",
    "        else:\n",
    "            y_e_f.append(y_np1)\n",
    "            x_e_f.append(x_np1)\n",
    "            erg = {'old n': [ddy_n, ddx_n, dy_n, dx_n, y_n, x_n], 'value lists' : [y_e_f, x_e_f], 'old h': h}\n",
    "            del ddy_n, ddx_n, dy_n, dx_n, y_n, x_n, y_e_f, x_e_f\n",
    "            return erg\n",
    "            break\n",
    "        ddy_n = ddy_np1\n",
    "        ddx_n = ddx_np1\n",
    "        dy_n = dy_np1\n",
    "        dx_n = dx_np1\n",
    "        y_n = y_np1\n",
    "        x_n = x_np1\n",
    "        "
   ]
  },
  {
   "cell_type": "code",
   "execution_count": null,
   "metadata": {},
   "outputs": [],
   "source": [
    "h = 0.001\n",
    "y0_val = 0\n",
    "vx0 = v0_val*sy.cos(theta0_val)\n",
    "vy0 = v0_val*sy.sin(theta0_val)\n",
    "#display(vx0)\n",
    "#display(vy0)\n",
    "\n",
    "#ddy_t = a_y.subs(x1, vx0)\n",
    "#display(ddy_t)\n",
    "#ddy_t = ddy_t.subs(y1, vy0)\n",
    "#display(ddy_t)\n",
    "\n",
    "#dy1 = euler(vy0, h, ddy0)\n",
    "#display(dy0)\n",
    "\n",
    "#y1_e = euler(y0, h, vy0)\n",
    "#display(y1_e)\n",
    "\n",
    "ddy_t = ddy_val\n",
    "display(ddy_t)\n",
    "dy_t = dy_val\n",
    "display(dy_t)\n",
    "\n",
    "ddy_n = ddy_t.subs(dotx, vx0).subs(doty, vy0)\n",
    "display(ddy_n)\n",
    "\n",
    "dy_n = dy_t.subs(x1, vx0).subs(y1, vy0).subs(t, 0)\n",
    "display(dy_n)\n",
    "\n",
    "\n",
    "ddx_t = ddx_val\n",
    "display(ddx_t)\n",
    "dx_t = dx_val\n",
    "display(dx_t)\n",
    "\n",
    "ddx_n = ddx_t.subs(dotx, vx0).subs(doty, vy0)\n",
    "display(ddx_n)\n",
    "\n",
    "dx_n = dx_t.subs(x1, vx0).subs(y1, vy0).subs(t, 0)\n",
    "display(dx_n)\n",
    "\n",
    "y_n = y0_val\n",
    "x_n = x0_val\n",
    "\n",
    "y_e_f = [y0_val]\n",
    "x_e_f = [x0_val]"
   ]
  },
  {
   "cell_type": "code",
   "execution_count": null,
   "metadata": {
    "scrolled": true
   },
   "outputs": [],
   "source": [
    "erg = euler_air_resistance(ddy_n, ddx_n, dy_n, dx_n, y_n, x_n, y_e_f, x_e_f, h)\n",
    "lists = erg['value lists']\n",
    "y_e_f = lists[0]\n",
    "x_e_f = lists[1]\n",
    "plt.plot(x_e_f, y_e_f, 'b')\n",
    "plt.plot(x_a, y_a, 'r--')\n",
    "plt.show()\n",
    "print(x_e_f[-1])\n",
    "print(y_e_f[-1])\n",
    "    #display(ddy_np1)"
   ]
  },
  {
   "cell_type": "code",
   "execution_count": null,
   "metadata": {},
   "outputs": [],
   "source": [
    "#def Wurfsteigung(vy):\n",
    "#    eq_th = sy.Eq(0, vy)\n",
    "#    display(eq_th)\n",
    "#    t_x = sy.solve(eq_th, t)\n",
    "#    display(t_x)"
   ]
  },
  {
   "cell_type": "code",
   "execution_count": null,
   "metadata": {},
   "outputs": [],
   "source": [
    "#Wurfdauer(dy_t)\n",
    "#ddy_n = ddy_t.subs(t, 0)\n",
    "#dy_n = vx0"
   ]
  },
  {
   "cell_type": "markdown",
   "metadata": {},
   "source": [
    "\n",
    "### iii.\n",
    "\n",
    "Untersuchen Sie die Wurfweite als Funktion der Masse und des Abwurfwinkels\n"
   ]
  },
  {
   "cell_type": "code",
   "execution_count": null,
   "metadata": {},
   "outputs": [],
   "source": [
    "TOL = 1e-5 #größt möglich bei vernünftiger zeit"
   ]
  },
  {
   "cell_type": "code",
   "execution_count": null,
   "metadata": {},
   "outputs": [],
   "source": [
    "\"\"\"def e_for_x_max(ddy_n, dy_n, ddx_n, dx_n, x_n, y_n, h):\n",
    "    for ts in np.arange(0, 100, h):\n",
    "        print('Übergabe')\n",
    "        display(ddy_n, dy_n, ddx_n, dx_n, x_n, y_n, h)\n",
    "        dy_np1 = euler(dy_n, h , ddy_n)\n",
    "        dx_np1 = euler(dx_n, h , ddx_n)\n",
    "        ddy_np1 = ddy_t.subs(dotx, dx_np1).subs(doty, dy_np1)\n",
    "        ddx_np1 = ddx_t.subs(dotx, dx_np1).subs(doty, dy_np1)\n",
    "        y_np1 = euler(y_n, h, dy_np1)\n",
    "        x_np1 = euler(x_n, h, dx_np1)\n",
    "        if abs(y_np1-y0_val) < TOL: \n",
    "            print('(y_np1-y0_val) < TOL')\n",
    "            display('x_np1', x_np1)\n",
    "            display('y_np1', y_np1)\n",
    "            return x_np1\n",
    "            break       \n",
    "        elif y_np1 < y0_val:\n",
    "            print('y_np1 < y0_val')\n",
    "            display('x_np1', x_np1)\n",
    "            display('y_np1', y_np1)\n",
    "            del dy_np1\n",
    "            del dx_np1\n",
    "            del ddy_np1\n",
    "            del ddx_np1\n",
    "            del y_np1\n",
    "            del x_np1\n",
    "            x_np1 = e_for_x_max(ddy_n, dy_n, ddx_n, dx_n, x_n, y_n, h/2)\n",
    "            display('got back x_np1', x_np1)\n",
    "            return x_np1\n",
    "        else: \n",
    "            #print('Error!! it is bigger, why?')#\n",
    "            print('else')\n",
    "            display('x_np1', x_np1)\n",
    "            display('y_np1', y_np1)\n",
    "        ddy_n = ddy_np1\n",
    "        ddx_n = ddx_np1\n",
    "        dy_n = dy_np1\n",
    "        dx_n = dx_np1\n",
    "        y_n = y_np1\n",
    "        x_n = x_np1\n",
    "    #return x_np1\n",
    "\"\"\"    "
   ]
  },
  {
   "cell_type": "code",
   "execution_count": null,
   "metadata": {},
   "outputs": [],
   "source": [
    "def x_max(masse, theta0_var):\n",
    "    display('masse', masse)\n",
    "    display('theta0_var', theta0_var)\n",
    "    dy_val = dy_Lsg.rhs\n",
    "    dy_val = dy_val.subs(R, R_val).subs(C, C_val).subs(pi, math.pi).subs(m, masse).subs(rho, rho_val).subs(v0, v0_val).subs(theta0, theta0_var)\n",
    "\n",
    "    ddy_val = ddy_Lsg.subs(R, R_val).subs(C, C_val).subs(pi, math.pi).subs(m, masse).subs(rho, rho_val)\n",
    "\n",
    "    dx_val = dx_Lsg.rhs\n",
    "    dx_val = dx_val.subs(R, R_val).subs(C, C_val).subs(pi, math.pi).subs(m, m_val).subs(rho, rho_val).subs(v0, v0_val).subs(theta0, theta0_var)\n",
    "\n",
    "    ddx_val = ddx_Lsg.subs(R, R_val).subs(C, C_val).subs(pi, math.pi).subs(m, m_val).subs(rho, rho_val)\n",
    "    h = 0.01\n",
    "    y0_val = 0\n",
    "    vx0 = v0_val*sy.cos(theta0_val)\n",
    "    vy0 = v0_val*sy.sin(theta0_val)\n",
    "    #display(vx0)\n",
    "    #display(vy0)\n",
    "\n",
    "    #ddy_t = a_y.subs(x1, vx0)\n",
    "    #display(ddy_t)\n",
    "    #ddy_t = ddy_t.subs(y1, vy0)\n",
    "    #display(ddy_t)\n",
    "\n",
    "    #dy1 = euler(vy0, h, ddy0)\n",
    "    #display(dy0)\n",
    "\n",
    "    #y1_e = euler(y0, h, vy0)\n",
    "    #display(y1_e)\n",
    "\n",
    "    ddy_t = ddy_val\n",
    "    #display(ddy_t)\n",
    "    dy_t = dy_val\n",
    "    #display(dy_t)\n",
    "\n",
    "    ddy_n = ddy_t.subs(dotx, vx0).subs(doty, vy0)\n",
    "    #display(ddy_n)\n",
    "\n",
    "    dy_n = dy_t.subs(x1, vx0).subs(y1, vy0).subs(t, 0)\n",
    "    #display('first dy_n', dy_n)\n",
    "\n",
    "\n",
    "    ddx_t = ddx_val\n",
    "    #display(ddx_t)\n",
    "    dx_t = dx_val\n",
    "    #display(dx_t)\n",
    "\n",
    "    ddx_n = ddx_t.subs(dotx, vx0).subs(doty, vy0)\n",
    "    #display(ddx_n)\n",
    "\n",
    "    dx_n = dx_t.subs(x1, vx0).subs(y1, vy0).subs(t, 0)\n",
    "    #display(dx_n)\n",
    "\n",
    "    y_n = y0_val\n",
    "    x_n = x0_val\n",
    "    \n",
    "    erg = euler_air_resistance(ddy_n, ddx_n, dy_n, dx_n, y_n, x_n, y_e_f, x_e_f, h)\n",
    "    maximum_x = erg['value lists'][1][-1]\n",
    "    max_y = erg['value lists'][0][-1]\n",
    "    print('max_y', max_y)\n",
    "    \n",
    "    while abs(max_y-y0_val) > TOL:\n",
    "        ddy_n = erg['old n'][0]\n",
    "        ddx_n = erg['old n'][1]\n",
    "        dy_n = erg['old n'][2]\n",
    "        dx_n = erg['old n'][3]\n",
    "        y_n = erg['old n'][4]\n",
    "        x_n = erg['old n'][5]\n",
    "        h = (erg['old h']/2)\n",
    "        #print('ddy_n', ddy_n, 'ddx_n', ddx_n, 'dy_n', dy_n, 'dx_n', dx_n, 'y_n', y_n, 'x_n', x_n, 'h', h)\n",
    "        erg = euler_air_resistance(ddy_n, ddx_n, dy_n, dx_n, y_n, x_n, y_e_f, x_e_f, h)\n",
    "        maximum_x = erg['value lists'][1][-1]\n",
    "        max_y = erg['value lists'][0][-1]\n",
    "        #print('max_y', max_y)\n",
    "    \n",
    "    return maximum_x"
   ]
  },
  {
   "cell_type": "code",
   "execution_count": null,
   "metadata": {},
   "outputs": [],
   "source": [
    "maximal = x_max(1000, theta0_val)\n",
    "print('maximal x: ', maximal)\n",
    "maximal = x_max(100, theta0_val)\n",
    "print('maximal x: ', maximal)\n",
    "maximal = x_max(10, theta0_val)\n",
    "print('maximal x: ', maximal)\n",
    "maximal = x_max(100, math.radians(45))\n",
    "print('maximal x: ', maximal)\n",
    "maximal = x_max(100, math.radians(80))\n",
    "print('maximal x: ', maximal)\n",
    "maximal = x_max(100, math.radians(10))\n",
    "print('maximal x: ', maximal)"
   ]
  },
  {
   "cell_type": "code",
   "execution_count": null,
   "metadata": {},
   "outputs": [],
   "source": []
  },
  {
   "cell_type": "code",
   "execution_count": null,
   "metadata": {},
   "outputs": [],
   "source": []
  }
 ],
 "metadata": {
  "kernelspec": {
   "display_name": "Python 3",
   "language": "python",
   "name": "python3"
  },
  "language_info": {
   "codemirror_mode": {
    "name": "ipython",
    "version": 3
   },
   "file_extension": ".py",
   "mimetype": "text/x-python",
   "name": "python",
   "nbconvert_exporter": "python",
   "pygments_lexer": "ipython3",
   "version": "3.6.4"
  }
 },
 "nbformat": 4,
 "nbformat_minor": 2
}
