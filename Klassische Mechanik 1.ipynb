{
 "cells": [
  {
   "cell_type": "code",
   "execution_count": 1,
   "metadata": {},
   "outputs": [],
   "source": [
    "import pandas as pd\n",
    "import matplotlib.pyplot as plt\n",
    "import sympy as sy\n",
    "sy.init_printing(use_latex=True)\n",
    "import numpy as np\n",
    "import math\n",
    "import scipy as sc"
   ]
  },
  {
   "cell_type": "code",
   "execution_count": 26,
   "metadata": {},
   "outputs": [
    {
     "ename": "NameError",
     "evalue": "name 'sphere' is not defined",
     "output_type": "error",
     "traceback": [
      "\u001b[1;31m---------------------------------------------------------------------------\u001b[0m",
      "\u001b[1;31mNameError\u001b[0m                                 Traceback (most recent call last)",
      "\u001b[1;32m<ipython-input-26-b919c6b7ad5b>\u001b[0m in \u001b[0;36m<module>\u001b[1;34m()\u001b[0m\n\u001b[1;32m----> 1\u001b[1;33m \u001b[0msphere\u001b[0m\u001b[1;33m(\u001b[0m\u001b[1;33m)\u001b[0m\u001b[1;33m\u001b[0m\u001b[0m\n\u001b[0m",
      "\u001b[1;31mNameError\u001b[0m: name 'sphere' is not defined"
     ]
    }
   ],
   "source": [
    "sphere()"
   ]
  },
  {
   "cell_type": "markdown",
   "metadata": {},
   "source": [
    "# 1. Experimentelle Daten"
   ]
  },
  {
   "cell_type": "markdown",
   "metadata": {},
   "source": [
    "# (a)\n",
    "\n",
    "Führen Sie das Phyhox-Fahrstuhl Experiment durch und stellen sie die Daten für Ort, Geschwindigkeit und Beschleunigung als Funktion der Zeit mit matplotlib graphisch dar. Mit welchen Funktionen können die Daten beschrieben werden? Simulieren sie die Bewegung mit vpython oder pyplay"
   ]
  },
  {
   "cell_type": "code",
   "execution_count": 27,
   "metadata": {},
   "outputs": [],
   "source": [
    "#pd.read_excel(\"\\D:\\Dokumente\\Uni\\6.Semester\\Modellbildung und Simulation\\Aufgabe 1\\phyphoxTestdatenFahrstuhl.xls\")\n",
    "experiment = pd.read_csv(\"Pressure and velocity.csv\", \",\")\n",
    "experiment_beschleunigung = pd.read_csv(\"Acceleration.csv\", \",\")"
   ]
  },
  {
   "cell_type": "code",
   "execution_count": 28,
   "metadata": {},
   "outputs": [
    {
     "data": {
      "image/png": "[encoded data removed]",
      "text/plain": [
       "<matplotlib.figure.Figure at 0x20b7a812a20>"
      ]
     },
     "metadata": {},
     "output_type": "display_data"
    }
   ],
   "source": [
    "fig = plt.figure()\n",
    "ax1 = fig.add_subplot(111)\n",
    "ax1.set_title('Ort')\n",
    "ax1.set_xlabel('Zeit')\n",
    "ax1.set_ylabel('Höhe (m)')\n",
    "ax1.plot(experiment.values[:,0], experiment.values[:,2])\n",
    "plt.show()"
   ]
  },
  {
   "cell_type": "code",
   "execution_count": 29,
   "metadata": {},
   "outputs": [
    {
     "data": {
      "text/plain": [
       "[<matplotlib.lines.Line2D at 0x20b7a7443c8>]"
      ]
     },
     "execution_count": 29,
     "metadata": {},
     "output_type": "execute_result"
    },
    {
     "data": {
      "image/png": "[encoded data removed]",
      "text/plain": [
       "<matplotlib.figure.Figure at 0x20b7a86ceb8>"
      ]
     },
     "metadata": {},
     "output_type": "display_data"
    }
   ],
   "source": [
    "def height(x):\n",
    "    if x < 8:\n",
    "        return 0.0\n",
    "    elif x < 8.4:\n",
    "        return 8.2-x\n",
    "    elif x < 8.7:\n",
    "        return 8.5 - x\n",
    "    elif x < 9:\n",
    "        return 8.8 -x\n",
    "    elif x < 9.3:\n",
    "        return 9.1-x\n",
    "    elif x < 9.6:\n",
    "        return 9.2-x\n",
    "    elif x < 10:\n",
    "        return 9.4-x\n",
    "    elif x < 10.3:\n",
    "        return 9.7-x\n",
    "    elif x < 10.6:\n",
    "        return 9.85-x\n",
    "    elif x < 11.8:\n",
    "        return 9.9-x\n",
    "    elif x < 30:\n",
    "        return 10-x\n",
    "    elif x < 31.5:\n",
    "        return 10.5-x\n",
    "    elif x < 31.8:\n",
    "        return 10.7-x\n",
    "    elif x < 32.1:\n",
    "        return 10.9-x\n",
    "    elif x < 32.4:\n",
    "        return 11.1-x\n",
    "    elif x < 32.7:\n",
    "        return 11.3-x\n",
    "    elif x < 32.9:\n",
    "        return 11.45-x\n",
    "    elif x < 33.1:\n",
    "        return 11.6-x\n",
    "    elif x < 33.3:\n",
    "        return 11.75-x\n",
    "    elif x < 42:\n",
    "        return -22\n",
    "    \n",
    "x = np.arange(0,45, 0.01)\n",
    "y = [height(xs) for xs in x]\n",
    "plt.plot(experiment.values[:,0], experiment.values[:,2])\n",
    "plt.plot(x,y)"
   ]
  },
  {
   "cell_type": "code",
   "execution_count": 30,
   "metadata": {},
   "outputs": [
    {
     "data": {
      "text/plain": [
       "array([ 0.00126955, -0.07983813,  0.63045598, -0.70123562])"
      ]
     },
     "execution_count": 30,
     "metadata": {},
     "output_type": "execute_result"
    }
   ],
   "source": [
    "# funktion aus python die polynom zurück gibt\n",
    "np.polyfit(experiment.values[:,0], experiment.values[:,2], deg=3)"
   ]
  },
  {
   "cell_type": "code",
   "execution_count": 31,
   "metadata": {},
   "outputs": [
    {
     "name": "stdout",
     "output_type": "stream",
     "text": [
      "[ 3.43080136e-13 -3.73582796e-12 -6.47703595e-09  6.88877633e-07\n",
      " -3.22524522e-05  8.09953174e-04 -1.10851866e-02  7.57536369e-02\n",
      " -2.32271565e-01  2.65352663e-01 -1.81583159e-02]\n"
     ]
    },
    {
     "data": {
      "text/plain": [
       "[<matplotlib.lines.Line2D at 0x20b7a826278>]"
      ]
     },
     "execution_count": 31,
     "metadata": {},
     "output_type": "execute_result"
    },
    {
     "data": {
      "image/png": "[encoded data removed]",
      "text/plain": [
       "<matplotlib.figure.Figure at 0x20b7a8262b0>"
      ]
     },
     "metadata": {},
     "output_type": "display_data"
    }
   ],
   "source": [
    "ort = np.polyfit(experiment.values[:,0], experiment.values[:,2], deg=10)\n",
    "x = range(0, 43)\n",
    "print(ort)\n",
    "y = np.polyval(ort, x)\n",
    "plt.plot(experiment.values[:,0], experiment.values[:,2])\n",
    "plt.plot(x,y, 'r')\n",
    "#x2 = range(0,43)\n",
    "#y2= [hoehe(xs) for xs in x2]\n",
    "#plt.plot(x2, y2, 'r')\n",
    "#besch = sc.diff(ort)\n",
    "#ydot = np.polyval(besch, x)\n",
    "#plt.plot(x, ydot)"
   ]
  },
  {
   "cell_type": "code",
   "execution_count": 32,
   "metadata": {},
   "outputs": [
    {
     "data": {
      "text/plain": [
       "[<matplotlib.lines.Line2D at 0x20b7a821a90>]"
      ]
     },
     "execution_count": 32,
     "metadata": {},
     "output_type": "execute_result"
    },
    {
     "data": {
      "image/png": "[encoded data removed]",
      "text/plain": [
       "<matplotlib.figure.Figure at 0x20b7a706f98>"
      ]
     },
     "metadata": {},
     "output_type": "display_data"
    }
   ],
   "source": [
    "# geschwindigkeit (ableitung ort) du brauchst ein polynom um so ableiten zu können\n",
    "gesch = sc.diff(ort)\n",
    "x = range(0, 50)\n",
    "ydot = np.polyval(gesch, x)\n",
    "plt.plot(x, ydot)\n",
    "#beschleunigung\n",
    "besch = sc.diff(gesch)\n",
    "yddot = np.polyval(besch, x)\n",
    "plt.plot(x, yddot)"
   ]
  },
  {
   "cell_type": "code",
   "execution_count": 33,
   "metadata": {},
   "outputs": [
    {
     "data": {
      "text/plain": [
       "[<matplotlib.lines.Line2D at 0x20b7a263710>]"
      ]
     },
     "execution_count": 33,
     "metadata": {},
     "output_type": "execute_result"
    },
    {
     "data": {
      "image/png": "[encoded data removed]",
      "text/plain": [
       "<matplotlib.figure.Figure at 0x20b7a58b0b8>"
      ]
     },
     "metadata": {},
     "output_type": "display_data"
    }
   ],
   "source": [
    "fig2 = plt.figure()\n",
    "ax2 = fig2.add_subplot(111)\n",
    "ax2.set_title('Geschwindigkeit')\n",
    "ax2.set_xlabel('Zeit')\n",
    "ax2.set_ylabel('Vertikale Geschwindigkeit(m/s)')\n",
    "ax2.plot(experiment.values[:,0], experiment.values[:,4])"
   ]
  },
  {
   "cell_type": "code",
   "execution_count": 34,
   "metadata": {},
   "outputs": [
    {
     "data": {
      "text/plain": [
       "[<matplotlib.lines.Line2D at 0x20b7a96fa90>]"
      ]
     },
     "execution_count": 34,
     "metadata": {},
     "output_type": "execute_result"
    },
    {
     "data": {
      "image/png": "[encoded data removed]",
      "text/plain": [
       "<matplotlib.figure.Figure at 0x20b7a93f198>"
      ]
     },
     "metadata": {},
     "output_type": "display_data"
    }
   ],
   "source": [
    "def speed(x):\n",
    "    if x < 0.9:\n",
    "        return x/20\n",
    "    elif x < 1.5:\n",
    "        return 0.05-x/40\n",
    "    elif x < 3:\n",
    "        return 0\n",
    "    elif x < 3.5:\n",
    "        return x/200\n",
    "    elif x < 4.5:\n",
    "        return x/100\n",
    "    elif x < 6:\n",
    "        return 0.01-(x-5)/40\n",
    "    elif x < 7:\n",
    "        return 0.6+-x/10\n",
    "    elif x < 12:\n",
    "        return 1.3-x/5.2\n",
    "    elif x < 16:\n",
    "        return -1\n",
    "    elif x < 17.4:\n",
    "        return (x/20)-1.8\n",
    "    elif x < 18.5:\n",
    "        return (-x/10)+0.82\n",
    "    elif x < 22:\n",
    "        return x/70-1.27\n",
    "    elif x < 22.7:\n",
    "        return -x/80-0.7\n",
    "    elif x < 24.7:\n",
    "        return x/80-1.26\n",
    "    elif x < 28:\n",
    "        return -x/80-0.65\n",
    "    elif x < 29:\n",
    "        return x/80-1.35\n",
    "    elif x < 30:\n",
    "        return x/10-3.85\n",
    "    elif x < 34.5:\n",
    "        return x/5.35-6.45\n",
    "    elif x < 37:\n",
    "        return x/80-0.42\n",
    "    elif x < 42:\n",
    "        return -x/80+0.5\n",
    "    \n",
    "        \n",
    "        \n",
    "fig2 = plt.figure()\n",
    "ax2 = fig2.add_subplot(111)\n",
    "ax2.set_title('Geschwindigkeit')\n",
    "ax2.set_xlabel('Zeit')\n",
    "ax2.set_ylabel('Vertikale Geschwindigkeit(m/s)')\n",
    "ax2.plot(experiment.values[:,0], experiment.values[:,4])\n",
    "\n",
    "x = np.arange(0,45, 0.01)\n",
    "y = [speed(xs) for xs in x]\n",
    "ax2.plot(x,y)"
   ]
  },
  {
   "cell_type": "code",
   "execution_count": 35,
   "metadata": {},
   "outputs": [
    {
     "data": {
      "image/png": "[encoded data removed]",
      "text/plain": [
       "<matplotlib.figure.Figure at 0x20b7a13da58>"
      ]
     },
     "metadata": {},
     "output_type": "display_data"
    }
   ],
   "source": [
    "fig3 = plt.figure()\n",
    "ax3 = fig3.add_subplot(111)\n",
    "ax3.set_title('Beschleunigung')\n",
    "ax3.set_xlabel('Zeit')\n",
    "ax3.set_ylabel('z-Beschlunigung (m/s^2)')\n",
    "ax3.plot(experiment_beschleunigung.values[:,0], experiment_beschleunigung.values[:,1])\n",
    "plt.show()"
   ]
  },
  {
   "cell_type": "code",
   "execution_count": 36,
   "metadata": {},
   "outputs": [
    {
     "name": "stdout",
     "output_type": "stream",
     "text": [
      "31.46377846 0.931424996\n"
     ]
    },
    {
     "data": {
      "image/png": "[encoded data removed]",
      "text/plain": [
       "<matplotlib.figure.Figure at 0x20b7a9d9a90>"
      ]
     },
     "metadata": {},
     "output_type": "display_data"
    }
   ],
   "source": [
    "def accel(x):\n",
    "    if x < 7.5:\n",
    "        return 0.07\n",
    "    elif x < 8.8:\n",
    "        return -0.669*x+5.089\n",
    "    elif x < 10.4:\n",
    "        return 0.512*x-5.373\n",
    "    elif x < 30.5:\n",
    "        return 0.07\n",
    "    elif x < 31.8:\n",
    "        return x/1.5-20.2\n",
    "    elif x < 33:\n",
    "        return -x/1.5+22\n",
    "    elif x < 33.4:\n",
    "        return x/3-11\n",
    "    elif x < 33.6:\n",
    "        return x/1.5-22.05\n",
    "    elif x < 33.8:\n",
    "        return -x/1.5+22.45\n",
    "    else:\n",
    "        return 0.07\n",
    "#zum schluss noch ein bisschen verzerrung rein bringen oder passt das so?    \n",
    "x = np.arange(0,45, 0.01)\n",
    "y = [accel(xs) for xs in x]\n",
    "plt.plot(experiment_beschleunigung.values[:,0], experiment_beschleunigung.values[:,1])\n",
    "plt.plot(x,y)\n",
    "print(experiment_beschleunigung.values[630,0], experiment_beschleunigung.values[630,1])"
   ]
  },
  {
   "cell_type": "code",
   "execution_count": 37,
   "metadata": {},
   "outputs": [
    {
     "data": {
      "image/png": "[encoded data removed]",
      "text/latex": [
       "$$\\left ( 3.053313, \\quad 0.060081318700000004\\right )$$"
      ],
      "text/plain": [
       "(3.053313, 0.060081318700000004)"
      ]
     },
     "execution_count": 37,
     "metadata": {},
     "output_type": "execute_result"
    }
   ],
   "source": [
    "experiment.values[1,0], experiment.values[1,2]\n",
    "experiment.values[2,0], experiment.values[2,2]\n",
    "experiment.values[3,0], experiment.values[3,2]"
   ]
  },
  {
   "cell_type": "markdown",
   "metadata": {},
   "source": [
    "\n",
    "## (b)\n",
    "\n",
    "Welches Polynom beschreibt am bested die Daten Unbekannt.txt. Verwenden Sie pylab.polyfit\n"
   ]
  },
  {
   "cell_type": "code",
   "execution_count": 39,
   "metadata": {},
   "outputs": [],
   "source": [
    "poly = np.loadtxt(\"UnbekannteDaten.txt\", skiprows=1)"
   ]
  },
  {
   "cell_type": "code",
   "execution_count": 64,
   "metadata": {},
   "outputs": [
    {
     "data": {
      "text/plain": [
       "[<matplotlib.lines.Line2D at 0x20b7aae9c88>]"
      ]
     },
     "execution_count": 64,
     "metadata": {},
     "output_type": "execute_result"
    },
    {
     "data": {
      "image/png": "[encoded data removed]",
      "text/plain": [
       "<matplotlib.figure.Figure at 0x20b7bd2ac88>"
      ]
     },
     "metadata": {},
     "output_type": "display_data"
    }
   ],
   "source": [
    "plt.plot(poly[:,0], poly[:,1], 'o')"
   ]
  },
  {
   "cell_type": "code",
   "execution_count": 65,
   "metadata": {},
   "outputs": [],
   "source": [
    "p = np.polyfit(poly[:,0], poly[:,1], deg=5)"
   ]
  },
  {
   "cell_type": "code",
   "execution_count": 66,
   "metadata": {},
   "outputs": [
    {
     "data": {
      "image/png": "[encoded data removed]",
      "text/plain": [
       "<matplotlib.figure.Figure at 0x20b7a92c5f8>"
      ]
     },
     "metadata": {},
     "output_type": "display_data"
    }
   ],
   "source": [
    "x = range(-75,310)\n",
    "y = np.polyval(p,x)\n",
    "plt.plot(poly[:,0], poly[:,1], 'o')\n",
    "plt.plot(x,y)\n",
    "plt.show()"
   ]
  },
  {
   "cell_type": "markdown",
   "metadata": {},
   "source": [
    "\n",
    "### (c)\n",
    "\n",
    "Es werden verschiedene Massen an eine vertikale Feder gehängt und die Federlängen bestimmt die Daten befinden sich im File DatenFeder.txt. Führen Sie eine lineare Regession mit pylab.polyfit durch und bestimmen Sie die Federkonstanten für eine lineare ($F = Dx$) und eine kubische Funktion ($F = D_1x + D_2x^2 + D_3x^3$)"
   ]
  },
  {
   "cell_type": "code",
   "execution_count": 68,
   "metadata": {},
   "outputs": [],
   "source": [
    "feder = np.loadtxt(\"DatenFeder.txt\", skiprows=1)"
   ]
  },
  {
   "cell_type": "code",
   "execution_count": 69,
   "metadata": {},
   "outputs": [
    {
     "data": {
      "image/png": "[encoded data removed]",
      "text/plain": [
       "<matplotlib.figure.Figure at 0x20b7bd2ac18>"
      ]
     },
     "metadata": {},
     "output_type": "display_data"
    }
   ],
   "source": [
    "plt.plot(feder[:,0], feder[:,1], 'o')\n",
    "plt.show()"
   ]
  },
  {
   "cell_type": "code",
   "execution_count": 70,
   "metadata": {},
   "outputs": [],
   "source": [
    "linear = np.polyfit(feder[:,0], feder[:,1], deg=1)"
   ]
  },
  {
   "cell_type": "code",
   "execution_count": 71,
   "metadata": {},
   "outputs": [
    {
     "data": {
      "image/png": "[encoded data removed]",
      "text/plain": [
       "<matplotlib.figure.Figure at 0x20b7a6fa668>"
      ]
     },
     "metadata": {},
     "output_type": "display_data"
    }
   ],
   "source": [
    "x = np.arange(0, 0.6, 0.01)\n",
    "y = [linear[0]*xs + linear[1] for xs in x]\n",
    "plt.plot(x,y)\n",
    "plt.plot(feder[:,0], feder[:,1], 'o')\n",
    "plt.show()"
   ]
  },
  {
   "cell_type": "code",
   "execution_count": 72,
   "metadata": {},
   "outputs": [],
   "source": [
    "kubic = np.polyfit(feder[:,0], feder[:,1], deg=4)"
   ]
  },
  {
   "cell_type": "code",
   "execution_count": 73,
   "metadata": {},
   "outputs": [
    {
     "data": {
      "image/png": "[encoded data removed]",
      "text/plain": [
       "<matplotlib.figure.Figure at 0x20b7aa30908>"
      ]
     },
     "metadata": {},
     "output_type": "display_data"
    }
   ],
   "source": [
    "x = np.arange(0, 0.6, 0.01)\n",
    "y = [kubic[0]*xs**4 + kubic[1]*xs**3 + kubic[2]*xs**2 + kubic[3]*xs + kubic[4] for xs in x]\n",
    "plt.plot(x,y)\n",
    "plt.plot(feder[:,0], feder[:,1], 'o')\n",
    "plt.show()"
   ]
  },
  {
   "cell_type": "markdown",
   "metadata": {},
   "source": [
    "\n",
    "### (d)\n",
    "\n",
    "Ein kleiner Ball wird mit einer bestimmten Anfangsgeschwindigkeit unter einem bestimmten Abwurfwinkel geworfen und die $x$- und $y$-Position zu verschiedenen Zeitpunkten mit einer Videoanalyse gemessen (DatenSchWurf.txt). Führen Sie eine lineare Regression mit pylab polyfit durch. Schätzen sie die Flugzeit und Geschwindigkeit des Balles ab.\n"
   ]
  },
  {
   "cell_type": "code",
   "execution_count": 74,
   "metadata": {},
   "outputs": [],
   "source": [
    "wurf = np.loadtxt(\"DatenSchWurf.txt\", skiprows=1)"
   ]
  },
  {
   "cell_type": "code",
   "execution_count": 76,
   "metadata": {},
   "outputs": [
    {
     "data": {
      "text/plain": [
       "[<matplotlib.lines.Line2D at 0x20b7be12eb8>]"
      ]
     },
     "execution_count": 76,
     "metadata": {},
     "output_type": "execute_result"
    },
    {
     "data": {
      "image/png": "[encoded data removed]",
      "text/plain": [
       "<matplotlib.figure.Figure at 0x20b7bdc9ef0>"
      ]
     },
     "metadata": {},
     "output_type": "display_data"
    }
   ],
   "source": [
    "distance = wurf[:,0]\n",
    "height = wurf [:,1]\n",
    "plt.plot(distance, height)"
   ]
  },
  {
   "cell_type": "code",
   "execution_count": 77,
   "metadata": {},
   "outputs": [
    {
     "data": {
      "text/plain": [
       "[<matplotlib.lines.Line2D at 0x20b7be74da0>]"
      ]
     },
     "execution_count": 77,
     "metadata": {},
     "output_type": "execute_result"
    },
    {
     "data": {
      "image/png": "[encoded data removed]",
      "text/plain": [
       "<matplotlib.figure.Figure at 0x20b7be25940>"
      ]
     },
     "metadata": {},
     "output_type": "display_data"
    }
   ],
   "source": [
    "height2 = wurf[:,2]\n",
    "plt.plot(distance, height2)"
   ]
  },
  {
   "cell_type": "code",
   "execution_count": 78,
   "metadata": {},
   "outputs": [
    {
     "data": {
      "text/plain": [
       "[<matplotlib.lines.Line2D at 0x20b7bed7eb8>]"
      ]
     },
     "execution_count": 78,
     "metadata": {},
     "output_type": "execute_result"
    },
    {
     "data": {
      "image/png": "[encoded data removed]",
      "text/plain": [
       "<matplotlib.figure.Figure at 0x20b7be5a400>"
      ]
     },
     "metadata": {},
     "output_type": "display_data"
    }
   ],
   "source": [
    "height3 = wurf[:,3]\n",
    "plt.plot(distance, height3)"
   ]
  },
  {
   "cell_type": "code",
   "execution_count": 79,
   "metadata": {},
   "outputs": [
    {
     "data": {
      "text/plain": [
       "[<matplotlib.lines.Line2D at 0x20b7bf3af60>]"
      ]
     },
     "execution_count": 79,
     "metadata": {},
     "output_type": "execute_result"
    },
    {
     "data": {
      "image/png": "[encoded data removed]",
      "text/plain": [
       "<matplotlib.figure.Figure at 0x20b7becc550>"
      ]
     },
     "metadata": {},
     "output_type": "display_data"
    }
   ],
   "source": [
    "height4 = wurf[:,4]\n",
    "plt.plot(distance, height4)"
   ]
  },
  {
   "cell_type": "code",
   "execution_count": 80,
   "metadata": {},
   "outputs": [
    {
     "data": {
      "text/plain": [
       "array([[-0.08906891, -0.09014064, -0.09041047],\n",
       "       [ 2.64889548,  2.71009403,  2.72935024],\n",
       "       [ 0.71048819,  0.52352761,  0.55393343]])"
      ]
     },
     "execution_count": 80,
     "metadata": {},
     "output_type": "execute_result"
    }
   ],
   "source": [
    "distance = wurf[:,0]\n",
    "height = wurf[:,1:4]\n",
    "c = np.polyfit(distance, height, deg=2)\n",
    "c"
   ]
  },
  {
   "cell_type": "code",
   "execution_count": 81,
   "metadata": {},
   "outputs": [
    {
     "name": "stdout",
     "output_type": "stream",
     "text": [
      "-0.09041047350266546 2.7293502351834444 0.5539334274066994\n"
     ]
    },
    {
     "data": {
      "image/png": "[encoded data removed]",
      "text/plain": [
       "<matplotlib.figure.Figure at 0x20b7bf55160>"
      ]
     },
     "metadata": {},
     "output_type": "display_data"
    }
   ],
   "source": [
    "x = np.arange(0, 30, 0.1)\n",
    "print(c[0,2],c[1,2],c[2,2])\n",
    "y = [c[0,2]*xs**2 + c[1,2]*xs + c[2,2] for xs in x]\n",
    "plt.plot(x,y)\n",
    "plt.plot(wurf[:,0], wurf[:,3], 'o')\n",
    "plt.show()"
   ]
  },
  {
   "cell_type": "markdown",
   "metadata": {},
   "source": [
    "# 2. Wurfbewegung"
   ]
  },
  {
   "cell_type": "markdown",
   "metadata": {},
   "source": [
    "\n",
    "## (a)\n",
    "\n",
    "Ein Objekt wird von $x = x_0$ mit einer Anfangsgeschwindigkeit $v_0$ und einem Anfangswinkel $\\theta_0$ abgeworfen. Die Reibung kann vernachlässtigt werden. Die einzige Kraft ist die Gravitationskraft in $y$-Richtung.\n"
   ]
  },
  {
   "cell_type": "markdown",
   "metadata": {},
   "source": [
    "\n",
    "### i.\n",
    "\n",
    "Lösen Sie die Differentialgleichungen: $\\ddot{x} = 0, \\ddot{y} = -g$ numerisch und vergleichen Sie das Ergebnis mit der analytischen Lösungen. Berechnen Sie die Wurfweite als Funktion des Abwurfwinkels.\n"
   ]
  },
  {
   "cell_type": "code",
   "execution_count": 40,
   "metadata": {},
   "outputs": [],
   "source": [
    "g = 9.81"
   ]
  },
  {
   "cell_type": "code",
   "execution_count": 41,
   "metadata": {},
   "outputs": [
    {
     "data": {
      "image/png": "[encoded data removed]",
      "text/latex": [
       "$$v_{0} \\cos{\\left (\\theta_{0} \\right )}$$"
      ],
      "text/plain": [
       "v₀⋅cos(θ₀)"
      ]
     },
     "metadata": {},
     "output_type": "display_data"
    },
    {
     "data": {
      "image/png": "[encoded data removed]",
      "text/latex": [
       "$$v_{0} \\sin{\\left (\\theta_{0} \\right )}$$"
      ],
      "text/plain": [
       "v₀⋅sin(θ₀)"
      ]
     },
     "metadata": {},
     "output_type": "display_data"
    },
    {
     "name": "stdout",
     "output_type": "stream",
     "text": [
      "ddot{y}\n"
     ]
    },
    {
     "data": {
      "image/png": "[encoded data removed]",
      "text/latex": [
       "$$\\frac{d}{d t} \\dot{y}{\\left (t \\right )} = -9.81$$"
      ],
      "text/plain": [
       "d                     \n",
       "──(\\dot{y}(t)) = -9.81\n",
       "dt                    "
      ]
     },
     "metadata": {},
     "output_type": "display_data"
    },
    {
     "data": {
      "text/plain": [
       "'Lösung für dot{y}'"
      ]
     },
     "metadata": {},
     "output_type": "display_data"
    },
    {
     "data": {
      "image/png": "[encoded data removed]",
      "text/latex": [
       "$$\\dot{y}{\\left (t \\right )} = C_{1} - 9.81 t$$"
      ],
      "text/plain": [
       "\\dot{y}(t) = C₁ - 9.81⋅t"
      ]
     },
     "metadata": {},
     "output_type": "display_data"
    },
    {
     "data": {
      "text/plain": [
       "'Anfangsbedingung'"
      ]
     },
     "metadata": {},
     "output_type": "display_data"
    },
    {
     "data": {
      "image/png": "[encoded data removed]",
      "text/latex": [
       "$$\\left \\{ \\dot{y}{\\left (0 \\right )} : v_{0} \\sin{\\left (\\theta_{0} \\right )}\\right \\}$$"
      ],
      "text/plain": [
       "{\\dot{y}(0): v₀⋅sin(θ₀)}"
      ]
     },
     "metadata": {},
     "output_type": "display_data"
    },
    {
     "data": {
      "text/plain": [
       "'Eingesetzt und nach Konstante aufgelöst'"
      ]
     },
     "metadata": {},
     "output_type": "display_data"
    },
    {
     "data": {
      "image/png": "[encoded data removed]",
      "text/latex": [
       "$$v_{0} \\sin{\\left (\\theta_{0} \\right )} = C_{1}$$"
      ],
      "text/plain": [
       "v₀⋅sin(θ₀) = C₁"
      ]
     },
     "metadata": {},
     "output_type": "display_data"
    },
    {
     "data": {
      "text/plain": [
       "'Lösung der Konstante'"
      ]
     },
     "metadata": {},
     "output_type": "display_data"
    },
    {
     "data": {
      "image/png": "[encoded data removed]",
      "text/latex": [
       "$$\\left [ \\left \\{ C_{1} : v_{0} \\sin{\\left (\\theta_{0} \\right )}\\right \\}\\right ]$$"
      ],
      "text/plain": [
       "[{C₁: v₀⋅sin(θ₀)}]"
      ]
     },
     "metadata": {},
     "output_type": "display_data"
    },
    {
     "data": {
      "text/plain": [
       "'Lösung von dot{y} mit eingesetzter Konstante'"
      ]
     },
     "metadata": {},
     "output_type": "display_data"
    },
    {
     "data": {
      "image/png": "[encoded data removed]",
      "text/latex": [
       "$$\\dot{y}{\\left (t \\right )} = - 9.81 t + v_{0} \\sin{\\left (\\theta_{0} \\right )}$$"
      ],
      "text/plain": [
       "\\dot{y}(t) = -9.81⋅t + v₀⋅sin(θ₀)"
      ]
     },
     "metadata": {},
     "output_type": "display_data"
    },
    {
     "data": {
      "text/plain": [
       "'dot{y} bezogen auf y'"
      ]
     },
     "metadata": {},
     "output_type": "display_data"
    },
    {
     "data": {
      "image/png": "[encoded data removed]",
      "text/latex": [
       "$$\\frac{d}{d t} y{\\left (t \\right )} = - 9.81 t + v_{0} \\sin{\\left (\\theta_{0} \\right )}$$"
      ],
      "text/plain": [
       "d                              \n",
       "──(y(t)) = -9.81⋅t + v₀⋅sin(θ₀)\n",
       "dt                             "
      ]
     },
     "metadata": {},
     "output_type": "display_data"
    },
    {
     "data": {
      "text/plain": [
       "'Lösung für y'"
      ]
     },
     "metadata": {},
     "output_type": "display_data"
    },
    {
     "data": {
      "image/png": "[encoded data removed]",
      "text/latex": [
       "$$y{\\left (t \\right )} = C_{1} - 4.905 t^{2} + 1.0 t v_{0} \\sin{\\left (\\theta_{0} \\right )}$$"
      ],
      "text/plain": [
       "                   2                   \n",
       "y(t) = C₁ - 4.905⋅t  + 1.0⋅t⋅v₀⋅sin(θ₀)"
      ]
     },
     "metadata": {},
     "output_type": "display_data"
    },
    {
     "data": {
      "text/plain": [
       "'Anfangesbedingung'"
      ]
     },
     "metadata": {},
     "output_type": "display_data"
    },
    {
     "data": {
      "image/png": "[encoded data removed]",
      "text/latex": [
       "$$\\left \\{ y{\\left (0 \\right )} : 0\\right \\}$$"
      ],
      "text/plain": [
       "{y(0): 0}"
      ]
     },
     "metadata": {},
     "output_type": "display_data"
    },
    {
     "data": {
      "text/plain": [
       "'Eingesetzt und nach Konstante aufglöst: '"
      ]
     },
     "metadata": {},
     "output_type": "display_data"
    },
    {
     "data": {
      "image/png": "[encoded data removed]",
      "text/latex": [
       "$$0 = C_{1}$$"
      ],
      "text/plain": [
       "0 = C₁"
      ]
     },
     "metadata": {},
     "output_type": "display_data"
    },
    {
     "data": {
      "text/plain": [
       "'Lösung mit eingesetzter Konstante: '"
      ]
     },
     "metadata": {},
     "output_type": "display_data"
    },
    {
     "data": {
      "image/png": "[encoded data removed]",
      "text/latex": [
       "$$\\left [ 0\\right ]$$"
      ],
      "text/plain": [
       "[0]"
      ]
     },
     "metadata": {},
     "output_type": "display_data"
    },
    {
     "data": {
      "text/plain": [
       "'y: '"
      ]
     },
     "metadata": {},
     "output_type": "display_data"
    },
    {
     "data": {
      "image/png": "[encoded data removed]",
      "text/latex": [
       "$$- 4.905 t^{2} + 1.0 t v_{0} \\sin{\\left (\\theta_{0} \\right )}$$"
      ],
      "text/plain": [
       "         2                   \n",
       "- 4.905⋅t  + 1.0⋅t⋅v₀⋅sin(θ₀)"
      ]
     },
     "metadata": {},
     "output_type": "display_data"
    }
   ],
   "source": [
    "t, y0, v0, theta0 = sy.symbols('t, y0, v0, theta0')\n",
    "y, dy = sy.symbols('y, \\dot{y}', function=True)\n",
    "vx0 = v0*sy.cos(theta0)\n",
    "vy0 = v0*sy.sin(theta0)\n",
    "display(vx0)\n",
    "display(vy0)\n",
    "\n",
    "eq_dy = sy.Eq(sy.Derivative(dy(t), t, 1), -9.81)\n",
    "print(\"ddot{y}\")\n",
    "display(eq_dy)\n",
    "sol_dy = sy.dsolve(eq_dy)\n",
    "display('Lösung für dot{y}', sol_dy)\n",
    "ics = {dy(0): vy0}\n",
    "display('Anfangsbedingung', ics)\n",
    "C_dy_eq = sy.Eq(sol_dy.lhs.subs(t,0).subs(ics), sol_dy.rhs.subs(t,0))\n",
    "display('Eingesetzt und nach Konstante aufgelöst', C_dy_eq)\n",
    "C_dy_sol = sy.solve(C_dy_eq)\n",
    "display('Lösung der Konstante', C_dy_sol)\n",
    "dy = sol_dy.subs(C_dy_sol[0])\n",
    "display('Lösung von dot{y} mit eingesetzter Konstante', dy)\n",
    "eq_y = sy.Eq(sy.Derivative(y(t),t , 1), dy.rhs)\n",
    "display('dot{y} bezogen auf y', eq_y)\n",
    "sol_y = sy.dsolve(eq_y)\n",
    "display('Lösung für y', sol_y)\n",
    "ics = {y(0): 0}\n",
    "display('Anfangesbedingung', ics)\n",
    "C_y_eq = sy.Eq(sol_y.lhs.subs(t, 0).subs(ics), sol_y.rhs.subs(t,0))\n",
    "display('Eingesetzt und nach Konstante aufglöst: ', C_y_eq)\n",
    "C_y_sol = sy.solve(C_y_eq)\n",
    "display('Lösung mit eingesetzter Konstante: ', C_y_sol)\n",
    "if isinstance(C_y_sol[0], dict):\n",
    "    y = sol_y.subs(C_y_sol[0]).rhs\n",
    "else:\n",
    "    y = sol_y.subs({C_y_eq.rhs : C_y_eq.lhs}).rhs\n",
    "display('y: ', y)"
   ]
  },
  {
   "cell_type": "code",
   "execution_count": 42,
   "metadata": {},
   "outputs": [
    {
     "data": {
      "text/plain": [
       "'dot{x} Gleichung'"
      ]
     },
     "metadata": {},
     "output_type": "display_data"
    },
    {
     "data": {
      "image/png": "[encoded data removed]",
      "text/latex": [
       "$$\\frac{d}{d t} \\dot{x}{\\left (t \\right )} = 0$$"
      ],
      "text/plain": [
       "d                 \n",
       "──(\\dot{x}(t)) = 0\n",
       "dt                "
      ]
     },
     "metadata": {},
     "output_type": "display_data"
    },
    {
     "data": {
      "text/plain": [
       "'Lösung für dot{x} '"
      ]
     },
     "metadata": {},
     "output_type": "display_data"
    },
    {
     "data": {
      "image/png": "[encoded data removed]",
      "text/latex": [
       "$$\\dot{x}{\\left (t \\right )} = C_{1}$$"
      ],
      "text/plain": [
       "\\dot{x}(t) = C₁"
      ]
     },
     "metadata": {},
     "output_type": "display_data"
    },
    {
     "data": {
      "text/plain": [
       "'Anfangsbedingung'"
      ]
     },
     "metadata": {},
     "output_type": "display_data"
    },
    {
     "data": {
      "image/png": "[encoded data removed]",
      "text/latex": [
       "$$\\left \\{ \\dot{x}{\\left (0 \\right )} : v_{0} \\cos{\\left (\\theta_{0} \\right )}\\right \\}$$"
      ],
      "text/plain": [
       "{\\dot{x}(0): v₀⋅cos(θ₀)}"
      ]
     },
     "metadata": {},
     "output_type": "display_data"
    },
    {
     "data": {
      "text/plain": [
       "'Eingesetzt und nach Konstante aufgelöst'"
      ]
     },
     "metadata": {},
     "output_type": "display_data"
    },
    {
     "data": {
      "image/png": "[encoded data removed]",
      "text/latex": [
       "$$v_{0} \\cos{\\left (\\theta_{0} \\right )} = C_{1}$$"
      ],
      "text/plain": [
       "v₀⋅cos(θ₀) = C₁"
      ]
     },
     "metadata": {},
     "output_type": "display_data"
    },
    {
     "data": {
      "text/plain": [
       "'Lösung für Konstante'"
      ]
     },
     "metadata": {},
     "output_type": "display_data"
    },
    {
     "data": {
      "image/png": "[encoded data removed]",
      "text/latex": [
       "$$\\left [ \\left \\{ C_{1} : v_{0} \\cos{\\left (\\theta_{0} \\right )}\\right \\}\\right ]$$"
      ],
      "text/plain": [
       "[{C₁: v₀⋅cos(θ₀)}]"
      ]
     },
     "metadata": {},
     "output_type": "display_data"
    },
    {
     "data": {
      "text/plain": [
       "'Konstante in dot{x} eingesetzt'"
      ]
     },
     "metadata": {},
     "output_type": "display_data"
    },
    {
     "data": {
      "image/png": "[encoded data removed]",
      "text/latex": [
       "$$\\dot{x}{\\left (t \\right )} = v_{0} \\cos{\\left (\\theta_{0} \\right )}$$"
      ],
      "text/plain": [
       "\\dot{x}(t) = v₀⋅cos(θ₀)"
      ]
     },
     "metadata": {},
     "output_type": "display_data"
    },
    {
     "data": {
      "text/plain": [
       "'Gleichung für x'"
      ]
     },
     "metadata": {},
     "output_type": "display_data"
    },
    {
     "data": {
      "image/png": "[encoded data removed]",
      "text/latex": [
       "$$\\frac{d}{d t} x{\\left (t \\right )} = v_{0} \\cos{\\left (\\theta_{0} \\right )}$$"
      ],
      "text/plain": [
       "d                    \n",
       "──(x(t)) = v₀⋅cos(θ₀)\n",
       "dt                   "
      ]
     },
     "metadata": {},
     "output_type": "display_data"
    },
    {
     "data": {
      "text/plain": [
       "'Lösung für x'"
      ]
     },
     "metadata": {},
     "output_type": "display_data"
    },
    {
     "data": {
      "image/png": "[encoded data removed]",
      "text/latex": [
       "$$x{\\left (t \\right )} = C_{1} + t v_{0} \\cos{\\left (\\theta_{0} \\right )}$$"
      ],
      "text/plain": [
       "x(t) = C₁ + t⋅v₀⋅cos(θ₀)"
      ]
     },
     "metadata": {},
     "output_type": "display_data"
    },
    {
     "data": {
      "text/plain": [
       "'Anfangsbedingung'"
      ]
     },
     "metadata": {},
     "output_type": "display_data"
    },
    {
     "data": {
      "image/png": "[encoded data removed]",
      "text/latex": [
       "$$\\left \\{ x{\\left (0 \\right )} : x_{0}\\right \\}$$"
      ],
      "text/plain": [
       "{x(0): x₀}"
      ]
     },
     "metadata": {},
     "output_type": "display_data"
    },
    {
     "data": {
      "text/plain": [
       "'Eingesetzt und nach Konstante aufglöst'"
      ]
     },
     "metadata": {},
     "output_type": "display_data"
    },
    {
     "data": {
      "image/png": "[encoded data removed]",
      "text/latex": [
       "$$x_{0} = C_{1}$$"
      ],
      "text/plain": [
       "x₀ = C₁"
      ]
     },
     "metadata": {},
     "output_type": "display_data"
    },
    {
     "data": {
      "text/plain": [
       "'Lösung für Konstante'"
      ]
     },
     "metadata": {},
     "output_type": "display_data"
    },
    {
     "data": {
      "image/png": "[encoded data removed]",
      "text/latex": [
       "$$\\left [ \\left \\{ C_{1} : x_{0}\\right \\}\\right ]$$"
      ],
      "text/plain": [
       "[{C₁: x₀}]"
      ]
     },
     "metadata": {},
     "output_type": "display_data"
    },
    {
     "data": {
      "text/plain": [
       "'Lösung für x mit Konstante eingesetzt: '"
      ]
     },
     "metadata": {},
     "output_type": "display_data"
    },
    {
     "data": {
      "image/png": "[encoded data removed]",
      "text/latex": [
       "$$x_{v} = t v_{0} \\cos{\\left (\\theta_{0} \\right )} + x_{0}$$"
      ],
      "text/plain": [
       "xᵥ = t⋅v₀⋅cos(θ₀) + x₀"
      ]
     },
     "metadata": {},
     "output_type": "display_data"
    },
    {
     "data": {
      "text/plain": [
       "'t nach x aufgelöst: '"
      ]
     },
     "metadata": {},
     "output_type": "display_data"
    },
    {
     "data": {
      "image/png": "[encoded data removed]",
      "text/latex": [
       "$$\\left [ \\frac{- x_{0} + x_{v}}{v_{0} \\cos{\\left (\\theta_{0} \\right )}}\\right ]$$"
      ],
      "text/plain": [
       "⎡ -x₀ + xᵥ ⎤\n",
       "⎢──────────⎥\n",
       "⎣v₀⋅cos(θ₀)⎦"
      ]
     },
     "metadata": {},
     "output_type": "display_data"
    },
    {
     "data": {
      "text/plain": [
       "'alte y Lösung: '"
      ]
     },
     "metadata": {},
     "output_type": "display_data"
    },
    {
     "data": {
      "image/png": "[encoded data removed]",
      "text/latex": [
       "$$- 4.905 t^{2} + 1.0 t v_{0} \\sin{\\left (\\theta_{0} \\right )}$$"
      ],
      "text/plain": [
       "         2                   \n",
       "- 4.905⋅t  + 1.0⋅t⋅v₀⋅sin(θ₀)"
      ]
     },
     "metadata": {},
     "output_type": "display_data"
    },
    {
     "data": {
      "text/plain": [
       "'t in abhängigkeit von x eingesetzt:'"
      ]
     },
     "metadata": {},
     "output_type": "display_data"
    },
    {
     "data": {
      "image/png": "[encoded data removed]",
      "text/latex": [
       "$$\\frac{1.0 \\sin{\\left (\\theta_{0} \\right )}}{\\cos{\\left (\\theta_{0} \\right )}} \\left(- x_{0} + x_{v}\\right) - \\frac{4.905 \\left(- x_{0} + x_{v}\\right)^{2}}{v_{0}^{2} \\cos^{2}{\\left (\\theta_{0} \\right )}}$$"
      ],
      "text/plain": [
       "                                         2\n",
       "1.0⋅(-x₀ + xᵥ)⋅sin(θ₀)   4.905⋅(-x₀ + xᵥ) \n",
       "────────────────────── - ─────────────────\n",
       "       cos(θ₀)                2    2      \n",
       "                            v₀ ⋅cos (θ₀)  "
      ]
     },
     "metadata": {},
     "output_type": "display_data"
    },
    {
     "data": {
      "text/plain": [
       "'vereinfacht:'"
      ]
     },
     "metadata": {},
     "output_type": "display_data"
    },
    {
     "data": {
      "image/png": "[encoded data removed]",
      "text/latex": [
       "$$\\frac{1}{v_{0}^{2} \\cos^{2}{\\left (\\theta_{0} \\right )}} \\left(x_{0} - x_{v}\\right) \\left(- 0.5 v_{0}^{2} \\sin{\\left (2 \\theta_{0} \\right )} - 4.905 x_{0} + 4.905 x_{v}\\right)$$"
      ],
      "text/plain": [
       "          ⎛        2                                ⎞\n",
       "(x₀ - xᵥ)⋅⎝- 0.5⋅v₀ ⋅sin(2⋅θ₀) - 4.905⋅x₀ + 4.905⋅xᵥ⎠\n",
       "─────────────────────────────────────────────────────\n",
       "                       2    2                        \n",
       "                     v₀ ⋅cos (θ₀)                    "
      ]
     },
     "metadata": {},
     "output_type": "display_data"
    }
   ],
   "source": [
    "t, x0, v0, theta0, x_v = sy.symbols('t, x0, v0, theta0, x_v')\n",
    "x, dx = sy.symbols('x, \\dot{x}', function=True)\n",
    "eq_dx = sy.Eq(sy.Derivative(dx(t), t, 1), 0)\n",
    "display('dot{x} Gleichung', eq_dx)\n",
    "sol_dx = sy.dsolve(eq_dx)\n",
    "display('Lösung für dot{x} ', sol_dx)\n",
    "ics = {dx(0): vx0}\n",
    "display('Anfangsbedingung', ics)\n",
    "C_dx_eq = sy.Eq(sol_dx.lhs.subs(t,0).subs(ics), sol_dx.rhs.subs(t,0))\n",
    "display('Eingesetzt und nach Konstante aufgelöst', C_dx_eq)\n",
    "C_dx_sol = sy.solve(C_dx_eq)\n",
    "display('Lösung für Konstante', C_dx_sol)\n",
    "dx = sol_dx.subs(C_dx_sol[0])\n",
    "display('Konstante in dot{x} eingesetzt', dx)\n",
    "eq_x = sy.Eq(sy.Derivative(x(t),t , 1), dx.rhs)\n",
    "display('Gleichung für x', eq_x)\n",
    "sol_x = sy.dsolve(eq_x)\n",
    "display('Lösung für x', sol_x)\n",
    "ics = {x(0): x0}\n",
    "display('Anfangsbedingung', ics)\n",
    "C_x_eq = sy.Eq(sol_x.lhs.subs(t, 0).subs(ics), sol_x.rhs.subs(t,0))\n",
    "display('Eingesetzt und nach Konstante aufglöst', C_x_eq)\n",
    "C_x_sol = sy.solve(C_x_eq)\n",
    "display('Lösung für Konstante', C_x_sol)\n",
    "x = sy.Eq(x_v, sol_x.subs(C_x_sol[0]).rhs)\n",
    "display('Lösung für x mit Konstante eingesetzt: ', x)\n",
    "t_x = sy.solve(x, t)\n",
    "display('t nach x aufgelöst: ', t_x)\n",
    "display('alte y Lösung: ', y)\n",
    "y_v = y.subs({t: t_x[0]})\n",
    "display('t in abhängigkeit von x eingesetzt:', y_v)\n",
    "y_v = sy.simplify(y_v)\n",
    "display('vereinfacht:', y_v)"
   ]
  },
  {
   "cell_type": "code",
   "execution_count": 43,
   "metadata": {},
   "outputs": [],
   "source": [
    "x0_val = 0\n",
    "v0_val = 20\n",
    "theta0_val = math.radians(45)\n",
    "y0_val = 0"
   ]
  },
  {
   "cell_type": "code",
   "execution_count": 44,
   "metadata": {},
   "outputs": [],
   "source": [
    "def x_max(theta0):\n",
    "    return ((v0_val)**2+sy.sin(2*theta0))/g"
   ]
  },
  {
   "cell_type": "code",
   "execution_count": 45,
   "metadata": {},
   "outputs": [],
   "source": [
    "def anLsg(x0_val, v0_val, theta0_val):\n",
    "    y_val = y_v.subs({x0: x0_val, v0: v0_val, theta0: theta0_val})\n",
    "    display('y: ', y_val)\n",
    "    xs = np.arange(0, x_max(theta0_val), 0.7)\n",
    "    #for x_v in xs:\n",
    "    y_list = []\n",
    "    for x_i in xs:\n",
    "        y_i = y_val.subs({x_v: x_i})\n",
    "        y_list.append(y_i)\n",
    "    return xs, y_list"
   ]
  },
  {
   "cell_type": "code",
   "execution_count": 46,
   "metadata": {},
   "outputs": [
    {
     "data": {
      "text/plain": [
       "'y: '"
      ]
     },
     "metadata": {},
     "output_type": "display_data"
    },
    {
     "data": {
      "image/png": "[encoded data removed]",
      "text/latex": [
       "$$- 0.005 x_{v} \\left(4.905 x_{v} - 200.0\\right)$$"
      ],
      "text/plain": [
       "-0.005⋅xᵥ⋅(4.905⋅xᵥ - 200.0)"
      ]
     },
     "metadata": {},
     "output_type": "display_data"
    },
    {
     "data": {
      "image/png": "[encoded data removed]",
      "text/plain": [
       "<matplotlib.figure.Figure at 0x20b7aa3bc18>"
      ]
     },
     "metadata": {},
     "output_type": "display_data"
    }
   ],
   "source": [
    "x_a, y_a = anLsg(x0_val, v0_val, theta0_val)\n",
    "plt.plot(x_a, y_a)\n",
    "plt.title(r'Analytisch Wurf mit $x_0=0, v_0=20, \\theta_0=45°$')\n",
    "plt.xlabel('x (Weite)')\n",
    "plt.ylabel('y (Höhe)')\n",
    "plt.show()"
   ]
  },
  {
   "cell_type": "code",
   "execution_count": 47,
   "metadata": {},
   "outputs": [],
   "source": [
    "t_start = 0\n",
    "h = 0.5"
   ]
  },
  {
   "cell_type": "code",
   "execution_count": 48,
   "metadata": {},
   "outputs": [],
   "source": [
    "ddx = 0\n",
    "ddy = -g"
   ]
  },
  {
   "cell_type": "code",
   "execution_count": 49,
   "metadata": {},
   "outputs": [],
   "source": [
    "def t_max(v0, theta0):\n",
    "    return (v0*sy.sin(theta0))/g"
   ]
  },
  {
   "cell_type": "code",
   "execution_count": 50,
   "metadata": {},
   "outputs": [],
   "source": [
    "def y_max(v0, theta0, y0):\n",
    "    t_m = t_max(v0,theta0)\n",
    "    return y0+v0*sy.sin(theta0)*t_m-(g*t_m**2)/2"
   ]
  },
  {
   "cell_type": "code",
   "execution_count": 51,
   "metadata": {},
   "outputs": [],
   "source": [
    "def euler(var, h, dvar):\n",
    "    return var + h*dvar"
   ]
  },
  {
   "cell_type": "code",
   "execution_count": 52,
   "metadata": {},
   "outputs": [],
   "source": [
    "def numLsg(theta0, v0, y0, x0, h):\n",
    "    t_max = (v0*sy.sin(theta0))/g\n",
    "    t_end = 2*t_max # symmetrisch\n",
    "    vx0_e = v0_val*sy.cos(theta0_val)\n",
    "    vy0_e = v0_val*sy.sin(theta0_val)\n",
    "    #sy.pprint(vx0_e)\n",
    "    y0_val = y0\n",
    "    vx_n = vx0_e\n",
    "    x_n = x0_val\n",
    "    x_e = [x0_val]\n",
    "    y_n = y0_val\n",
    "    vy_n = vy0_e\n",
    "    y_e = [y0_val]\n",
    "    for ts in np.arange(t_start, t_end, h):\n",
    "        vy_np1 = euler(vy_n, h, ddy)\n",
    "        y_np1 = euler(y_n, h, vy_np1)\n",
    "        vy_n = vy_np1\n",
    "        y_n = y_np1\n",
    "        vx_np1 = euler(vx_n, h, ddx)\n",
    "        x_np1 = euler(x_n, h, vx_np1)\n",
    "        if y_np1 >= y0_val:\n",
    "            y_e.append(y_np1)\n",
    "            x_e.append(x_np1)\n",
    "        else:\n",
    "            y_e.append(y_np1)\n",
    "            x_e.append(x_np1)\n",
    "            break\n",
    "        vx_n = vx_np1\n",
    "        x_n = x_np1\n",
    "    return x_e, y_e\n",
    "#sy.pprint(x_e)"
   ]
  },
  {
   "cell_type": "code",
   "execution_count": 53,
   "metadata": {},
   "outputs": [
    {
     "data": {
      "text/plain": [
       "'y: '"
      ]
     },
     "metadata": {},
     "output_type": "display_data"
    },
    {
     "data": {
      "image/png": "[encoded data removed]",
      "text/latex": [
       "$$- 0.005 x_{v} \\left(4.905 x_{v} - 200.0\\right)$$"
      ],
      "text/plain": [
       "-0.005⋅xᵥ⋅(4.905⋅xᵥ - 200.0)"
      ]
     },
     "metadata": {},
     "output_type": "display_data"
    },
    {
     "data": {
      "image/png": "[encoded data removed]",
      "text/plain": [
       "<matplotlib.figure.Figure at 0x20b7aa86ba8>"
      ]
     },
     "metadata": {},
     "output_type": "display_data"
    }
   ],
   "source": [
    "plots = []\n",
    "names = []\n",
    "for h_val in np.arange(0.01, 0.7, 0.2):\n",
    "    x_e, y_e = numLsg(theta0_val, v0_val, y0_val, x0_val, h=h_val)\n",
    "    l, = plt.plot(x_e, y_e)\n",
    "    plots.append(l,)\n",
    "    names.append('h = '+ str(h_val))\n",
    "x_a, y_a = anLsg(x0_val, v0_val, theta0_val)\n",
    "plt.plot(x_a, y_a, 'ro')\n",
    "#plt.plot(x_e, y_e)\n",
    "plt.title(r'Vergleich Wurf mit $x_0=0, v_0=20, \\theta_0=45°$')\n",
    "plt.xlabel('x (Weite)')\n",
    "plt.ylabel('y (Höhe)')\n",
    "plt.legend(plots, names)\n",
    "x_m = float(x_max(theta0_val))\n",
    "y_m = float(y_max(v0_val, theta0_val, y0_val))\n",
    "plt.axis([x0_val-(x_m/20), x_m+(x_m/20), y0_val, y_m+(y_m/20)])\n",
    "plt.show()"
   ]
  },
  {
   "cell_type": "markdown",
   "metadata": {},
   "source": [
    "\n",
    "### ii.\n",
    "\n",
    "Formulieren Sie die Aufgabe als Randwertproblem für einen senkrechten Wurf ($\\theta_0 = \\pi$). Bestimmen Sie die Anfangsgeschwindigkeit bei vorgegebener Wurfhöhe mit Hilfe einer binären Suche.\n"
   ]
  },
  {
   "cell_type": "markdown",
   "metadata": {},
   "source": [
    "\n",
    "## (b)\n",
    "\n",
    "Ein kugelförmiges Objekt wird von einem Punkt $x_0$ unter einem Winkel $\\theta_0$ abgeworfen. Es wirkt eine Reibungskraft entgegen der Bewegungsrichtung mit dem Bertag: $$F = 0.5\\pi R^2pCv^2$$ ($R$: Radius der Kugel, $p$:Dichte der Luft, $v$: Geschwindigkeit der Kugel, $C = 0.5$)\n",
    "### i.\n",
    "\n",
    "Zeigen Sie, dass das Problem mit den folgenden Bewegungsgleichungen beschrieben werden kann. $$\\ddot{x} = - \\frac{0.5\\pi R^2Cp}{m}\\dot{x}\\sqrt{\\dot{x}^2 + \\dot{y}^2}$$ $$\\ddot{y} = -g- \\frac{0.5\\pi R^2Cp}{m}\\dot{y}\\sqrt{\\dot{x}^2 + \\dot{y}^2}$$\n"
   ]
  },
  {
   "cell_type": "code",
   "execution_count": 54,
   "metadata": {},
   "outputs": [],
   "source": [
    "R, rho, v, C, m, pi, dotx, doty, v_x, v_y = sy.symbols('R, rho, v, C, m, pi, \\dot{x}, \\dot{y}, v_x, v_y')\n",
    "ddx, dx = sy.symbols('ddx, dx', function=True)"
   ]
  },
  {
   "cell_type": "code",
   "execution_count": 55,
   "metadata": {},
   "outputs": [
    {
     "data": {
      "image/png": "[encoded data removed]",
      "text/latex": [
       "$$\\frac{0.5 C}{m} R^{2} \\pi \\rho$$"
      ],
      "text/plain": [
       "       2    \n",
       "0.5⋅C⋅R ⋅π⋅ρ\n",
       "────────────\n",
       "     m      "
      ]
     },
     "metadata": {},
     "output_type": "display_data"
    },
    {
     "data": {
      "image/png": "[encoded data removed]",
      "text/latex": [
       "$$- \\frac{0.5 C}{m} R^{2} \\pi \\rho v^{2}$$"
      ],
      "text/plain": [
       "        2      2 \n",
       "-0.5⋅C⋅R ⋅π⋅ρ⋅v  \n",
       "─────────────────\n",
       "        m        "
      ]
     },
     "metadata": {},
     "output_type": "display_data"
    },
    {
     "data": {
      "image/png": "[encoded data removed]",
      "text/latex": [
       "$$- \\frac{0.5 C}{m} R^{2} \\pi \\rho v v_{x}$$"
      ],
      "text/plain": [
       "        2          \n",
       "-0.5⋅C⋅R ⋅π⋅ρ⋅v⋅vₓ \n",
       "───────────────────\n",
       "         m         "
      ]
     },
     "metadata": {},
     "output_type": "display_data"
    },
    {
     "data": {
      "text/plain": [
       "'ddot{x}:'"
      ]
     },
     "metadata": {},
     "output_type": "display_data"
    },
    {
     "data": {
      "image/png": "[encoded data removed]",
      "text/latex": [
       "$$- \\frac{0.5 C}{m} R^{2} \\pi \\rho v v_{x}$$"
      ],
      "text/plain": [
       "        2          \n",
       "-0.5⋅C⋅R ⋅π⋅ρ⋅v⋅vₓ \n",
       "───────────────────\n",
       "         m         "
      ]
     },
     "metadata": {},
     "output_type": "display_data"
    },
    {
     "data": {
      "image/png": "[encoded data removed]",
      "text/latex": [
       "$$- \\frac{0.5 C}{m} R^{2} \\pi \\rho v_{x} \\sqrt{\\dot{x}^{2} + \\dot{y}^{2}}$$"
      ],
      "text/plain": [
       "                    _____________________ \n",
       "        2          ╱        2          2  \n",
       "-0.5⋅C⋅R ⋅π⋅ρ⋅vₓ⋅╲╱  \\dot{x}  + \\dot{y}   \n",
       "──────────────────────────────────────────\n",
       "                    m                     "
      ]
     },
     "metadata": {},
     "output_type": "display_data"
    },
    {
     "data": {
      "image/png": "[encoded data removed]",
      "text/latex": [
       "$$- \\frac{0.5 C}{m} R^{2} \\dot{x} \\pi \\rho \\sqrt{\\dot{x}^{2} + \\dot{y}^{2}}$$"
      ],
      "text/plain": [
       "                         _____________________ \n",
       "        2               ╱        2          2  \n",
       "-0.5⋅C⋅R ⋅\\dot{x}⋅π⋅ρ⋅╲╱  \\dot{x}  + \\dot{y}   \n",
       "───────────────────────────────────────────────\n",
       "                       m                       "
      ]
     },
     "metadata": {},
     "output_type": "display_data"
    },
    {
     "data": {
      "image/png": "[encoded data removed]",
      "text/latex": [
       "$$- \\frac{0.5 C}{m} R^{2} \\pi \\rho v v_{y}$$"
      ],
      "text/plain": [
       "        2           \n",
       "-0.5⋅C⋅R ⋅π⋅ρ⋅v⋅v_y \n",
       "────────────────────\n",
       "         m          "
      ]
     },
     "metadata": {},
     "output_type": "display_data"
    },
    {
     "data": {
      "image/png": "[encoded data removed]",
      "text/latex": [
       "$$- \\frac{0.5 C}{m} R^{2} \\pi \\rho v v_{y} - 9.81$$"
      ],
      "text/plain": [
       "         2                 \n",
       "  0.5⋅C⋅R ⋅π⋅ρ⋅v⋅v_y       \n",
       "- ────────────────── - 9.81\n",
       "          m                "
      ]
     },
     "metadata": {},
     "output_type": "display_data"
    },
    {
     "data": {
      "image/png": "[encoded data removed]",
      "text/latex": [
       "$$- \\frac{0.5 C}{m} R^{2} \\pi \\rho v_{y} \\sqrt{\\dot{x}^{2} + \\dot{y}^{2}} - 9.81$$"
      ],
      "text/plain": [
       "                      _____________________       \n",
       "         2           ╱        2          2        \n",
       "  0.5⋅C⋅R ⋅π⋅ρ⋅v_y⋅╲╱  \\dot{x}  + \\dot{y}         \n",
       "- ───────────────────────────────────────── - 9.81\n",
       "                      m                           "
      ]
     },
     "metadata": {},
     "output_type": "display_data"
    },
    {
     "data": {
      "image/png": "[encoded data removed]",
      "text/latex": [
       "$$- \\frac{0.5 C}{m} R^{2} \\dot{y} \\pi \\rho \\sqrt{\\dot{x}^{2} + \\dot{y}^{2}} - 9.81$$"
      ],
      "text/plain": [
       "                          _____________________       \n",
       "         2               ╱        2          2        \n",
       "  0.5⋅C⋅R ⋅\\dot{y}⋅π⋅ρ⋅╲╱  \\dot{x}  + \\dot{y}         \n",
       "- ───────────────────────────────────────────── - 9.81\n",
       "                        m                             "
      ]
     },
     "metadata": {},
     "output_type": "display_data"
    }
   ],
   "source": [
    "v_val = sy.sqrt(dotx**2 + doty**2)\n",
    "B = 0.5*pi*R**2*rho*C\n",
    "B_prop = B/m\n",
    "display(B_prop)\n",
    "F_drag = -B*v**2\n",
    "F_drag_prop = -B_prop*v**2\n",
    "display(F_drag_prop)\n",
    "F_drag_x = F_drag_prop*v_x/v\n",
    "display(F_drag_x)\n",
    "ddx_Lsg = -0 + F_drag_x\n",
    "display('ddot{x}:', ddx_Lsg)\n",
    "ddx_Lsg = ddx_Lsg.subs(v, v_val)\n",
    "display(ddx_Lsg)\n",
    "ddx_Lsg = ddx_Lsg.subs(v_x, dotx)\n",
    "display(ddx_Lsg)\n",
    "F_drag_y = F_drag_prop*v_y/v\n",
    "display(F_drag_y)\n",
    "ddy_Lsg = -g + F_drag_y\n",
    "display(ddy_Lsg)\n",
    "ddy_Lsg = ddy_Lsg.subs(v, v_val)\n",
    "display(ddy_Lsg)\n",
    "ddy_Lsg = ddy_Lsg.subs(v_y, doty)\n",
    "display(ddy_Lsg)"
   ]
  },
  {
   "cell_type": "markdown",
   "metadata": {},
   "source": [
    "\n",
    "### ii.\n",
    "\n",
    "Führen Sie die beiden Differentialgleichungen 2. Ordnung in ein System von 4 Differentialgleichungen 1. Ordnung über und visualisieren Sie die Wurftrajektorie.\n"
   ]
  },
  {
   "cell_type": "code",
   "execution_count": 56,
   "metadata": {},
   "outputs": [],
   "source": [
    "ddy, ddx, dy, dx = sy.symbols('ddy, ddx, dy, dx', function=True)\n",
    "x1, y1, v0, theta0 = sy.symbols('x_1, y_1, v_0, theta_0')\n",
    "vx0 = v0*sy.cos(theta0)\n",
    "vy0 = v0*sy.sin(theta0)"
   ]
  },
  {
   "cell_type": "code",
   "execution_count": 57,
   "metadata": {},
   "outputs": [
    {
     "data": {
      "image/png": "[encoded data removed]",
      "text/latex": [
       "$$y_{1} = \\operatorname{dy}{\\left (t \\right )}$$"
      ],
      "text/plain": [
       "y₁ = dy(t)"
      ]
     },
     "metadata": {},
     "output_type": "display_data"
    },
    {
     "data": {
      "image/png": "[encoded data removed]",
      "text/latex": [
       "$$\\frac{d}{d t} \\operatorname{dy}{\\left (t \\right )} = - \\frac{0.5 C}{m} R^{2} \\pi \\rho \\sqrt{\\operatorname{dx}^{2}{\\left (t \\right )} + \\operatorname{dy}^{2}{\\left (t \\right )}} \\operatorname{dy}{\\left (t \\right )} - 9.81$$"
      ],
      "text/plain": [
       "                              _________________             \n",
       "                     2       ╱   2        2                 \n",
       "d             0.5⋅C⋅R ⋅π⋅ρ⋅╲╱  dx (t) + dy (t) ⋅dy(t)       \n",
       "──(dy(t)) = - ─────────────────────────────────────── - 9.81\n",
       "dt                               m                          "
      ]
     },
     "metadata": {},
     "output_type": "display_data"
    },
    {
     "data": {
      "image/png": "[encoded data removed]",
      "text/latex": [
       "$$- \\frac{0.5 C}{m} R^{2} \\pi \\rho y_{1} \\sqrt{y_{1}^{2} + \\operatorname{dx}^{2}{\\left (t \\right )}} - 9.81$$"
      ],
      "text/plain": [
       "                     ______________       \n",
       "         2          ╱   2     2           \n",
       "  0.5⋅C⋅R ⋅π⋅ρ⋅y₁⋅╲╱  y₁  + dx (t)        \n",
       "- ───────────────────────────────── - 9.81\n",
       "                  m                       "
      ]
     },
     "metadata": {},
     "output_type": "display_data"
    },
    {
     "data": {
      "image/png": "[encoded data removed]",
      "text/latex": [
       "$$- \\frac{0.5 C}{m} R^{2} \\pi \\rho y_{1} \\sqrt{x_{1}^{2} + y_{1}^{2}} - 9.81$$"
      ],
      "text/plain": [
       "                     ___________       \n",
       "         2          ╱   2     2        \n",
       "  0.5⋅C⋅R ⋅π⋅ρ⋅y₁⋅╲╱  x₁  + y₁         \n",
       "- ────────────────────────────── - 9.81\n",
       "                m                      "
      ]
     },
     "metadata": {},
     "output_type": "display_data"
    },
    {
     "data": {
      "image/png": "[encoded data removed]",
      "text/latex": [
       "$$\\frac{d}{d t} \\operatorname{dy}{\\left (t \\right )} = - \\frac{0.5 C}{m} R^{2} \\pi \\rho y_{1} \\sqrt{x_{1}^{2} + y_{1}^{2}} - 9.81$$"
      ],
      "text/plain": [
       "                                 ___________       \n",
       "                     2          ╱   2     2        \n",
       "d             0.5⋅C⋅R ⋅π⋅ρ⋅y₁⋅╲╱  x₁  + y₁         \n",
       "──(dy(t)) = - ────────────────────────────── - 9.81\n",
       "dt                          m                      "
      ]
     },
     "metadata": {},
     "output_type": "display_data"
    },
    {
     "data": {
      "image/png": "[encoded data removed]",
      "text/latex": [
       "$$\\operatorname{dy}{\\left (t \\right )} = C_{1} - \\frac{1.0 t}{m} \\left(0.5 C R^{2} \\pi \\rho y_{1} \\sqrt{x_{1}^{2} + y_{1}^{2}} + 9.81 m\\right)$$"
      ],
      "text/plain": [
       "                   ⎛                   ___________         ⎞\n",
       "                   ⎜       2          ╱   2     2          ⎟\n",
       "             1.0⋅t⋅⎝0.5⋅C⋅R ⋅π⋅ρ⋅y₁⋅╲╱  x₁  + y₁   + 9.81⋅m⎠\n",
       "dy(t) = C₁ - ───────────────────────────────────────────────\n",
       "                                    m                       "
      ]
     },
     "metadata": {},
     "output_type": "display_data"
    },
    {
     "data": {
      "text/plain": [
       "'Anfangsbedingung'"
      ]
     },
     "metadata": {},
     "output_type": "display_data"
    },
    {
     "data": {
      "image/png": "[encoded data removed]",
      "text/latex": [
       "$$\\left \\{ \\operatorname{dy}{\\left (0 \\right )} : v_{0} \\sin{\\left (\\theta_{0} \\right )}\\right \\}$$"
      ],
      "text/plain": [
       "{dy(0): v₀⋅sin(θ₀)}"
      ]
     },
     "metadata": {},
     "output_type": "display_data"
    },
    {
     "data": {
      "text/plain": [
       "'Eingesetzt mit t=0'"
      ]
     },
     "metadata": {},
     "output_type": "display_data"
    },
    {
     "data": {
      "image/png": "[encoded data removed]",
      "text/latex": [
       "$$v_{0} \\sin{\\left (\\theta_{0} \\right )} = C_{1}$$"
      ],
      "text/plain": [
       "v₀⋅sin(θ₀) = C₁"
      ]
     },
     "metadata": {},
     "output_type": "display_data"
    },
    {
     "data": {
      "text/plain": [
       "'Lösung für Konstante'"
      ]
     },
     "metadata": {},
     "output_type": "display_data"
    },
    {
     "data": {
      "image/png": "[encoded data removed]",
      "text/latex": [
       "$$\\left [ \\left \\{ C_{1} : v_{0} \\sin{\\left (\\theta_{0} \\right )}\\right \\}\\right ]$$"
      ],
      "text/plain": [
       "[{C₁: v₀⋅sin(θ₀)}]"
      ]
     },
     "metadata": {},
     "output_type": "display_data"
    },
    {
     "data": {
      "text/plain": [
       "'dy mit eingesetzter Konstante'"
      ]
     },
     "metadata": {},
     "output_type": "display_data"
    },
    {
     "data": {
      "image/png": "[encoded data removed]",
      "text/latex": [
       "$$\\operatorname{dy}{\\left (t \\right )} = v_{0} \\sin{\\left (\\theta_{0} \\right )} - \\frac{1.0 t}{m} \\left(0.5 C R^{2} \\pi \\rho y_{1} \\sqrt{x_{1}^{2} + y_{1}^{2}} + 9.81 m\\right)$$"
      ],
      "text/plain": [
       "                           ⎛                   ___________         ⎞\n",
       "                           ⎜       2          ╱   2     2          ⎟\n",
       "                     1.0⋅t⋅⎝0.5⋅C⋅R ⋅π⋅ρ⋅y₁⋅╲╱  x₁  + y₁   + 9.81⋅m⎠\n",
       "dy(t) = v₀⋅sin(θ₀) - ───────────────────────────────────────────────\n",
       "                                            m                       "
      ]
     },
     "metadata": {},
     "output_type": "display_data"
    }
   ],
   "source": [
    "eq_dy_1 = sy.Eq(y1, dy(t))\n",
    "display(eq_dy_1)\n",
    "eq_dy_1_s = sy.solve(eq_dy_1)\n",
    "#display(eq_dy_1_s)\n",
    "eq_dy = sy.Eq(sy.Derivative(dy(t), t, 1), (-(0.5*C)/m*R**2*rho*pi*dy(t)*sy.sqrt(dy(t)**2+dx(t)**2)-9.81))\n",
    "display(eq_dy)\n",
    "eq_dy_s = eq_dy.rhs.subs(dy(t), y1)\n",
    "display(eq_dy_s)\n",
    "eq_dy = sy.Eq(sy.Derivative(dy(t), t, 1), eq_dy_s)\n",
    "eq_dy_s = eq_dy.rhs.subs(dx(t), x1)\n",
    "eq_dy = sy.Eq(sy.Derivative(dy(t), t, 1), eq_dy_s)\n",
    "display(eq_dy_s)\n",
    "display(eq_dy)\n",
    "display(sy.dsolve(eq_dy))\n",
    "sol_dy = sy.dsolve(eq_dy)\n",
    "ics = {dy(0): vy0}\n",
    "display('Anfangsbedingung', ics)\n",
    "C_dy_eq = sy.Eq(sol_dy.lhs.subs(t, 0).subs(ics), sol_dy.rhs.subs(t, 0))\n",
    "display('Eingesetzt mit t=0', C_dy_eq)\n",
    "C_dy_sol = sy.solve(C_dy_eq)\n",
    "display('Lösung für Konstante', C_dy_sol)\n",
    "dy_Lsg = sol_dy.subs(C_dy_sol[0])\n",
    "display('dy mit eingesetzter Konstante', dy_Lsg)"
   ]
  },
  {
   "cell_type": "code",
   "execution_count": 58,
   "metadata": {},
   "outputs": [
    {
     "data": {
      "image/png": "[encoded data removed]",
      "text/latex": [
       "$$x_{1} = \\operatorname{dx}{\\left (t \\right )}$$"
      ],
      "text/plain": [
       "x₁ = dx(t)"
      ]
     },
     "metadata": {},
     "output_type": "display_data"
    },
    {
     "data": {
      "image/png": "[encoded data removed]",
      "text/latex": [
       "$$\\frac{d}{d t} \\operatorname{dx}{\\left (t \\right )} = - \\frac{0.5 C}{m} R^{2} \\pi \\rho \\sqrt{\\operatorname{dx}^{2}{\\left (t \\right )} + \\operatorname{dy}^{2}{\\left (t \\right )}} \\operatorname{dx}{\\left (t \\right )}$$"
      ],
      "text/plain": [
       "                             _________________       \n",
       "                    2       ╱   2        2           \n",
       "d           -0.5⋅C⋅R ⋅π⋅ρ⋅╲╱  dx (t) + dy (t) ⋅dx(t) \n",
       "──(dx(t)) = ─────────────────────────────────────────\n",
       "dt                              m                    "
      ]
     },
     "metadata": {},
     "output_type": "display_data"
    },
    {
     "data": {
      "image/png": "[encoded data removed]",
      "text/latex": [
       "$$\\frac{d}{d t} \\operatorname{dx}{\\left (t \\right )} = - \\frac{0.5 C}{m} R^{2} \\pi \\rho x_{1} \\sqrt{x_{1}^{2} + y_{1}^{2}}$$"
      ],
      "text/plain": [
       "                                ___________ \n",
       "                    2          ╱   2     2  \n",
       "d           -0.5⋅C⋅R ⋅π⋅ρ⋅x₁⋅╲╱  x₁  + y₁   \n",
       "──(dx(t)) = ────────────────────────────────\n",
       "dt                         m                "
      ]
     },
     "metadata": {},
     "output_type": "display_data"
    },
    {
     "data": {
      "image/png": "[encoded data removed]",
      "text/latex": [
       "$$- \\frac{0.5 C}{m} R^{2} \\pi \\rho x_{1} \\sqrt{x_{1}^{2} + y_{1}^{2}}$$"
      ],
      "text/plain": [
       "                    ___________ \n",
       "        2          ╱   2     2  \n",
       "-0.5⋅C⋅R ⋅π⋅ρ⋅x₁⋅╲╱  x₁  + y₁   \n",
       "────────────────────────────────\n",
       "               m                "
      ]
     },
     "metadata": {},
     "output_type": "display_data"
    },
    {
     "data": {
      "image/png": "[encoded data removed]",
      "text/latex": [
       "$$\\operatorname{dx}{\\left (t \\right )} = - \\frac{0.5 C}{m} R^{2} \\pi \\rho t x_{1} \\sqrt{x_{1}^{2} + y_{1}^{2}} + C_{1}$$"
      ],
      "text/plain": [
       "                               ___________     \n",
       "                 2            ╱   2     2      \n",
       "          0.5⋅C⋅R ⋅π⋅ρ⋅t⋅x₁⋅╲╱  x₁  + y₁       \n",
       "dx(t) = - ──────────────────────────────── + C₁\n",
       "                         m                     "
      ]
     },
     "metadata": {},
     "output_type": "display_data"
    },
    {
     "data": {
      "image/png": "[encoded data removed]",
      "text/latex": [
       "$$v_{0} \\cos{\\left (\\theta_{0} \\right )} = C_{1}$$"
      ],
      "text/plain": [
       "v₀⋅cos(θ₀) = C₁"
      ]
     },
     "metadata": {},
     "output_type": "display_data"
    },
    {
     "data": {
      "image/png": "[encoded data removed]",
      "text/latex": [
       "$$\\left [ \\left \\{ C_{1} : v_{0} \\cos{\\left (\\theta_{0} \\right )}\\right \\}\\right ]$$"
      ],
      "text/plain": [
       "[{C₁: v₀⋅cos(θ₀)}]"
      ]
     },
     "metadata": {},
     "output_type": "display_data"
    },
    {
     "data": {
      "image/png": "[encoded data removed]",
      "text/latex": [
       "$$\\operatorname{dx}{\\left (t \\right )} = - \\frac{0.5 C}{m} R^{2} \\pi \\rho t x_{1} \\sqrt{x_{1}^{2} + y_{1}^{2}} + v_{0} \\cos{\\left (\\theta_{0} \\right )}$$"
      ],
      "text/plain": [
       "                               ___________             \n",
       "                 2            ╱   2     2              \n",
       "          0.5⋅C⋅R ⋅π⋅ρ⋅t⋅x₁⋅╲╱  x₁  + y₁               \n",
       "dx(t) = - ──────────────────────────────── + v₀⋅cos(θ₀)\n",
       "                         m                             "
      ]
     },
     "metadata": {},
     "output_type": "display_data"
    }
   ],
   "source": [
    "eq_dx_1 = sy.Eq(x1, dx(t))\n",
    "display(eq_dx_1)\n",
    "eq_dx = sy.Eq(sy.Derivative(dx(t),t, 1), (-0.5*C)/m*R**2*rho*pi*dx(t)*sy.sqrt(dy(t)**2+dx(t)**2))\n",
    "display(eq_dx)\n",
    "eq_dx_s = eq_dx.rhs.subs(dx(t), x1)\n",
    "eq_dx = sy.Eq(sy.Derivative(dx(t), t, 1), eq_dx_s)\n",
    "eq_dx_s = eq_dx.rhs.subs(dy(t), y1)\n",
    "eq_dx = sy.Eq(sy.Derivative(dx(t), t, 1), eq_dx_s)\n",
    "display(eq_dx)\n",
    "display(eq_dx_s)\n",
    "sol_dx = sy.dsolve(eq_dx)\n",
    "display(sol_dx)\n",
    "#sol_dy = sy.dsolve(eq_dy)\n",
    "#sol_dy\n",
    "#display(sol_dy)\n",
    "ics = {dx(0): vx0}\n",
    "C_dx_eq = sy.Eq(sol_dx.lhs.subs(t,0).subs(ics), sol_dy.rhs.subs(t,0))\n",
    "display(C_dx_eq)\n",
    "C_dx_sol = sy.solve(C_dx_eq)\n",
    "display(C_dx_sol)\n",
    "dx_Lsg = sol_dx.subs(C_dx_sol[0])\n",
    "display(dx_Lsg)"
   ]
  },
  {
   "cell_type": "code",
   "execution_count": 59,
   "metadata": {},
   "outputs": [],
   "source": [
    "R_val = 2.0 #Radius\n",
    "rho_val = 1.2041 #Dichte der Luft\n",
    "C_val = 0.5\n",
    "m_val = 500"
   ]
  },
  {
   "cell_type": "code",
   "execution_count": 60,
   "metadata": {},
   "outputs": [
    {
     "data": {
      "image/png": "[encoded data removed]",
      "text/latex": [
       "$$v_{0} \\sin{\\left (\\theta_{0} \\right )} - \\frac{1.0 t}{m} \\left(0.5 C R^{2} \\pi \\rho y_{1} \\sqrt{x_{1}^{2} + y_{1}^{2}} + 9.81 m\\right)$$"
      ],
      "text/plain": [
       "                   ⎛                   ___________         ⎞\n",
       "                   ⎜       2          ╱   2     2          ⎟\n",
       "             1.0⋅t⋅⎝0.5⋅C⋅R ⋅π⋅ρ⋅y₁⋅╲╱  x₁  + y₁   + 9.81⋅m⎠\n",
       "v₀⋅sin(θ₀) - ───────────────────────────────────────────────\n",
       "                                    m                       "
      ]
     },
     "metadata": {},
     "output_type": "display_data"
    },
    {
     "data": {
      "image/png": "[encoded data removed]",
      "text/latex": [
       "$$- 0.002 t \\left(3.78279171418747 y_{1} \\sqrt{x_{1}^{2} + y_{1}^{2}} + 4905.0\\right) + 14.1421356237309$$"
      ],
      "text/plain": [
       "          ⎛                       ___________         ⎞                   \n",
       "          ⎜                      ╱   2     2          ⎟                   \n",
       "- 0.002⋅t⋅⎝3.78279171418747⋅y₁⋅╲╱  x₁  + y₁   + 4905.0⎠ + 14.1421356237309"
      ]
     },
     "metadata": {},
     "output_type": "display_data"
    },
    {
     "data": {
      "image/png": "[encoded data removed]",
      "text/latex": [
       "$$- 0.00756558342837494 \\dot{y} \\sqrt{\\dot{x}^{2} + \\dot{y}^{2}} - 9.81$$"
      ],
      "text/plain": [
       "                                 _____________________       \n",
       "                                ╱        2          2        \n",
       "- 0.00756558342837494⋅\\dot{y}⋅╲╱  \\dot{x}  + \\dot{y}   - 9.81"
      ]
     },
     "metadata": {},
     "output_type": "display_data"
    }
   ],
   "source": [
    "# Zum Testen noch E-Mail schreiben\n",
    "dx, dy = sy.symbols('dx, dy')\n",
    "dy_val = dy_Lsg.rhs\n",
    "display(dy_val)\n",
    "dy_val = dy_val.subs(R, R_val).subs(C, C_val).subs(pi, math.pi).subs(m, m_val).subs(rho, rho_val).subs(v0, v0_val).subs(theta0, theta0_val)\n",
    "display(dy_val)\n",
    "\n",
    "ddy_val = ddy_Lsg.subs(R, R_val).subs(C, C_val).subs(pi, math.pi).subs(m, m_val).subs(rho, rho_val)\n",
    "display(ddy_val)"
   ]
  },
  {
   "cell_type": "code",
   "execution_count": 61,
   "metadata": {},
   "outputs": [
    {
     "data": {
      "image/png": "[encoded data removed]",
      "text/latex": [
       "$$- 0.00756558342837494 \\dot{y} \\sqrt{\\dot{x}^{2} + \\dot{y}^{2}} - 9.81$$"
      ],
      "text/plain": [
       "                                 _____________________       \n",
       "                                ╱        2          2        \n",
       "- 0.00756558342837494⋅\\dot{y}⋅╲╱  \\dot{x}  + \\dot{y}   - 9.81"
      ]
     },
     "metadata": {},
     "output_type": "display_data"
    },
    {
     "data": {
      "image/png": "[encoded data removed]",
      "text/latex": [
       "$$- 0.002 t \\left(3.78279171418747 y_{1} \\sqrt{x_{1}^{2} + y_{1}^{2}} + 4905.0\\right) + 14.1421356237309$$"
      ],
      "text/plain": [
       "          ⎛                       ___________         ⎞                   \n",
       "          ⎜                      ╱   2     2          ⎟                   \n",
       "- 0.002⋅t⋅⎝3.78279171418747⋅y₁⋅╲╱  x₁  + y₁   + 4905.0⎠ + 14.1421356237309"
      ]
     },
     "metadata": {},
     "output_type": "display_data"
    },
    {
     "data": {
      "image/png": "[encoded data removed]",
      "text/latex": [
       "$$-11.9498701383346$$"
      ],
      "text/plain": [
       "-11.9498701383346"
      ]
     },
     "metadata": {},
     "output_type": "display_data"
    },
    {
     "data": {
      "image/png": "[encoded data removed]",
      "text/latex": [
       "$$14.1421356237309$$"
      ],
      "text/plain": [
       "14.1421356237309"
      ]
     },
     "metadata": {},
     "output_type": "display_data"
    }
   ],
   "source": [
    "h = 0.01\n",
    "y0 = 0\n",
    "vx0 = v0_val*sy.cos(theta0_val)\n",
    "vy0 = v0_val*sy.sin(theta0_val)\n",
    "#display(vx0)\n",
    "#display(vy0)\n",
    "\n",
    "#ddy_t = a_y.subs(x1, vx0)\n",
    "#display(ddy_t)\n",
    "#ddy_t = ddy_t.subs(y1, vy0)\n",
    "#display(ddy_t)\n",
    "\n",
    "#dy1 = euler(vy0, h, ddy0)\n",
    "#display(dy0)\n",
    "\n",
    "#y1_e = euler(y0, h, vy0)\n",
    "#display(y1_e)\n",
    "\n",
    "ddy_t = ddy_val\n",
    "display(ddy_t)\n",
    "dy_t = dy_val\n",
    "display(dy_t)\n",
    "\n",
    "ddy_n = ddy_t.subs(dotx, vx0).subs(doty, vy0)\n",
    "display(ddy_n)\n",
    "\n",
    "dy_n = dy_t.subs(x1, vx0).subs(y1, vy0).subs(t, 0)\n",
    "display(dy_n)"
   ]
  },
  {
   "cell_type": "code",
   "execution_count": 62,
   "metadata": {},
   "outputs": [],
   "source": [
    "def Wurfsteigung(vy):\n",
    "    eq_th = sy.Eq(0, vy)\n",
    "    display(eq_th)\n",
    "    t_x = sy.solve(eq_th, t)\n",
    "    display(t_x)"
   ]
  },
  {
   "cell_type": "code",
   "execution_count": 63,
   "metadata": {},
   "outputs": [
    {
     "ename": "NameError",
     "evalue": "name 'Wurfdauer' is not defined",
     "output_type": "error",
     "traceback": [
      "\u001b[1;31m---------------------------------------------------------------------------\u001b[0m",
      "\u001b[1;31mNameError\u001b[0m                                 Traceback (most recent call last)",
      "\u001b[1;32m<ipython-input-63-cde62192de44>\u001b[0m in \u001b[0;36m<module>\u001b[1;34m()\u001b[0m\n\u001b[1;32m----> 1\u001b[1;33m \u001b[0mWurfdauer\u001b[0m\u001b[1;33m(\u001b[0m\u001b[0mdy_t\u001b[0m\u001b[1;33m)\u001b[0m\u001b[1;33m\u001b[0m\u001b[0m\n\u001b[0m\u001b[0;32m      2\u001b[0m \u001b[0mddy_n\u001b[0m \u001b[1;33m=\u001b[0m \u001b[0mddy_t\u001b[0m\u001b[1;33m.\u001b[0m\u001b[0msubs\u001b[0m\u001b[1;33m(\u001b[0m\u001b[0mt\u001b[0m\u001b[1;33m,\u001b[0m \u001b[1;36m0\u001b[0m\u001b[1;33m)\u001b[0m\u001b[1;33m\u001b[0m\u001b[0m\n\u001b[0;32m      3\u001b[0m \u001b[0mdy_n\u001b[0m \u001b[1;33m=\u001b[0m \u001b[0mvx0\u001b[0m\u001b[1;33m\u001b[0m\u001b[0m\n",
      "\u001b[1;31mNameError\u001b[0m: name 'Wurfdauer' is not defined"
     ]
    }
   ],
   "source": [
    "Wurfdauer(dy_t)\n",
    "ddy_n = ddy_t.subs(t, 0)\n",
    "dy_n = vx0"
   ]
  },
  {
   "cell_type": "markdown",
   "metadata": {},
   "source": [
    "\n",
    "### iii.\n",
    "\n",
    "Untersuchen Sie die Wurfweite als Funktion der Masse und des Abwurfwinkels\n"
   ]
  },
  {
   "cell_type": "code",
   "execution_count": null,
   "metadata": {},
   "outputs": [],
   "source": [
    "def x_max():\n",
    "    t_m = Wurfdauer()"
   ]
  }
 ],
 "metadata": {
  "kernelspec": {
   "display_name": "Python 3",
   "language": "python",
   "name": "python3"
  },
  "language_info": {
   "codemirror_mode": {
    "name": "ipython",
    "version": 3
   },
   "file_extension": ".py",
   "mimetype": "text/x-python",
   "name": "python",
   "nbconvert_exporter": "python",
   "pygments_lexer": "ipython3",
   "version": "3.6.4"
  }
 },
 "nbformat": 4,
 "nbformat_minor": 2
}
