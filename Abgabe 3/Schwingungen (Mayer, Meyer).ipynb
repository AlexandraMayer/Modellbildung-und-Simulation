{
 "cells": [
  {
   "cell_type": "markdown",
   "metadata": {},
   "source": [
    "# Schwingungen\n",
    "## 3. Abgabe aus dem Fach Modellbildung und Simulation\n",
    "von Alexandra Mayer und Nicholas Meyer"
   ]
  },
  {
   "cell_type": "code",
   "execution_count": 1,
   "metadata": {},
   "outputs": [],
   "source": [
    "import scipy as sc"
   ]
  },
  {
   "cell_type": "markdown",
   "metadata": {},
   "source": [
    "### 1. Gedämpfte Schwingungen\n",
    "\n",
    "Wenn auf eine Masse eine Kraft wirkt, die proportional zu Auslenkung $(F= -Dx) $ aus der Ruhelage ist, schwingt die Masse harmonisch. Die potentielle und kinetische Energie werden während der Schwingung ineinander umgewandelt. In der Realität hat man es aber mit Energie dissipierenden Reibungskräften zu tun. Die Reibungskraft wirkt immer entgegeb der Bewegungsrichtung. Betrachten Sie verschiedene Reibungskräfte, die proportional zu $v^n$ (mit $n = 0, \\frac{1}{2}, 1, 2)$ sind, und stellen Sie die Amplitude als Funktion der Zeit für verschiedene Reibungsstärken dar. "
   ]
  },
  {
   "cell_type": "code",
   "execution_count": null,
   "metadata": {},
   "outputs": [],
   "source": []
  },
  {
   "cell_type": "markdown",
   "metadata": {},
   "source": [
    "### 2. Das nichtlinear Pendel I\n",
    "Schreiben Sie ein Programm zur Lösung der Differentialgleichung $ \\frac{d^2 \\theta}{dt^2} = - \\frac{g}{l} sin( \\theta) \\ (g=9.81 m/s^2, l = 10 \\mathrm{cm})$. Visualisieren Sie den Auslenkungswinkel $\\theta$ als Funktion der Zeit für verschiedene Anfangsauslenkungen $\\theta_0$ und Anfangsgeschwindigkeit $v_0 = 0$"
   ]
  },
  {
   "cell_type": "code",
   "execution_count": null,
   "metadata": {},
   "outputs": [],
   "source": []
  },
  {
   "cell_type": "markdown",
   "metadata": {},
   "source": [
    "### 3. Erzwungene Schwingung\n",
    "Beschreiben sie numereisch algemeine erzwungene Schwingungen eines gedämpften harmonischen Oszillators mit der Differentialgleichung:\n",
    "\n",
    "$$ m \\ddot{x} + c\\dot{x} + Dx = F_0 \\mathrm{cos}( \\Omega t) $$\n",
    "\n",
    "($m$: Masse, $c$: Reibungskoeffizient, $D$: Federkonstante, $D$: Federkonstante, $F_0$: Kraftamplitude, $\\Omega$: äußere Kreisfrequenz, $t$: Zeit). Stellen Sie die Amplitude im eingeschwungenen Zustand als Funktion der Frequenz $\\Omega$ dar. Vergleichen Sie die Kurve mit dem analytischen Ergebnis und dem Fall eines kleinen nicht-linearen Anteils an der Federkraft $D_3x^3$.\n",
    "\n",
    "$$ m \\ddot{x} + c \\dot{x} + D_1x + D_3x^3 = F_0 \\mathrm{cos}( \\Omega t) $$"
   ]
  },
  {
   "cell_type": "code",
   "execution_count": null,
   "metadata": {},
   "outputs": [],
   "source": []
  },
  {
   "cell_type": "markdown",
   "metadata": {},
   "source": [
    "### 4. Das nichtlineare Pendel II\n",
    "Betrachten Sie die nichtlineare, erzwungene Schwingung mit der Differentialgleichung:\n",
    "\n",
    "$$ \\ddot{\\theta} + c \\dot{\\theta} + \\omega_{0}^2 \\mathrm{sin}(\\theta) = F_0 \\mathrm{cos}(\\Omega t)$$\n",
    "\n",
    "mit $\\omega_0 = 1, c= 0.5 \\mathrm{und} \\Omega = 0.6$. Stellen Sie $\\theta$ als Funktion der Zeit graphisch dar und betrachten Sie den Phasenraum ($\\dot{\\theta}$ als Funktion von $\\theta$) für verschiedene Kraftamplituden $0.1 < F_0 < 1.5$. Die Anfangsbedingungen seien $\\theta_0=1$ und $\\dot{\\theta}_0 = 0$. Beschreiben Sie Ihre Beobachtungen."
   ]
  },
  {
   "cell_type": "code",
   "execution_count": null,
   "metadata": {},
   "outputs": [],
   "source": []
  }
 ],
 "metadata": {
  "kernelspec": {
   "display_name": "Python 3",
   "language": "python",
   "name": "python3"
  },
  "language_info": {
   "codemirror_mode": {
    "name": "ipython",
    "version": 3
   },
   "file_extension": ".py",
   "mimetype": "text/x-python",
   "name": "python",
   "nbconvert_exporter": "python",
   "pygments_lexer": "ipython3",
   "version": "3.6.4"
  }
 },
 "nbformat": 4,
 "nbformat_minor": 2
}
