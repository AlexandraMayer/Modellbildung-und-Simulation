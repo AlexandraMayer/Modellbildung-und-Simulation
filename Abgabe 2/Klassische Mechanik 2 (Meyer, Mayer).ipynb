{
 "cells": [
  {
   "cell_type": "code",
   "execution_count": 1,
   "metadata": {},
   "outputs": [
    {
     "data": {
      "application/javascript": [
       "require.undef(\"nbextensions/vpython_libraries/glow.min\");"
      ],
      "text/plain": [
       "<IPython.core.display.Javascript object>"
      ]
     },
     "metadata": {},
     "output_type": "display_data"
    },
    {
     "data": {
      "application/javascript": [
       "require.undef(\"nbextensions/vpython_libraries/glowcomm\");"
      ],
      "text/plain": [
       "<IPython.core.display.Javascript object>"
      ]
     },
     "metadata": {},
     "output_type": "display_data"
    },
    {
     "data": {
      "application/javascript": [
       "require.undef(\"nbextensions/vpython_libraries/jquery-ui.custom.min\");"
      ],
      "text/plain": [
       "<IPython.core.display.Javascript object>"
      ]
     },
     "metadata": {},
     "output_type": "display_data"
    },
    {
     "data": {
      "application/javascript": [
       "require([\"nbextensions/vpython_libraries/glow.min\"], function(){console.log(\"GLOW LOADED\");})"
      ],
      "text/plain": [
       "<IPython.core.display.Javascript object>"
      ]
     },
     "metadata": {},
     "output_type": "display_data"
    },
    {
     "data": {
      "application/javascript": [
       "require([\"nbextensions/vpython_libraries/glowcomm\"], function(){console.log(\"GLOWCOMM LOADED\");})"
      ],
      "text/plain": [
       "<IPython.core.display.Javascript object>"
      ]
     },
     "metadata": {},
     "output_type": "display_data"
    },
    {
     "data": {
      "application/javascript": [
       "require([\"nbextensions/vpython_libraries/jquery-ui.custom.min\"], function(){console.log(\"JQUERY LOADED\");})"
      ],
      "text/plain": [
       "<IPython.core.display.Javascript object>"
      ]
     },
     "metadata": {},
     "output_type": "display_data"
    },
    {
     "data": {
      "text/html": [
       "<div id=\"glowscript\" class=\"glowscript\"></div>"
      ],
      "text/plain": [
       "<IPython.core.display.HTML object>"
      ]
     },
     "metadata": {},
     "output_type": "display_data"
    },
    {
     "data": {
      "application/javascript": [
       "window.__context = { glowscript_container: $(\"#glowscript\").removeAttr(\"id\")}"
      ],
      "text/plain": [
       "<IPython.core.display.Javascript object>"
      ]
     },
     "metadata": {},
     "output_type": "display_data"
    }
   ],
   "source": [
    "import sympy as sy\n",
    "sy.init_printing(use_latex=True)\n",
    "import numpy as np\n",
    "import pandas as pd\n",
    "import scipy as sc\n",
    "import scipy.linalg as LA\n",
    "import matplotlib.pyplot as plt\n",
    "import math\n",
    "import vpython as vp\n",
    "import scipy.integrate as integrate\n",
    "import copy\n",
    "vec = vp.vector"
   ]
  },
  {
   "cell_type": "markdown",
   "metadata": {},
   "source": [
    "# 2. Abgabe aus dem Fach Modellbildung und Simulation - Klassische Mechanik 2"
   ]
  },
  {
   "cell_type": "markdown",
   "metadata": {},
   "source": [
    "## Keplerproblem"
   ]
  },
  {
   "cell_type": "markdown",
   "metadata": {},
   "source": [
    "Zwei Massen $M$ und $m$, die den Abstand $r$ zueinander besitzen, ziehen sich gegenseitig mit der Kraft\n",
    "$$ \\vec{F}_G = -G\\frac{Mm}{r^2}\\vec{e}_r $$\n",
    "an. $G$ ist die universelle Gravitationskonstante."
   ]
  },
  {
   "cell_type": "code",
   "execution_count": 2,
   "metadata": {},
   "outputs": [],
   "source": [
    "x = sy.symbols('x')"
   ]
  },
  {
   "cell_type": "markdown",
   "metadata": {},
   "source": [
    "### 1.\n",
    "Im File Sat.txt sind die Umlaufzeiten $T$ und mittleren Radien $r$ der Umlaufbahnen von vier Satelliten angegeben (die einen Asteroiden umkreisen). Zeigen Sie, dass sich die Datein mit der Form $T=Cr^n$ beschreiben lassen. Bestimmen Sie $n$ und $C$, indem sie Sie die Daten logarithmisch auftragen. Schätzen Sie den fehlenden Radius ab."
   ]
  },
  {
   "cell_type": "markdown",
   "metadata": {},
   "source": [
    "Aufgabe herausfinden was C und n sein können."
   ]
  },
  {
   "cell_type": "markdown",
   "metadata": {},
   "source": [
    "Die Umlaufzeit ist gegeben durch $a= \\omega^2r = (\\frac{2\\pi}{T})^2r$"
   ]
  },
  {
   "cell_type": "code",
   "execution_count": 3,
   "metadata": {
    "scrolled": true
   },
   "outputs": [
    {
     "name": "stdout",
     "output_type": "stream",
     "text": [
      "['T in a ', 'r in Gm ']\n",
      "[['T in a ', 'r in Gm '], ['0.44', '0.088'], ['1.61', '0.208'], ['3.88', '0.374'], ['6.20', '?'], ['7.89', '0.600']]\n",
      "{'T in a ': [0.44, 1.61, 3.88, 6.2, 7.89], 'r in Gm ': [0.088, 0.208, 0.374, x, 0.6]}\n",
      "[0.44, 1.61, 3.88, 7.89]\n",
      "[0.088, 0.208, 0.374, 0.6]\n"
     ]
    },
    {
     "data": {
      "image/png": "[encoded data removed]",
      "text/plain": [
       "<Figure size 432x288 with 1 Axes>"
      ]
     },
     "metadata": {},
     "output_type": "display_data"
    }
   ],
   "source": [
    "with open(\"Sat.txt\", \"r\") as f:\n",
    "    sat = [line.split() for line in f]\n",
    "header_ = sat[0]\n",
    "header = []\n",
    "h_str1 = ''\n",
    "h_str2 = ''\n",
    "for i in range(0, 3):\n",
    "    h_str1 += header_[i] + ' '\n",
    "    h_str2 += header_[i+3] + ' '\n",
    "header = [h_str1, h_str2]\n",
    "sat[0] = header\n",
    "print(header)\n",
    "print(sat)\n",
    "sat_data = {}\n",
    "for s in range(1, len(sat)):\n",
    "    for n in range(0, len(sat[s])):\n",
    "        if sat[s][n] == '?':\n",
    "            sat[s][n] = x\n",
    "        else:\n",
    "            sat[s][n] = float(sat[s][n])\n",
    "sat_data = {sat[0][i]: [ line[i] for line in sat[1:] ]  for i in range(len(sat[0]))}\n",
    "print(sat_data)\n",
    "xs = sat_data['T in a '][0:3]\n",
    "xs.append(sat_data['T in a '][4])\n",
    "print(xs)\n",
    "\n",
    "ys = sat_data['r in Gm '][0:3]\n",
    "ys.append(sat_data['r in Gm '][4])\n",
    "print(ys)\n",
    "plt.loglog(xs, ys, 'o')\n",
    "plt.loglog(xs, ys)\n",
    "plt.xlabel('T in a')\n",
    "plt.ylabel('r in Gm')\n",
    "plt.show()"
   ]
  },
  {
   "cell_type": "markdown",
   "metadata": {},
   "source": [
    "$\\mathrm{ln}(a) + b \\mathrm{ln}(x) = \\mathrm{ln}(y) $\n",
    "Berechnung Potenzfunktion : $y = ax^b$"
   ]
  },
  {
   "cell_type": "markdown",
   "metadata": {},
   "source": [
    "### 2.\n",
    "Schreiben Sie ein Programm, das die Differentialgleichung\n",
    "$$ m\\ddot{\\vec{r}} = -G\\frac{Mm}{r^3}\\vec{r} $$\n",
    "löst und visualisieren Sie die Bahnkurve der Erde um die Sonne. Verwenden sie als Anfangsgeschwindigkeit $(0.0, 29.8)*10^3m/s$ und den Anfangsort der Erde $(1.4960, 0.0)*10^{11}m$ (Die Sonne ruhe anfänglich im Urspung). Überprüfen Sie die Impuls-, Drehimpuls- und Energieerhaltung numerisch."
   ]
  },
  {
   "cell_type": "code",
   "execution_count": 5,
   "metadata": {},
   "outputs": [],
   "source": [
    "M, m, r, G, vr, t = sy.symbols('M, m, r, G, \\\\vec{r}, t')\n",
    "ddr = sy.symbols('\\ddot{\\\\vec{r}}', function=True)"
   ]
  },
  {
   "cell_type": "code",
   "execution_count": 6,
   "metadata": {
    "scrolled": true
   },
   "outputs": [
    {
     "data": {
      "image/png": "[encoded data removed]",
      "text/latex": [
       "$$m \\ddot{\\vec{r}}{\\left (t \\right )} = - \\frac{G M}{r^{3}} \\vec{r} m$$"
      ],
      "text/plain": [
       "                      -G⋅M⋅\\vec{r}⋅m \n",
       "m⋅\\ddot{\\vec{r}}(t) = ───────────────\n",
       "                              3      \n",
       "                             r       "
      ]
     },
     "metadata": {},
     "output_type": "display_data"
    },
    {
     "data": {
      "image/png": "[encoded data removed]",
      "text/latex": [
       "$$\\left [ - \\frac{G M}{r^{3}} \\vec{r}\\right ]$$"
      ],
      "text/plain": [
       "⎡-G⋅M⋅\\vec{r} ⎤\n",
       "⎢─────────────⎥\n",
       "⎢       3     ⎥\n",
       "⎣      r      ⎦"
      ]
     },
     "metadata": {},
     "output_type": "display_data"
    },
    {
     "data": {
      "image/png": "[encoded data removed]",
      "text/latex": [
       "$$\\ddot{\\vec{r}}{\\left (t \\right )} = - \\frac{G M}{r^{3}} \\vec{r}$$"
      ],
      "text/plain": [
       "                    -G⋅M⋅\\vec{r} \n",
       "\\ddot{\\vec{r}}(t) = ─────────────\n",
       "                           3     \n",
       "                          r      "
      ]
     },
     "metadata": {},
     "output_type": "display_data"
    }
   ],
   "source": [
    "gl = sy.Eq(m*ddr(t), -G*((M*m)/r**3)*vr)\n",
    "display(gl)\n",
    "gl = sy.solve(gl, ddr(t))\n",
    "display(gl)\n",
    "gl2 = sy.Eq(ddr(t), gl[0])\n",
    "display(gl2)"
   ]
  },
  {
   "cell_type": "code",
   "execution_count": 7,
   "metadata": {},
   "outputs": [],
   "source": [
    "def rk4(y, t, m, h, ode):\n",
    "    k1 = np.array(ode(t, y, m))\n",
    "    k2 = np.array(ode(t+(h/2), y+ (h/2)*k1, m))\n",
    "    k3 = np.array(ode(t+(h/2), y+(h/2)*k2, m))\n",
    "    k4 = np.array(ode(t+h, y+h*k3, m))\n",
    "    ynew = y + h*(k1+2*k2+2*k3+k4)/6\n",
    "    return ynew"
   ]
  },
  {
   "cell_type": "code",
   "execution_count": 8,
   "metadata": {},
   "outputs": [],
   "source": [
    "#def ODEBahngleichung(t, y):\n",
    "def ODEBahngleichung(y, t):\n",
    "    #print('Bahngleichung')\n",
    "    #print('t', t)\n",
    "    #print('y', y)\n",
    "    rx = y[0]\n",
    "    ry = y[1]\n",
    "    dy = np.zeros_like(y)\n",
    "    dy[0] = y[-2]\n",
    "    dy[1] = y[-1]\n",
    "    #dy[2] = -(G_val*M_val*rx)/(sy.sqrt(rx**2+ry**2)**3)\n",
    "    #dy[3] = -(G_val*M_val*ry)/(sy.sqrt(rx**2+ry**2)**3)\n",
    "    GM = G_val*M_val\n",
    "    #print('rx', rx)\n",
    "    #print('GM', GM)\n",
    "    #print('|r|', sy.sqrt(rx**2+ry**2))\n",
    "    dy[2] = -((G_val*M_val)*rx)/(sy.sqrt(rx**2+ry**2)**3)\n",
    "    dy[3] = -((G_val*M_val)*ry)/(sy.sqrt(rx**2+ry**2)**3)\n",
    "    #print('old r_n', y)\n",
    "    #print('dr_n', dy)\n",
    "    return dy"
   ]
  },
  {
   "cell_type": "code",
   "execution_count": 9,
   "metadata": {},
   "outputs": [],
   "source": [
    "def ODEBahngleichung_rk(t, y, m):\n",
    "#def ODEBahngleichung(y, t):\n",
    "    #print('Bahngleichung')\n",
    "    #print('t', t)\n",
    "    #print('y', y)\n",
    "    rx = y[0]\n",
    "    ry = y[1]\n",
    "    dy = np.zeros_like(y)\n",
    "    dy[0] = y[-2]\n",
    "    dy[1] = y[-1]\n",
    "    #dy[2] = -(G_val*M_val*rx)/(sy.sqrt(rx**2+ry**2)**3)\n",
    "    #dy[3] = -(G_val*M_val*ry)/(sy.sqrt(rx**2+ry**2)**3)\n",
    "    dy[2] = -((G_val*m)*rx)/(sy.sqrt(rx**2+ry**2)**3)\n",
    "    dy[3] = -((G_val*m)*ry)/(sy.sqrt(rx**2+ry**2)**3)\n",
    "    #print('old r_n', y)\n",
    "    #print('dr_n', dy)\n",
    "    return dy"
   ]
  },
  {
   "cell_type": "code",
   "execution_count": 10,
   "metadata": {},
   "outputs": [],
   "source": [
    "def euler(y, t, h, ode):\n",
    "    ynew = y+h*np.array(ode(t,y))\n",
    "    return ynew"
   ]
  },
  {
   "cell_type": "code",
   "execution_count": 11,
   "metadata": {},
   "outputs": [],
   "source": [
    "def abl(f, xold, xnew):\n",
    "    t = 0\n",
    "    diff_matr = np.zeros(shape=(len(xold),len(xold)))\n",
    "    for i in range(0, len(xold)):\n",
    "        xzw = copy.deepcopy(xold)\n",
    "        xer = xnew[i]\n",
    "        xzw[i] = xer\n",
    "        fold = np.array(f(t, xold))\n",
    "        fzw = np.array(f(t, xzw))\n",
    "        dif_q = np.array((fold-fzw)/(xold[i]-xnew[i]))\n",
    "        dif_q = list(dif_q)\n",
    "        for j in range(0, len(dif_q)):\n",
    "            #print(dif_q[j])\n",
    "            diff_matr[i][j] = dif_q[j]\n",
    "    return diff_matr"
   ]
  },
  {
   "cell_type": "code",
   "execution_count": 12,
   "metadata": {},
   "outputs": [],
   "source": [
    "def impeuler(y, t, h, ode):\n",
    "    y_np1 = euler(y, t, h, ode)\n",
    "    abl_m = abl(ode, y, y_np1)\n",
    "    J = np.array(np.eye(len(y)))-(h*abl_m)\n",
    "    J = J.T\n",
    "    LU, P = LA.lu_factor(J)\n",
    "    for i in range(1,3):\n",
    "        b1 = (h*np.array(ode(t+h, y_np1)))\n",
    "        b2 = (y+(-1)*h*np.array(ode(t+h, y_np1)))\n",
    "        b = (-1*(y_np1-y-b1))\n",
    "        y_del = LA.lu_solve((LU, P), b)\n",
    "        y_np1 = y_np1 + y_del\n",
    "    ynew = y_np1\n",
    "    return ynew"
   ]
  },
  {
   "cell_type": "code",
   "execution_count": 742,
   "metadata": {},
   "outputs": [],
   "source": [
    "#Grafik\n",
    "M_val = m_s\n",
    "G_val = 6.674031e-11\n",
    "def Bahnkurve_Plot(anfangsort, anfangsgesch, t0, tend, N=1000):\n",
    "    vr_val = anfangsort-a_ort_sonne\n",
    "    print('abstand', vr_val)\n",
    "    r_val = LA.norm(vr_val)\n",
    "    print('abstand norm ', r_val)\n",
    "    #C1_val = anfangsgesch + G_val*(M_val*r_val)/(LA.norm(r_val)**3)*t0\n",
    "    #ddr_t = (-(G_val*M_val*np.array([rx1, ry1]))/(sy.sqrt(rx1**2+ry1**2)**3))\n",
    "    print('GM', G_val*M_val)\n",
    "    #display(ddr_n)\n",
    "    #dr_n = anfangsgesch\n",
    "    #ddr_n = ddr(t0, dr_n, vr_val)\n",
    "    r_n = np.array([vr_val[0], vr_val[1], anfangsgesch[0], anfangsgesch[1]])\n",
    "    dr_n = ODEBahngleichung_rk(t0, r_n)\n",
    "    #dr_n = ODEBahngleichung(r_n, t0)\n",
    "    xs = [r_n[0]]\n",
    "    ys = [r_n[1]]\n",
    "    tvals, h = np.linspace(t0, tend, N, retstep=True)\n",
    "    print('h', h)\n",
    "    gesch = [r_n[2], r_n[3]]\n",
    "    ort = [r_n[0], r_n[1]]\n",
    "    alpha = np.arccos(np.dot(gesch, ort)/(LA.norm(gesch)*LA.norm(ort)))\n",
    "    I = m_erde*LA.norm(gesch)\n",
    "    Is = [I]\n",
    "    L = m_erde*LA.norm(gesch)*LA.norm(ort)*math.sin(alpha)\n",
    "    LS = [L]\n",
    "    plt.plot(anfangsort[0], anfangsort[1], 'ob', label='Anfangsort Erde', ms=4)\n",
    "    plt.plot(a_ort_sonne[0], a_ort_sonne[1], 'oy', label='Anfangsort Sonne', ms=10)\n",
    "    for ts in tvals:\n",
    "        #ddr_np1 = np.array([0., 0.])\n",
    "        #print('ddr_t', ddr_t[1].subs(rx1, r_n[0]).subs(ry1, r_n[1]))\n",
    "        #print('dr_n', dr_n)\n",
    "        #print('r_n', r_n)\n",
    "        #ddr_np1 = ddr(t, dr_n, r_n)\n",
    "        #display(ddr_np1)\n",
    "        #dr_np1 = rk4(r_n, dr_n, t, h, ddr)\n",
    "        #r_np1 = rk4(r_n, r_n, t, h, dr)\n",
    "        #print('r_np1', r_np1)\n",
    "        r_np1 = rk4(r_n, ts, h, ODEBahngleichung_rk)\n",
    "        gesch = [r_n[2], r_n[3]]\n",
    "        ort = [r_n[0], r_n[1]]\n",
    "        alpha = np.arccos(np.dot(gesch, ort)/(LA.norm(gesch)*LA.norm(ort)))\n",
    "        L = m_erde*LA.norm(gesch)*LA.norm(ort)*math.sin(alpha)\n",
    "        #assert np.allclose(L, LS[-1])\n",
    "        LS.append(L)\n",
    "        I = m_erde*LA.norm(gesch)\n",
    "        Is.append(I)\n",
    "        #assert np.allclose(I, Is[-1])\n",
    "        \n",
    "        xs.append(r_np1[0])\n",
    "        ys.append(r_np1[1])\n",
    "        \n",
    "        #ddr_n = ddr_np1\n",
    "        #dr_n = dr_np1\n",
    "        r_n = r_np1\n",
    "    #print(xs)\n",
    "    #print(ys)\n",
    "    #sol = integrate.odeint(ODEBahngleichung, r_n, tvals)\n",
    "    #print(sol)\n",
    "    #print(sol[1])\n",
    "    #xs = [s[0] for s in sol]\n",
    "    #ys = [s[1] for s in sol]\n",
    "    #print('maximal y', max(ys))\n",
    "    #print('minimal y', min(ys))\n",
    "    #print((max(ys)-min(ys))/2)\n",
    "    #print((max(xs)-min(xs))/2)\n",
    "    #x_list = np.arange(min(xs), max(xs), 1e10)\n",
    "    #print([min(ys)+(max(ys)-min(ys)/2)]*len(x_list))\n",
    "    #plt.plot(x_list, [min(ys)+((max(ys)-min(ys))/2)]*len(x_list), '--r')\n",
    "    #y_list = np.arange(min(ys), max(ys), 1e10)\n",
    "    #print([min(ys)+(max(ys)-min(ys)/2)]*len(x_list))\n",
    "    #x_list = [min(xs)+((max(xs)-min(xs))/2)]*len(y_list)\n",
    "    #plt.plot(x_list, y_list, '--g')\n",
    "    #print([min(xs)+((max(xs)-min(xs))/2)]*len(y_list))\n",
    "    #print(xs)\n",
    "    plt.plot(xs, ys, 'b', label='Bahnkurve Erde')\n",
    "    plt.plot(xs[-1], ys[-1], 'ob', label='Endort Erde', mec='#000000')\n",
    "    plt.legend()\n",
    "    #plt.axis([-2.5e11, 2.5e11, -2.5e11, 2.5e11])\n",
    "    plt.axis('scaled')\n",
    "    plt.show()\n",
    "    return LS, Is"
   ]
  },
  {
   "cell_type": "code",
   "execution_count": 743,
   "metadata": {},
   "outputs": [
    {
     "data": {
      "text/plain": [
       "\"\\nG_val = 6.674031e-11\\ndef Bahnkurve_Plot(anfangsorte, anfangsgesch, massen, t0, tend, N=1000):\\n    a_ort_e = anfangsorte[0]\\n    a_ort_s = anfangsorte[1]\\n    a_gesch_e = anfangsgesch[0]\\n    a_gesch_s = anfangsgesch[1]\\n    vr_val = a_ort_e-a_ort_s\\n    print('abstand', vr_val)\\n    r_val = LA.norm(vr_val)\\n    print('abstand norm ', r_val)\\n    #C1_val = anfangsgesch + G_val*(M_val*r_val)/(LA.norm(r_val)**3)*t0\\n    #ddr_t = (-(G_val*M_val*np.array([rx1, ry1]))/(sy.sqrt(rx1**2+ry1**2)**3))\\n    #display(ddr_n)\\n    #dr_n = anfangsgesch\\n    #ddr_n = ddr(t0, dr_n, vr_val)\\n    tvals, h = np.linspace(t0, tend, N, retstep=True)\\n    LS = []\\n    IS = []\\n    farben = ['b', 'y']\\n    namen = ['Erde', 'Sonne']\\n    radien = [5, 10]\\n    for p in range(0, len(anfangsgesch)):\\n        Ls = []\\n        Is = []\\n        print(abs(p-1))\\n        M_val_that = massen[abs(p-1)]\\n        M_val_this = massen[p]\\n        rschw = ((M_val_that)/(M_val_this+M_val_that))*dist\\n        print('masse für for = ', p, '=', M_val_that)\\n        r_n = np.array([vr_val[0], vr_val[1], anfangsgesch[p][0], anfangsgesch[p][1]])\\n        dr_n = ODEBahngleichung_rk(t0, r_n, M_val_that)\\n        #dr_n = ODEBahngleichung(r_n, t0)\\n        \\n        xs = [r_n[0]]\\n        ys = [r_n[1]]\\n        #print('h', h)\\n        plt.plot(anfangsorte[p][0], anfangsorte[p][1], 'o'+farben[p], label='Anfangsort '+namen[p], ms=radien[p])\\n        \\n        gesch = [r_n[2], r_n[3]]\\n        ort = [r_n[0], r_n[1]]\\n        #if LA.norm(gesch) > 0 and ort > 0:\\n        #    alpha = np.arccos(np.dot(gesch, ort)/(LA.norm(gesch)*LA.norm(ort)))\\n        #    I = M_val_this*LA.norm(gesch)\\n        #    Is = [I]\\n        #    L = M_val_this*LA.norm(gesch)*LA.norm(ort)*math.sin(alpha)\\n        #    Ls = [L]\\n        \\n        for ts in tvals:\\n            #ddr_np1 = np.array([0., 0.])\\n            #print('ddr_t', ddr_t[1].subs(rx1, r_n[0]).subs(ry1, r_n[1]))\\n            #print('dr_n', dr_n)\\n            #print('r_n', r_n)\\n            #ddr_np1 = ddr(t, dr_n, r_n)\\n            #display(ddr_np1)\\n            #dr_np1 = rk4(r_n, dr_n, t, h, ddr)\\n            #r_np1 = rk4(r_n, r_n, t, h, dr)\\n            #print('r_np1', r_np1)\\n            r_np1 = rk4(r_n, ts, M_val_that, h, ODEBahngleichung_rk)\\n            gesch = [r_n[2], r_n[3]]\\n            ort = [r_n[0], r_n[1]]\\n            #alpha = np.arccos(np.dot(gesch, ort)/(LA.norm(gesch)*LA.norm(ort)))\\n            L = M_val_this*LA.norm(gesch)*LA.norm(ort)*math.sin(alpha)\\n            assert np.allclose(L, Ls[-1])\\n            Ls.append(L)\\n            #I = M_val_this*LA.norm(gesch)\\n            #Is.append(I)\\n            #assert np.allclose(I, Is[-1])\\n\\n            xs.append(r_np1[0])\\n            ys.append(r_np1[1])\\n\\n            #ddr_n = ddr_np1\\n            #dr_n = dr_np1\\n            r_n = r_np1\\n    #print(xs)\\n    #print(ys)\\n    #sol = integrate.odeint(ODEBahngleichung, r_n, tvals)\\n    #print(sol)\\n    #print(sol[1])\\n    #xs = [s[0] for s in sol]\\n    #ys = [s[1] for s in sol]\\n    #print('maximal y', max(ys))\\n    #print('minimal y', min(ys))\\n    #print((max(ys)-min(ys))/2)\\n    #print((max(xs)-min(xs))/2)\\n    #x_list = np.arange(min(xs), max(xs), 1e10)\\n    #print([min(ys)+(max(ys)-min(ys)/2)]*len(x_list))\\n    #plt.plot(x_list, [min(ys)+((max(ys)-min(ys))/2)]*len(x_list), '--r')\\n    #y_list = np.arange(min(ys), max(ys), 1e10)\\n    #print([min(ys)+(max(ys)-min(ys)/2)]*len(x_list))\\n    #x_list = [min(xs)+((max(xs)-min(xs))/2)]*len(y_list)\\n    #plt.plot(x_list, y_list, '--g')\\n    #print([min(xs)+((max(xs)-min(xs))/2)]*len(y_list))\\n    #print(xs)\\n        #IS.append(Is)\\n        LS.append(Ls)\\n        plt.plot(xs, ys, 'b', label='Bahnkurve Erde')\\n        plt.plot(xs[-1], ys[-1], 'ob', label='Endort Erde', mec='#000000')\\n    plt.legend()\\n    #plt.axis([-2.5e11, 2.5e11, -2.5e11, 2.5e11])\\n    plt.axis('scaled')\\n    plt.show()\\n        \\n    return LS, IS\\n\""
      ]
     },
     "execution_count": 743,
     "metadata": {},
     "output_type": "execute_result"
    }
   ],
   "source": [
    "#Grafik\n",
    "#M_val = m_sonne\n",
    "\"\"\"\n",
    "G_val = 6.674031e-11\n",
    "def Bahnkurve_Plot(anfangsorte, anfangsgesch, massen, t0, tend, N=1000):\n",
    "    a_ort_e = anfangsorte[0]\n",
    "    a_ort_s = anfangsorte[1]\n",
    "    a_gesch_e = anfangsgesch[0]\n",
    "    a_gesch_s = anfangsgesch[1]\n",
    "    vr_val = a_ort_e-a_ort_s\n",
    "    print('abstand', vr_val)\n",
    "    r_val = LA.norm(vr_val)\n",
    "    print('abstand norm ', r_val)\n",
    "    #C1_val = anfangsgesch + G_val*(M_val*r_val)/(LA.norm(r_val)**3)*t0\n",
    "    #ddr_t = (-(G_val*M_val*np.array([rx1, ry1]))/(sy.sqrt(rx1**2+ry1**2)**3))\n",
    "    #display(ddr_n)\n",
    "    #dr_n = anfangsgesch\n",
    "    #ddr_n = ddr(t0, dr_n, vr_val)\n",
    "    tvals, h = np.linspace(t0, tend, N, retstep=True)\n",
    "    LS = []\n",
    "    IS = []\n",
    "    farben = ['b', 'y']\n",
    "    namen = ['Erde', 'Sonne']\n",
    "    radien = [5, 10]\n",
    "    for p in range(0, len(anfangsgesch)):\n",
    "        Ls = []\n",
    "        Is = []\n",
    "        print(abs(p-1))\n",
    "        M_val_that = massen[abs(p-1)]\n",
    "        M_val_this = massen[p]\n",
    "        rschw = ((M_val_that)/(M_val_this+M_val_that))*dist\n",
    "        print('masse für for = ', p, '=', M_val_that)\n",
    "        r_n = np.array([vr_val[0], vr_val[1], anfangsgesch[p][0], anfangsgesch[p][1]])\n",
    "        dr_n = ODEBahngleichung_rk(t0, r_n, M_val_that)\n",
    "        #dr_n = ODEBahngleichung(r_n, t0)\n",
    "        \n",
    "        xs = [r_n[0]]\n",
    "        ys = [r_n[1]]\n",
    "        #print('h', h)\n",
    "        plt.plot(anfangsorte[p][0], anfangsorte[p][1], 'o'+farben[p], label='Anfangsort '+namen[p], ms=radien[p])\n",
    "        \n",
    "        gesch = [r_n[2], r_n[3]]\n",
    "        ort = [r_n[0], r_n[1]]\n",
    "        #if LA.norm(gesch) > 0 and ort > 0:\n",
    "        #    alpha = np.arccos(np.dot(gesch, ort)/(LA.norm(gesch)*LA.norm(ort)))\n",
    "        #    I = M_val_this*LA.norm(gesch)\n",
    "        #    Is = [I]\n",
    "        #    L = M_val_this*LA.norm(gesch)*LA.norm(ort)*math.sin(alpha)\n",
    "        #    Ls = [L]\n",
    "        \n",
    "        for ts in tvals:\n",
    "            #ddr_np1 = np.array([0., 0.])\n",
    "            #print('ddr_t', ddr_t[1].subs(rx1, r_n[0]).subs(ry1, r_n[1]))\n",
    "            #print('dr_n', dr_n)\n",
    "            #print('r_n', r_n)\n",
    "            #ddr_np1 = ddr(t, dr_n, r_n)\n",
    "            #display(ddr_np1)\n",
    "            #dr_np1 = rk4(r_n, dr_n, t, h, ddr)\n",
    "            #r_np1 = rk4(r_n, r_n, t, h, dr)\n",
    "            #print('r_np1', r_np1)\n",
    "            r_np1 = rk4(r_n, ts, M_val_that, h, ODEBahngleichung_rk)\n",
    "            gesch = [r_n[2], r_n[3]]\n",
    "            ort = [r_n[0], r_n[1]]\n",
    "            #alpha = np.arccos(np.dot(gesch, ort)/(LA.norm(gesch)*LA.norm(ort)))\n",
    "            L = M_val_this*LA.norm(gesch)*LA.norm(ort)*math.sin(alpha)\n",
    "            assert np.allclose(L, Ls[-1])\n",
    "            Ls.append(L)\n",
    "            #I = M_val_this*LA.norm(gesch)\n",
    "            #Is.append(I)\n",
    "            #assert np.allclose(I, Is[-1])\n",
    "\n",
    "            xs.append(r_np1[0])\n",
    "            ys.append(r_np1[1])\n",
    "\n",
    "            #ddr_n = ddr_np1\n",
    "            #dr_n = dr_np1\n",
    "            r_n = r_np1\n",
    "    #print(xs)\n",
    "    #print(ys)\n",
    "    #sol = integrate.odeint(ODEBahngleichung, r_n, tvals)\n",
    "    #print(sol)\n",
    "    #print(sol[1])\n",
    "    #xs = [s[0] for s in sol]\n",
    "    #ys = [s[1] for s in sol]\n",
    "    #print('maximal y', max(ys))\n",
    "    #print('minimal y', min(ys))\n",
    "    #print((max(ys)-min(ys))/2)\n",
    "    #print((max(xs)-min(xs))/2)\n",
    "    #x_list = np.arange(min(xs), max(xs), 1e10)\n",
    "    #print([min(ys)+(max(ys)-min(ys)/2)]*len(x_list))\n",
    "    #plt.plot(x_list, [min(ys)+((max(ys)-min(ys))/2)]*len(x_list), '--r')\n",
    "    #y_list = np.arange(min(ys), max(ys), 1e10)\n",
    "    #print([min(ys)+(max(ys)-min(ys)/2)]*len(x_list))\n",
    "    #x_list = [min(xs)+((max(xs)-min(xs))/2)]*len(y_list)\n",
    "    #plt.plot(x_list, y_list, '--g')\n",
    "    #print([min(xs)+((max(xs)-min(xs))/2)]*len(y_list))\n",
    "    #print(xs)\n",
    "        #IS.append(Is)\n",
    "        LS.append(Ls)\n",
    "        plt.plot(xs, ys, 'b', label='Bahnkurve Erde')\n",
    "        plt.plot(xs[-1], ys[-1], 'ob', label='Endort Erde', mec='#000000')\n",
    "    plt.legend()\n",
    "    #plt.axis([-2.5e11, 2.5e11, -2.5e11, 2.5e11])\n",
    "    plt.axis('scaled')\n",
    "    plt.show()\n",
    "        \n",
    "    return LS, IS\n",
    "\"\"\""
   ]
  },
  {
   "cell_type": "code",
   "execution_count": 744,
   "metadata": {},
   "outputs": [],
   "source": [
    "def ODEPlaneten_rk(t, y, massen):\n",
    "    '''\n",
    "    berechnet die rechte Seite der Differentialgleichung \n",
    "    Zunächst kommen alle Variablen (x,y,vx,vy) für den ersten Planeten, dann alle 4 für den zweiten,... \n",
    "    :param t: aktueller zeitpunkt\n",
    "    :param y: aktueller y-Wert (n Komponenten)\n",
    "    :return: rechte Seite f der Dgl. y'=f(t,y)\n",
    "    '''\n",
    "\n",
    "    # Daten der Planeten\n",
    "    G = 6.674E-11 #Gravitationskonstante\n",
    "    y = np.array(y)\n",
    "    y = y.reshape(-1, 4)\n",
    "    #print(y)\n",
    "    rs = []\n",
    "    dy = []\n",
    "    #print(planets)\n",
    "    for i in range(0, len(y)):\n",
    "        F_i = np.array([0., 0.])\n",
    "        rs.append(np.array([y[i][0], y[i][1]]))\n",
    "        r_i = np.array([y[i][0], y[i][1]])\n",
    "        for j in range(0, len(y)):\n",
    "            if i != j:\n",
    "                r_j = np.array([y[j][0], y[j][1]])\n",
    "                m_j = massen[j]\n",
    "                dist = r_i-r_j\n",
    "                if LA.norm(dist) > 0:\n",
    "                    F_i += m_j *((dist)/(LA.norm(dist))**3)\n",
    "                else:\n",
    "                    F_i += np.array([0., 0.])\n",
    "        #f i == 1:\n",
    "        #   print('F_i', F_i)\n",
    "        ddr_i = -G*F_i\n",
    "        dy.append(y[i][2])\n",
    "        dy.append(y[i][3])\n",
    "        dy.append(ddr_i[0])\n",
    "        dy.append(ddr_i[1])\n",
    "    return dy"
   ]
  },
  {
   "cell_type": "code",
   "execution_count": 745,
   "metadata": {},
   "outputs": [],
   "source": [
    "def integrateall(method, ode, massen, y0, t0, tend, N, intermediate=False):\n",
    "    \"\"\"\n",
    "    :param method: Enschrittverfahren\n",
    "    :param ode: Rechte seite der Dgl\n",
    "    :param y0: Anfangswert\n",
    "    :param t0: Anfangszeitpunkt\n",
    "    :param tend: Endzeitpunkt\n",
    "    :param N: Anzahl der Schritte\n",
    "    :param intermediate: True, wenn zum Plotten der Lösung auch die Ergebnisse der Zwischenschritte zurückgegeben werden sollen\n",
    "    :return: Lösung am Endzeitpunkt (bzw. zusätzlich an den Zwischenzetpunkten, wenn intermediate =True)\n",
    "    \"\"\"\n",
    "    yvals = [y0]\n",
    "    print('integrateall', yvals)\n",
    "    space =  np.linspace(t0, round(tend, 5), num=N, retstep=True, dtype=float)\n",
    "    tvals = space[0]\n",
    "    h = space[1]\n",
    "    y = y0\n",
    "    for ts in tvals:\n",
    "        y = method(y, ts, massen, h, ode)\n",
    "        yvals.append(y)\n",
    "    del yvals[-1]\n",
    "    yend=yvals[-1]\n",
    "    if intermediate:\n",
    "        return np.array(yvals), tvals\n",
    "    else:\n",
    "        return yend"
   ]
  },
  {
   "cell_type": "code",
   "execution_count": 746,
   "metadata": {},
   "outputs": [],
   "source": [
    "def Planeten_Coordinates(Planeten, t0, tend, N):\n",
    "    Planet_n = []\n",
    "    tvals, h = np.linspace(t0, tend, N, retstep=True)\n",
    "    #print(h)\n",
    "    coordinates = {}\n",
    "    y_planeten = []\n",
    "    massen = []\n",
    "    for planet in Planeten:\n",
    "        print(planet)\n",
    "        Planet_n.append(planet)\n",
    "        x_s = Planeten[planet]['pos'][0]\n",
    "        y_s = Planeten[planet]['pos'][1]\n",
    "        dx_s = Planeten[planet]['gesch'][0]\n",
    "        dy_s = Planeten[planet]['gesch'][1]\n",
    "        y_planeten.append(x_s)\n",
    "        y_planeten.append(y_s)\n",
    "        y_planeten.append(dx_s)\n",
    "        y_planeten.append(dy_s)\n",
    "        massen.append(Planeten[planet]['masse'])\n",
    "        coordinates[planet] = {'x':[], 'y':[]}\n",
    "    #y_list = [y_sterne]\n",
    "    print('y planeten', y_planeten)\n",
    "    y_list, t_list = integrateall(rk4, ODEPlaneten_rk, massen, y_planeten, t0, tend, N, intermediate=True)\n",
    "    #print(y_list)\n",
    "    #y_list[0] = np.array(y_list[0])\n",
    "    #print(y_list)\n",
    "    for y_step in y_list:\n",
    "        y_shaped = y_step.reshape(-1, 4)\n",
    "        #print('y shaped', y_shaped)\n",
    "        for i in range(0, len(y_shaped)):\n",
    "            list_c = coordinates[Planet_n[i]]['x']\n",
    "            #print(y_shaped[i][0])\n",
    "            list_c.append(y_shaped[i][0])\n",
    "            list_c = coordinates[Planet_n[i]]['y']\n",
    "            list_c.append(y_shaped[i][1])\n",
    "    \n",
    "    return coordinates"
   ]
  },
  {
   "cell_type": "code",
   "execution_count": 767,
   "metadata": {},
   "outputs": [],
   "source": [
    "def Planets_Plot(Namen, AOrte, AGesch, Massen, Zeiten, Schritte):\n",
    "    Planeten = {}\n",
    "    print(len(AOrte))\n",
    "    print(Namen)\n",
    "    print(AOrte)\n",
    "    print(AGesch)\n",
    "    print(Massen)\n",
    "    print(Zeiten)\n",
    "    print(Schritte)\n",
    "    for i in range(0, len(AOrte)):\n",
    "        print(i)\n",
    "        Planeten[Namen[i]] = {'pos' : AOrte[i], 'gesch': AGesch[i], 'masse': Massen[i]}\n",
    "    print(Planeten)\n",
    "    t0 = Zeiten[0]\n",
    "    tend = Zeiten[1]\n",
    "    N = Schritte\n",
    "    coordinates = Planeten_Coordinates(Planeten, t0, tend, N)\n",
    "    #print(coordinates)\n",
    "    for st in coordinates:\n",
    "        r = np.random.rand()\n",
    "        g = np.random.rand()\n",
    "        b = np.random.rand()\n",
    "        xs = coordinates[st]['x']\n",
    "        ys = coordinates[st]['y']\n",
    "        plt.plot(xs[0], ys[0], 'x', color=[r, g, b], label='Anfangspunkt'+st)\n",
    "        plt.plot(xs, ys, color=[r, g, b], label=st)\n",
    "        plt.plot(xs[-1], ys[-1], 'o', color=[r, g, b], label='Endpunkt'+st)\n",
    "\n",
    "    plt.legend()\n",
    "    #plt.axis('scaled')\n",
    "    #plt.show()\n",
    "    return coordinates"
   ]
  },
  {
   "cell_type": "code",
   "execution_count": 768,
   "metadata": {},
   "outputs": [
    {
     "name": "stdout",
     "output_type": "stream",
     "text": [
      "5.974e+24\n",
      "39.47841760435743\n"
     ]
    }
   ],
   "source": [
    "r1 = sy.symbols('\\\\vec{r}_1')\n",
    "rx1 = sy.symbols('r_{x_1}')\n",
    "ry1 = sy.symbols('r_{y_1}')\n",
    "m_e = 5.974E24\n",
    "print(m_e)\n",
    "m_s = 1.989E30\n",
    "#a_ort_e = np.array([1.4960e11, 0.])\n",
    "a_ort_e = np.array([149.6E6*10e3, 0.0])\n",
    "a_ort_s = np.array([0, 0.])\n",
    "#a_gesch_e = np.array([0., 29.8e3])\n",
    "a_gesch_e = np.array([0.0, -29.78]) \n",
    "a_gesch_s = np.array([0., 0.])\n",
    "#G_val = 6.673E-20\n",
    "#print(G_val*m_s)\n",
    "print(4*np.pi*np.pi)\n",
    "\n",
    "#a_gesch_e = np.array([0., 40e2])"
   ]
  },
  {
   "cell_type": "code",
   "execution_count": 769,
   "metadata": {},
   "outputs": [
    {
     "name": "stdout",
     "output_type": "stream",
     "text": [
      "5.972e+24\n"
     ]
    }
   ],
   "source": [
    "#m_e = 5.972e24\n",
    "m_e = 5.972e24\n",
    "print(m_e)\n",
    "#m_s = 1.989e30\n",
    "m_s = 1.989e30\n",
    "a_ort_e = np.array([149.6e11, 0.])\n",
    "#a_ort_e = np.array([149.6e6, 0.0])\n",
    "a_ort_s = np.array([0, 0.])\n",
    "#a_gesch_e = np.array([0., 29.8e3])\n",
    "#a_gesch_e = np.array([0.0, -29.78]) \n",
    "#a_gesch_e = np.array([0.0, 29.8e3])\n",
    "a_gesch_e = np.array([0.0, 2.978e3])\n",
    "\n",
    "a_gesch_s = np.array([0., 0.])\n",
    "#print(np.sqrt((6.674E-11*m_s)/a_ort_e))\n",
    "#G_val = 6.673E-22\n",
    "#print(G_val*m_s)\n",
    "#print(4*np.pi*np.pi)\n",
    "\n",
    "#a_gesch_e = np.array([0., 40e2])"
   ]
  },
  {
   "cell_type": "code",
   "execution_count": 771,
   "metadata": {},
   "outputs": [
    {
     "name": "stdout",
     "output_type": "stream",
     "text": [
      "2\n",
      "['Sonne', 'Erde']\n",
      "[array([0., 0.]), array([1.496e+13, 0.000e+00])]\n",
      "[array([0., 0.]), array([   0., 2978.])]\n",
      "[1.989e+30, 5.972e+24]\n",
      "[0, 31540000000.0]\n",
      "10000\n",
      "0\n",
      "1\n",
      "{'Sonne': {'pos': array([0., 0.]), 'gesch': array([0., 0.]), 'masse': 1.989e+30}, 'Erde': {'pos': array([1.496e+13, 0.000e+00]), 'gesch': array([   0., 2978.]), 'masse': 5.972e+24}}\n",
      "Sonne\n",
      "Erde\n",
      "y planeten [0.0, 0.0, 0.0, 0.0, 14960000000000.0, 0.0, 0.0, 2978.0]\n",
      "integrateall [[0.0, 0.0, 0.0, 0.0, 14960000000000.0, 0.0, 0.0, 2978.0]]\n",
      "[0.0, 8.859782197238836, 35.43912529967024, 79.73801883944036, 141.75644537013068, 221.49438046676477, 318.95179272581777, 434.12864376522884, 567.0248882244159, 717.6404737642933]\n",
      "[14960000000000.0, 14959997049211.857, 14959988196848.59, 14959973442913.686, 14959952787412.953, 14959926230354.53, 14959893771748.873, 14959855411608.766, 14959811149949.316, 14959760986787.957]\n"
     ]
    },
    {
     "data": {
      "image/png": "[encoded data removed]",
      "text/plain": [
       "<Figure size 432x288 with 1 Axes>"
      ]
     },
     "metadata": {},
     "output_type": "display_data"
    }
   ],
   "source": [
    "Namen = ['Sonne', 'Erde']\n",
    "Orte = [a_ort_s, a_ort_e]\n",
    "Gesch = [a_gesch_s, a_gesch_e]\n",
    "Massen = [m_s, m_e]\n",
    "c = Planets_Plot(Namen, Orte, Gesch, Massen, [0, 3.154e10], 10000)\n",
    "plt.axis('scaled')\n",
    "print(c['Sonne']['x'][0:10])\n",
    "print(c['Erde']['x'][0:10])"
   ]
  },
  {
   "cell_type": "code",
   "execution_count": 772,
   "metadata": {},
   "outputs": [
    {
     "name": "stdout",
     "output_type": "stream",
     "text": [
      "5.972e+24\n"
     ]
    }
   ],
   "source": [
    "#m_e = 5.972e24\n",
    "m_e = 5.972e24\n",
    "print(m_e)\n",
    "#m_s = 1.989e30\n",
    "m_s = 1.989e30\n",
    "a_ort_e = np.array([149.6e11, 0.])\n",
    "#a_ort_e = np.array([149.6e6, 0.0])\n",
    "a_ort_s = np.array([0, 0.])\n",
    "#a_gesch_e = np.array([0., 29.8e3])\n",
    "#a_gesch_e = np.array([0.0, -29.78]) \n",
    "#a_gesch_e = np.array([0.0, 29.8e3])\n",
    "a_gesch_e = np.array([0.0, 29.78e3])\n",
    "\n",
    "a_gesch_s = np.array([0., 0.])\n",
    "#print(np.sqrt((6.674E-11*m_s)/a_ort_e))\n",
    "#G_val = 6.673E-22\n",
    "#print(G_val*m_s)\n",
    "#print(4*np.pi*np.pi)\n",
    "\n",
    "#a_gesch_e = np.array([0., 40e2])"
   ]
  },
  {
   "cell_type": "code",
   "execution_count": 774,
   "metadata": {},
   "outputs": [
    {
     "name": "stdout",
     "output_type": "stream",
     "text": [
      "2\n",
      "['Sonne', 'Erde']\n",
      "[array([0., 0.]), array([1.496e+13, 0.000e+00])]\n",
      "[array([0., 0.]), array([    0., 29780.])]\n",
      "[1.989e+30, 5.972e+24]\n",
      "[0, 9000000000.0]\n",
      "10000\n",
      "0\n",
      "1\n",
      "{'Sonne': {'pos': array([0., 0.]), 'gesch': array([0., 0.]), 'masse': 1.989e+30}, 'Erde': {'pos': array([1.496e+13, 0.000e+00]), 'gesch': array([    0., 29780.]), 'masse': 5.972e+24}}\n",
      "Sonne\n",
      "Erde\n",
      "y planeten [0.0, 0.0, 0.0, 0.0, 14960000000000.0, 0.0, 0.0, 29780.0]\n",
      "integrateall [[0.0, 0.0, 0.0, 0.0, 14960000000000.0, 0.0, 0.0, 29780.0]]\n",
      "[0.0, 0.7214136485131012, 2.8856476923859202, 6.492681426948671, 11.542480345517301, 18.034996141041745, 25.970166708413213, 35.34791614743029, 46.16815476642347, 58.430779086537754]\n",
      "[14960000000000.0, 14959999759730.115, 14959999038922.762, 14959997837584.836, 14959996155727.828, 14959993993367.828, 14959991350525.521, 14959988227226.186, 14959984623499.693, 14959980539380.508]\n"
     ]
    },
    {
     "data": {
      "image/png": "[encoded data removed]",
      "text/plain": [
       "<Figure size 432x288 with 1 Axes>"
      ]
     },
     "metadata": {},
     "output_type": "display_data"
    }
   ],
   "source": [
    "Namen = ['Sonne', 'Erde']\n",
    "Orte = [a_ort_s, a_ort_e]\n",
    "Gesch = [a_gesch_s, a_gesch_e]\n",
    "Massen = [m_s, m_e]\n",
    "c = Planets_Plot(Namen, Orte, Gesch, Massen, [0, 9e9], 10000)\n",
    "print(c['Sonne']['x'][0:10])\n",
    "print(c['Erde']['x'][0:10])"
   ]
  },
  {
   "cell_type": "code",
   "execution_count": 381,
   "metadata": {
    "scrolled": false
   },
   "outputs": [
    {
     "data": {
      "text/plain": [
       "'\"\\nL,I = Bahnkurve_Plot([a_ort_e, a_ort_s], [a_gesch_e, a_gesch_s], [m_e, m_s], 0, 31554030.44102971, N=100)\\nprint(m_e)\\nprint(m_s)\\nprint(L)\\n#plt.plot(L, [1.]*len(L))\\n#plt.show()\\n#plt.plot(I, [1.]*len(I))\\n#plt.show()\\n#print(I)\\n'"
      ]
     },
     "execution_count": 381,
     "metadata": {},
     "output_type": "execute_result"
    }
   ],
   "source": [
    "\"\"\"\"\n",
    "L,I = Bahnkurve_Plot([a_ort_e, a_ort_s], [a_gesch_e, a_gesch_s], [m_e, m_s], 0, 31554030.44102971, N=100)\n",
    "print(m_e)\n",
    "print(m_s)\n",
    "print(L)\n",
    "#plt.plot(L, [1.]*len(L))\n",
    "#plt.show()\n",
    "#plt.plot(I, [1.]*len(I))\n",
    "#plt.show()\n",
    "#print(I)\n",
    "\"\"\""
   ]
  },
  {
   "cell_type": "code",
   "execution_count": 33,
   "metadata": {
    "scrolled": true
   },
   "outputs": [
    {
     "data": {
      "text/plain": [
       "\"p = m_erde*LA.norm(a_gesch_e)\\nprint(p)\\nalpha = np.arccos(np.dot(a_gesch_e, a_ort_e)/(LA.norm(a_gesch_e)*LA.norm(a_ort_e)))\\nprint(alpha*180/math.pi)\\nL = m_erde*LA.norm(a_gesch_e)*LA.norm(a_ort_e)*math.sin(alpha)\\nprint('L', L)\\nprint(math.sin(alpha))\\nT = (4*math.pi**2)/(G_val*m_s)*LA.norm(a_ort_e)**3\\nT = np.sqrt(T)\\nprint('T', T)\\nE_kin = 0.5*m_erde*LA.norm(a_gesch_e)**2 \\n#+ L**2/(2*m_erde*LA.norm(a_ort_e)**2)\\nE_pot = -G_val*(m_e*m_s)/LA.norm(a_ort_e)\\nprint('E_kin', E_kin)\\nprint('E_pot', E_pot)\\nE_0 = E_kin+E_pot\\nprint('E_0', E_0)\\nE_test = 0.5*m_e*LA.norm(a_gesch_e)**2-(alpha/LA.norm(a_ort_e))\\nprint('L', L)\\nprint('E_test', E_test)\\na = ((2*math.pi)/T)**2*LA.norm(a_ort_e)\\nE_test = 0.5*m_e*LA.norm(a_gesch_e)**2-(a/LA.norm(a_ort_e))\\nprint(a)\\nprint('E_test 2:', E_test)\\nE_circle = (-m_erde*LA.norm(a_ort_e))/(2*L**2)\\nprint('E_circle', E_circle)\\nprint('Impulserhaltung')\\nI = (sum([m_e*LA.norm(a_gesch_e), m_s*LA.norm([0,0])]))\\nprint(I)\""
      ]
     },
     "execution_count": 33,
     "metadata": {},
     "output_type": "execute_result"
    }
   ],
   "source": [
    "\"\"\"p = m_erde*LA.norm(a_gesch_e)\n",
    "print(p)\n",
    "alpha = np.arccos(np.dot(a_gesch_e, a_ort_e)/(LA.norm(a_gesch_e)*LA.norm(a_ort_e)))\n",
    "print(alpha*180/math.pi)\n",
    "L = m_erde*LA.norm(a_gesch_e)*LA.norm(a_ort_e)*math.sin(alpha)\n",
    "print('L', L)\n",
    "print(math.sin(alpha))\n",
    "T = (4*math.pi**2)/(G_val*m_s)*LA.norm(a_ort_e)**3\n",
    "T = np.sqrt(T)\n",
    "print('T', T)\n",
    "E_kin = 0.5*m_erde*LA.norm(a_gesch_e)**2 \n",
    "#+ L**2/(2*m_erde*LA.norm(a_ort_e)**2)\n",
    "E_pot = -G_val*(m_e*m_s)/LA.norm(a_ort_e)\n",
    "print('E_kin', E_kin)\n",
    "print('E_pot', E_pot)\n",
    "E_0 = E_kin+E_pot\n",
    "print('E_0', E_0)\n",
    "E_test = 0.5*m_e*LA.norm(a_gesch_e)**2-(alpha/LA.norm(a_ort_e))\n",
    "print('L', L)\n",
    "print('E_test', E_test)\n",
    "a = ((2*math.pi)/T)**2*LA.norm(a_ort_e)\n",
    "E_test = 0.5*m_e*LA.norm(a_gesch_e)**2-(a/LA.norm(a_ort_e))\n",
    "print(a)\n",
    "print('E_test 2:', E_test)\n",
    "E_circle = (-m_erde*LA.norm(a_ort_e))/(2*L**2)\n",
    "print('E_circle', E_circle)\n",
    "print('Impulserhaltung')\n",
    "I = (sum([m_e*LA.norm(a_gesch_e), m_s*LA.norm([0,0])]))\n",
    "print(I)\"\"\""
   ]
  },
  {
   "cell_type": "code",
   "execution_count": null,
   "metadata": {},
   "outputs": [],
   "source": [
    "def Bahnkurve_Animation(Anfangsort, Anfangsgesch, t0, tend, h):\n",
    "    r = np.array(Anfangsort)\n",
    "    v = np.array(Anfangsgesch)\n",
    "    \n",
    "    scene = vp.canvas(title='Bahnkurve Erde', background=vp.color.black, forward=vec(0, 2, -1))\n",
    "    erde = vp.sphere(pos=vec(r[0], r[1], 0), radius=1e10,color=vp.color.blue,  make_trail=True)\n",
    "    sun = vp.sphere(pos=(vec(0, 0, 0)), radius=2e10, color=vp.color.yellow)\n",
    "    sunlight = vp.local_light(pos=vec(0, 0, 0), color=vp.color.yellow)\n",
    "    t = t0\n",
    "    r_n = np.array([r[0], r[1], v[0], v[1]])\n",
    "    dr_n = ODEBahngleichung_rk(t0, r_n)\n",
    "    while t <= tend:\n",
    "        vp.rate(5000)\n",
    "        r_n = rk4(r_n, t, h, ODEBahngleichung_rk)\n",
    "        erde.pos = vec(r_n[0], r_n[1], 0) \n",
    "        t += h"
   ]
  },
  {
   "cell_type": "code",
   "execution_count": null,
   "metadata": {},
   "outputs": [],
   "source": [
    "M_val = m_sonne\n",
    "G_val = 6.67408E-11\n",
    "#a_gesch_e = np.array([1e1, 40e3])\n",
    "Bahnkurve_Animation(a_ort_e, a_gesch_e, 0, 4e7, 1e4)"
   ]
  },
  {
   "cell_type": "markdown",
   "metadata": {},
   "source": [
    "### 3.\n",
    "Überprüfen Sie die Impuls-, Drehimpuls- und Energieerhaltung analytisch. Verwenden Sie dazu Polarkoordinaten und leinten Sie die Bewegungsgleichung in Polarkoordinaten her:\n",
    "$$ m(\\ddot{r} - r*\\dot{\\theta}^2) = -G\\frac{mM}{r^2}$$\n",
    "$$ m(r\\ddot{\\theta}+2\\dot{r}\\dot{\\theta}) = 0 $$"
   ]
  },
  {
   "cell_type": "code",
   "execution_count": null,
   "metadata": {},
   "outputs": [],
   "source": []
  },
  {
   "cell_type": "markdown",
   "metadata": {},
   "source": [
    "### 4.\n",
    "Varieeren Sie die Anfangsgeschwindigkeit der Erde und beschreiben Sie die verschiedenen Bahnformen, die sich ergeben."
   ]
  },
  {
   "cell_type": "code",
   "execution_count": null,
   "metadata": {},
   "outputs": [],
   "source": []
  },
  {
   "cell_type": "markdown",
   "metadata": {},
   "source": [
    "### 5.\n",
    "Beschrieben Sie mit Hilfe des Programms die Bewegung zweier Fast gleich großer Massen (Zweikörperproblem). Denken Sie an die Impulserhaltung!"
   ]
  },
  {
   "cell_type": "code",
   "execution_count": null,
   "metadata": {},
   "outputs": [],
   "source": []
  },
  {
   "cell_type": "markdown",
   "metadata": {},
   "source": [
    "### 6.\n",
    "Drei Sterne seinen anfangs in Ruhe mit folgenden Massen und Positionen (arbitrary units):\n",
    "\n",
    "|       | Masse |  x |  y |\n",
    "|:-------:|:-------:|:----:|:----:|\n",
    "|**Stern 1**|  150  |  3 |  1 |\n",
    "|**Stern 2**|  200  | -1 | -2 |\n",
    "|**Stern 3**|  250  | -1 |  1 |\n",
    "\n",
    "(Die drei Sterne seien in der $xy$-Ebene.)"
   ]
  },
  {
   "cell_type": "markdown",
   "metadata": {},
   "source": [
    "#### (a)\n",
    "Zeigen Sie, dass die Bewegungsgleichung für Position $\\vec{r}_1$ des ersten Sterns gegeben ist durch:\n",
    "$$\\ddot{\\vec{r}}_1 = Gm_2\\frac{\\vec{r}_2-\\vec{r}_1}{|\\vec{r}_2-\\vec{r}_1|^3} + Gm_3\\frac{\\vec{r}_3-\\vec{r}_1}{|\\vec{r}_3-\\vec{r}_1|^3} $$\n",
    "und stellen Sie die Gleichung für $\\vec{r}_2$ und $\\vec{r}_3$ der beiden anderen Sterne auf."
   ]
  },
  {
   "cell_type": "markdown",
   "metadata": {},
   "source": [
    "$$ \\vec{F}_{ij} = -G\\frac{m_im_j}{r^2}\\vec{e}_r $$\n",
    "$$ r = |\\vec{r}_j - \\vec{r}_i| $$\n",
    "$$ \\vec{e}_r = \\frac{\\vec{r}_j - \\vec{r}_i}{|\\vec{r}_j - \\vec{r}_i|}$$\n",
    "\n",
    "$$ \\vec{F}_{ij} = -G\\frac{m_im_j}{|\\vec{r}_j - \\vec{r}_i|^2}\\frac{\\vec{r}_j - \\vec{r}_i}{|\\vec{r}_j - \\vec{r}_i|} = -Gm_im_j\\frac{\\vec{r}_j - \\vec{r}_i}{|\\vec{r}_j - \\vec{r}_i|^3}$$\n",
    "\n",
    "$$ m_i\\ddot{\\vec{r}}_i = \\sum_{j\\neq i} F_{ij} = \\sum_{j\\neq i} -Gm_im_j\\frac{\\vec{r}_j - \\vec{r}_i}{|\\vec{r}_j - \\vec{r}_i|^3}$$\n",
    "\n",
    "$$ \\ddot{\\vec{r}}_i = \\sum_{j\\neq i} -Gm_j\\frac{\\vec{r}_j - \\vec{r}_i}{|\\vec{r}_j - \\vec{r}_i|^3}$$\n",
    "\n",
    "$$ \\ddot{\\vec{r}}_1 = -Gm_2\\frac{\\vec{r}_2 - \\vec{r}_1}{|\\vec{r}_2 - \\vec{r}_1|^3} -Gm_3\\frac{\\vec{r}_3 - \\vec{r}_1}{|\\vec{r}_3 - \\vec{r}_1|^3}$$\n",
    "$$ \\ddot{\\vec{r}}_2 = -Gm_1\\frac{\\vec{r}_1 - \\vec{r}_2}{|\\vec{r}_1 - \\vec{r}_2|^3} -Gm_3\\frac{\\vec{r}_3 - \\vec{r}_2}{|\\vec{r}_3 - \\vec{r}_2|^3}$$\n",
    "$$ \\ddot{\\vec{r}}_3 = -Gm_1\\frac{\\vec{r}_1 - \\vec{r}_3}{|\\vec{r}_1 - \\vec{r}_3|^3} -Gm_2\\frac{\\vec{r}_2 - \\vec{r}_3}{|\\vec{r}_2 - \\vec{r}_3|^3}$$"
   ]
  },
  {
   "cell_type": "markdown",
   "metadata": {},
   "source": [
    "#### (b)\n",
    "Setzten Sie $G=1$ und schreiben sie ein Programm, das die Bewegungsgleichungen löst. Plotten Sie $y$ als Funktion von $x$ und animieren Sie die Bewegung. Die Sterne bewegen sich sehr schnell, wenn sie sich nähern und sind sehr langsam, wenn sie weit voneinander entfernt sind. Eine adaptive Methode könnte deshab nützlich sein."
   ]
  },
  {
   "cell_type": "code",
   "execution_count": null,
   "metadata": {},
   "outputs": [],
   "source": [
    "G = 1\n",
    "Sterne = {'Stern1': {'m' : 150, 'pos': [3, 1]}, 'Stern2': {'m' : 200, 'pos': [-1, -2]},'Stern3': {'m' : 250, 'pos': [-1, 1]}}"
   ]
  },
  {
   "cell_type": "code",
   "execution_count": null,
   "metadata": {},
   "outputs": [],
   "source": [
    "def ODEsterne(y, t):\n",
    "    '''\n",
    "    berechnet die rechte Seite der Differentialgleichung \n",
    "    Zunächst kommen alle Variablen (x,y,vx,vy) für den ersten Planeten, dann alle 4 für den zweiten,... \n",
    "    :param t: aktueller zeitpunkt\n",
    "    :param y: aktueller y-Wert (n Komponenten)\n",
    "    :return: rechte Seite f der Dgl. y'=f(t,y)\n",
    "    '''\n",
    "\n",
    "    # Daten der Planeten\n",
    "    G = 1  # Gravitationskonstante\n",
    "    masse_Sterne = [150, 200, 250]\n",
    "    y = np.array(y)\n",
    "    y = y.reshape(-1, 4)\n",
    "    #print(y)\n",
    "    rs = []\n",
    "    dy = []\n",
    "    #print(planets)\n",
    "    for i in range(0, len(y)):\n",
    "        F_i = 0\n",
    "        rs.append(np.array([y[i][0], y[i][1]]))\n",
    "        r_i = np.array([y[i][0], y[i][1]])\n",
    "        for j in range(0, len(y)):\n",
    "            if i != j:\n",
    "                r_j = np.array([y[j][0], y[j][1]])\n",
    "                m_j = masse_Sterne[j]\n",
    "                dist = r_i-r_j\n",
    "                F_i += m_j *((dist)/(LA.norm(dist))**3)\n",
    "        ddr_i = -G*F_i\n",
    "        dy.append(y[i][2])\n",
    "        dy.append(y[i][3])\n",
    "        dy.append(ddr_i[0])\n",
    "        dy.append(ddr_i[1])\n",
    "    return dy"
   ]
  },
  {
   "cell_type": "code",
   "execution_count": null,
   "metadata": {},
   "outputs": [],
   "source": [
    "def ODEsterne_rk(t, y):\n",
    "    '''\n",
    "    berechnet die rechte Seite der Differentialgleichung \n",
    "    Zunächst kommen alle Variablen (x,y,vx,vy) für den ersten Planeten, dann alle 4 für den zweiten,... \n",
    "    :param t: aktueller zeitpunkt\n",
    "    :param y: aktueller y-Wert (n Komponenten)\n",
    "    :return: rechte Seite f der Dgl. y'=f(t,y)\n",
    "    '''\n",
    "\n",
    "    # Daten der Planeten\n",
    "    G = 1  # Gravitationskonstante\n",
    "    masse_Sterne = [150, 200, 250]\n",
    "    y = np.array(y)\n",
    "    y = y.reshape(-1, 4)\n",
    "    #print(y)\n",
    "    rs = []\n",
    "    dy = []\n",
    "    #print(planets)\n",
    "    for i in range(0, len(y)):\n",
    "        F_i = np.array([0., 0.])\n",
    "        rs.append(np.array([y[i][0], y[i][1]]))\n",
    "        r_i = np.array([y[i][0], y[i][1]])\n",
    "        for j in range(0, len(y)):\n",
    "            if i != j:\n",
    "                r_j = np.array([y[j][0], y[j][1]])\n",
    "                m_j = masse_Sterne[j]\n",
    "                dist = r_i-r_j\n",
    "                if LA.norm(dist) > 0:\n",
    "                    F_i += m_j *((dist)/(LA.norm(dist))**3)\n",
    "                else:\n",
    "                    F_i += np.array([0., 0.])\n",
    "        ddr_i = -G*F_i\n",
    "        dy.append(y[i][2])\n",
    "        dy.append(y[i][3])\n",
    "        dy.append(ddr_i[0])\n",
    "        dy.append(ddr_i[1])\n",
    "    return dy"
   ]
  },
  {
   "cell_type": "code",
   "execution_count": null,
   "metadata": {},
   "outputs": [],
   "source": [
    "def Sterne_Coordinates(Sterne, t0, tend, N):\n",
    "    Stern_n = []\n",
    "    tvals, h = np.linspace(t0, tend, N, retstep=True)\n",
    "    #print(h)\n",
    "    coordinates = {}\n",
    "    y_sterne = []\n",
    "    for stern in Sterne:\n",
    "        Stern_n.append(stern)\n",
    "        x_s = Sterne[stern]['pos'][0]\n",
    "        y_s = Sterne[stern]['pos'][1]\n",
    "        y_sterne.append(x_s)\n",
    "        y_sterne.append(y_s)\n",
    "        y_sterne.append(0)\n",
    "        y_sterne.append(0)\n",
    "        coordinates[stern] = {'x':[], 'y':[]}\n",
    "    y_list = [y_sterne]\n",
    "    y_list = integrate.odeint(ODEsterne, y_sterne, tvals)\n",
    "    y_list[0] = np.array(y_list[0])\n",
    "    for y_step in y_list:\n",
    "        y_shaped = y_step.reshape(-1, 4)\n",
    "        for i in range(0, len(y_shaped)):\n",
    "            list_c = coordinates[Stern_n[i]]['x']\n",
    "            list_c.append(y_shaped[i][0])\n",
    "            list_c = coordinates[Stern_n[i]]['y']\n",
    "            list_c.append(y_shaped[i][1])\n",
    "    \n",
    "    return coordinates"
   ]
  },
  {
   "cell_type": "code",
   "execution_count": null,
   "metadata": {},
   "outputs": [],
   "source": [
    "def Sterne_Plot(Sterne, t0, tend, N):\n",
    "    coordinates = Sterne_Coordinates(Sterne, t0, tend, N)\n",
    "    for st in coordinates:\n",
    "        r = np.random.rand()\n",
    "        g = np.random.rand()\n",
    "        b = np.random.rand()\n",
    "        xs = coordinates[st]['x']\n",
    "        ys = coordinates[st]['y']\n",
    "        #plt.plot(xs[0], ys[0], 'o', color=[r, g, b])\n",
    "        plt.plot(xs, ys, color=[r, g, b], label=st)\n",
    "        plt.plot(xs[-1], ys[-1], 'o', color=[r, g, b])\n",
    "\n",
    "    plt.legend()\n",
    "    plt.show()"
   ]
  },
  {
   "cell_type": "code",
   "execution_count": null,
   "metadata": {
    "scrolled": true
   },
   "outputs": [],
   "source": [
    "Sterne_Plot(Sterne, 0, 2, 10000)"
   ]
  },
  {
   "cell_type": "code",
   "execution_count": null,
   "metadata": {},
   "outputs": [],
   "source": [
    "def Sterne_Animation(Sterne, t0, tend, N):\n",
    "    \n",
    "    scene = vp.canvas(title='Animation Sterne', background=vp.color.black, forward=vec(0, 2, -1))\n",
    "    stern1 = vp.sphere(pos=vec(Sterne['Stern1']['pos'][0], Sterne['Stern1']['pos'][1], 0), radius=0.1, color=vp.color.blue, make_trail=True)\n",
    "    stern2 = vp.sphere(pos=vec(Sterne['Stern2']['pos'][0], Sterne['Stern2']['pos'][1], 0), radius=0.1, color=vp.color.green, make_trail=True)\n",
    "    stern3 = vp.sphere(pos=vec(Sterne['Stern3']['pos'][0], Sterne['Stern3']['pos'][1], 0), radius=0.1, color=vp.color.yellow, make_trail=True)\n",
    "    coordinates = Sterne_Coordinates(Sterne, t0, tend, N)\n",
    "    h = (t0-tend)/N\n",
    "    t = t0\n",
    "    i = 0\n",
    "    #y_n = ODEsterne_rk(t0, y_sterne)\n",
    "    #while True:\n",
    "    while i < len(coordinates['Stern1']['x']):\n",
    "    #while True:\n",
    "        vp.rate(100)\n",
    "        #print(y_n)\n",
    "        s1 = coordinates['Stern1']\n",
    "        s2 = coordinates['Stern2']\n",
    "        s3 = coordinates['Stern3']\n",
    "        stern1.pos = vec(s1['x'][i], s1['y'][i],0)\n",
    "        #vp.rate(500)\n",
    "        stern2.pos = vec(s2['x'][i], s2['y'][i],0)\n",
    "        #vp.rate(500)\n",
    "        stern3.pos = vec(s3['x'][i], s3['y'][i],0)\n",
    "    #    t += h\n",
    "        i += 1\n",
    "#Sterne_Animation(Sterne, 0, 10, 0.05)"
   ]
  },
  {
   "cell_type": "code",
   "execution_count": null,
   "metadata": {
    "scrolled": false
   },
   "outputs": [],
   "source": [
    "Sterne_Animation(Sterne, 0, 2, 10000)"
   ]
  },
  {
   "cell_type": "code",
   "execution_count": null,
   "metadata": {},
   "outputs": [],
   "source": []
  }
 ],
 "metadata": {
  "kernelspec": {
   "display_name": "VPython",
   "language": "python",
   "name": "vpython"
  },
  "language_info": {
   "codemirror_mode": {
    "name": "ipython",
    "version": 3
   },
   "file_extension": ".py",
   "mimetype": "text/x-python",
   "name": "python",
   "nbconvert_exporter": "python",
   "pygments_lexer": "ipython3",
   "version": "3.6.4"
  }
 },
 "nbformat": 4,
 "nbformat_minor": 2
}
