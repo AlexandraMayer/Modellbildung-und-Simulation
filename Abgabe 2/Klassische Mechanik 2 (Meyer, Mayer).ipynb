{
 "cells": [
  {
   "cell_type": "code",
   "execution_count": 1,
   "metadata": {},
   "outputs": [
    {
     "data": {
      "application/javascript": [
       "require.undef(\"nbextensions/vpython_libraries/glow.min\");"
      ],
      "text/plain": [
       "<IPython.core.display.Javascript object>"
      ]
     },
     "metadata": {},
     "output_type": "display_data"
    },
    {
     "data": {
      "application/javascript": [
       "require.undef(\"nbextensions/vpython_libraries/glowcomm\");"
      ],
      "text/plain": [
       "<IPython.core.display.Javascript object>"
      ]
     },
     "metadata": {},
     "output_type": "display_data"
    },
    {
     "data": {
      "application/javascript": [
       "require.undef(\"nbextensions/vpython_libraries/jquery-ui.custom.min\");"
      ],
      "text/plain": [
       "<IPython.core.display.Javascript object>"
      ]
     },
     "metadata": {},
     "output_type": "display_data"
    },
    {
     "data": {
      "application/javascript": [
       "require([\"nbextensions/vpython_libraries/glow.min\"], function(){console.log(\"GLOW LOADED\");})"
      ],
      "text/plain": [
       "<IPython.core.display.Javascript object>"
      ]
     },
     "metadata": {},
     "output_type": "display_data"
    },
    {
     "data": {
      "application/javascript": [
       "require([\"nbextensions/vpython_libraries/glowcomm\"], function(){console.log(\"GLOWCOMM LOADED\");})"
      ],
      "text/plain": [
       "<IPython.core.display.Javascript object>"
      ]
     },
     "metadata": {},
     "output_type": "display_data"
    },
    {
     "data": {
      "application/javascript": [
       "require([\"nbextensions/vpython_libraries/jquery-ui.custom.min\"], function(){console.log(\"JQUERY LOADED\");})"
      ],
      "text/plain": [
       "<IPython.core.display.Javascript object>"
      ]
     },
     "metadata": {},
     "output_type": "display_data"
    },
    {
     "data": {
      "text/html": [
       "<div id=\"glowscript\" class=\"glowscript\"></div>"
      ],
      "text/plain": [
       "<IPython.core.display.HTML object>"
      ]
     },
     "metadata": {},
     "output_type": "display_data"
    },
    {
     "data": {
      "application/javascript": [
       "window.__context = { glowscript_container: $(\"#glowscript\").removeAttr(\"id\")}"
      ],
      "text/plain": [
       "<IPython.core.display.Javascript object>"
      ]
     },
     "metadata": {},
     "output_type": "display_data"
    }
   ],
   "source": [
    "import sympy as sy\n",
    "sy.init_printing(use_latex=True)\n",
    "import numpy as np\n",
    "import pandas as pd\n",
    "import scipy as sc\n",
    "import scipy.linalg as LA\n",
    "import matplotlib.pyplot as plt\n",
    "import math\n",
    "import vpython as vp\n",
    "import scipy.integrate as integrate\n",
    "import copy\n",
    "vec = vp.vector"
   ]
  },
  {
   "cell_type": "markdown",
   "metadata": {},
   "source": [
    "# 2. Abgabe aus dem Fach Modellbildung und Simulation - Klassische Mechanik 2"
   ]
  },
  {
   "cell_type": "markdown",
   "metadata": {},
   "source": [
    "## Keplerproblem"
   ]
  },
  {
   "cell_type": "markdown",
   "metadata": {},
   "source": [
    "Zwei Massen $M$ und $m$, die den Abstand $r$ zueinander besitzen, ziehen sich gegenseitig mit der Kraft\n",
    "$$ \\vec{F}_G = -G\\frac{Mm}{r^2}\\vec{e}_r $$\n",
    "an. $G$ ist die universelle Gravitationskonstante."
   ]
  },
  {
   "cell_type": "code",
   "execution_count": 2,
   "metadata": {},
   "outputs": [],
   "source": [
    "x = sy.symbols('x')"
   ]
  },
  {
   "cell_type": "markdown",
   "metadata": {},
   "source": [
    "### 1.\n",
    "Im File Sat.txt sind die Umlaufzeiten $T$ und mittleren Radien $r$ der Umlaufbahnen von vier Satelliten angegeben (die einen Asteroiden umkreisen). Zeigen Sie, dass sich die Datein mit der Form $T=Cr^n$ beschreiben lassen. Bestimmen Sie $n$ und $C$, indem sie Sie die Daten logarithmisch auftragen. Schätzen Sie den fehlenden Radius ab."
   ]
  },
  {
   "cell_type": "markdown",
   "metadata": {},
   "source": [
    "Aufgabe herausfinden was C und n sein können."
   ]
  },
  {
   "cell_type": "markdown",
   "metadata": {},
   "source": [
    "Die Umlaufzeit ist gegeben durch $a= \\omega^2r = (\\frac{2\\pi}{T})^2r$"
   ]
  },
  {
   "cell_type": "code",
   "execution_count": 3,
   "metadata": {
    "scrolled": true
   },
   "outputs": [
    {
     "name": "stdout",
     "output_type": "stream",
     "text": [
      "['T in a ', 'r in Gm ']\n",
      "[['T in a ', 'r in Gm '], ['0.44', '0.088'], ['1.61', '0.208'], ['3.88', '0.374'], ['6.20', '?'], ['7.89', '0.600']]\n",
      "{'T in a ': [0.44, 1.61, 3.88, 6.2, 7.89], 'r in Gm ': [0.088, 0.208, 0.374, x, 0.6]}\n",
      "[0.44, 1.61, 3.88, 7.89]\n",
      "[0.088, 0.208, 0.374, 0.6]\n"
     ]
    },
    {
     "data": {
      "image/png": "[encoded data removed]",
      "text/plain": [
       "<Figure size 432x288 with 1 Axes>"
      ]
     },
     "metadata": {},
     "output_type": "display_data"
    }
   ],
   "source": [
    "with open(\"Sat.txt\", \"r\") as f:\n",
    "    sat = [line.split() for line in f]\n",
    "header_ = sat[0]\n",
    "header = []\n",
    "h_str1 = ''\n",
    "h_str2 = ''\n",
    "for i in range(0, 3):\n",
    "    h_str1 += header_[i] + ' '\n",
    "    h_str2 += header_[i+3] + ' '\n",
    "header = [h_str1, h_str2]\n",
    "sat[0] = header\n",
    "print(header)\n",
    "print(sat)\n",
    "sat_data = {}\n",
    "for s in range(1, len(sat)):\n",
    "    for n in range(0, len(sat[s])):\n",
    "        if sat[s][n] == '?':\n",
    "            sat[s][n] = x\n",
    "        else:\n",
    "            sat[s][n] = float(sat[s][n])\n",
    "sat_data = {sat[0][i]: [ line[i] for line in sat[1:] ]  for i in range(len(sat[0]))}\n",
    "print(sat_data)\n",
    "xs = sat_data['T in a '][0:3]\n",
    "xs.append(sat_data['T in a '][4])\n",
    "print(xs)\n",
    "\n",
    "ys = sat_data['r in Gm '][0:3]\n",
    "ys.append(sat_data['r in Gm '][4])\n",
    "print(ys)\n",
    "plt.loglog(xs, ys, 'o')\n",
    "plt.loglog(xs, ys)\n",
    "plt.xlabel('T in a')\n",
    "plt.ylabel('r in Gm')\n",
    "plt.show()"
   ]
  },
  {
   "cell_type": "markdown",
   "metadata": {},
   "source": [
    "$\\mathrm{ln}(a) + b \\mathrm{ln}(x) = \\mathrm{ln}(y) $\n",
    "Berechnung Potenzfunktion : $y = ax^b$"
   ]
  },
  {
   "cell_type": "markdown",
   "metadata": {},
   "source": [
    "### 2.\n",
    "Schreiben Sie ein Programm, das die Differentialgleichung\n",
    "$$ m\\ddot{\\vec{r}} = -G\\frac{Mm}{r^3}\\vec{r} $$\n",
    "löst und visualisieren Sie die Bahnkurve der Erde um die Sonne. Verwenden sie als Anfangsgeschwindigkeit $(0.0, 29.8)*10^3m/s$ und den Anfangsort der Erde $(1.4960, 0.0)*10^{11}m$ (Die Sonne ruhe anfänglich im Urspung). Überprüfen Sie die Impuls-, Drehimpuls- und Energieerhaltung numerisch."
   ]
  },
  {
   "cell_type": "code",
   "execution_count": 4,
   "metadata": {},
   "outputs": [],
   "source": [
    "r1 = sy.symbols('\\\\vec{r}_1')\n",
    "rx1 = sy.symbols('r_{x_1}')\n",
    "ry1 = sy.symbols('r_{y_1}')\n",
    "m_erde = 5.974e24\n",
    "m_sonne = 1.9891e30\n",
    "a_ort_e = np.array([1.4960e11, 0.])\n",
    "a_ort_sonne = np.array([0., 0.])\n",
    "a_gesch_e = np.array([0., 29.8e3])\n",
    "#a_gesch_e = np.array([0., 40e2])"
   ]
  },
  {
   "cell_type": "code",
   "execution_count": 5,
   "metadata": {},
   "outputs": [],
   "source": [
    "M, m, r, G, vr, t = sy.symbols('M, m, r, G, \\\\vec{r}, t')\n",
    "ddr = sy.symbols('\\ddot{\\\\vec{r}}', function=True)"
   ]
  },
  {
   "cell_type": "code",
   "execution_count": 6,
   "metadata": {
    "scrolled": true
   },
   "outputs": [
    {
     "data": {
      "image/png": "[encoded data removed]",
      "text/latex": [
       "$$m \\ddot{\\vec{r}}{\\left (t \\right )} = - \\frac{G M}{r^{3}} \\vec{r} m$$"
      ],
      "text/plain": [
       "                      -G⋅M⋅\\vec{r}⋅m \n",
       "m⋅\\ddot{\\vec{r}}(t) = ───────────────\n",
       "                              3      \n",
       "                             r       "
      ]
     },
     "metadata": {},
     "output_type": "display_data"
    },
    {
     "data": {
      "image/png": "[encoded data removed]",
      "text/latex": [
       "$$\\left [ - \\frac{G M}{r^{3}} \\vec{r}\\right ]$$"
      ],
      "text/plain": [
       "⎡-G⋅M⋅\\vec{r} ⎤\n",
       "⎢─────────────⎥\n",
       "⎢       3     ⎥\n",
       "⎣      r      ⎦"
      ]
     },
     "metadata": {},
     "output_type": "display_data"
    },
    {
     "data": {
      "image/png": "[encoded data removed]",
      "text/latex": [
       "$$\\ddot{\\vec{r}}{\\left (t \\right )} = - \\frac{G M}{r^{3}} \\vec{r}$$"
      ],
      "text/plain": [
       "                    -G⋅M⋅\\vec{r} \n",
       "\\ddot{\\vec{r}}(t) = ─────────────\n",
       "                           3     \n",
       "                          r      "
      ]
     },
     "metadata": {},
     "output_type": "display_data"
    }
   ],
   "source": [
    "gl = sy.Eq(m*ddr(t), -G*((M*m)/r**3)*vr)\n",
    "display(gl)\n",
    "gl = sy.solve(gl, ddr(t))\n",
    "display(gl)\n",
    "gl2 = sy.Eq(ddr(t), gl[0])\n",
    "display(gl2)"
   ]
  },
  {
   "cell_type": "code",
   "execution_count": 7,
   "metadata": {},
   "outputs": [],
   "source": [
    "def rk4(y, t, h, ode):\n",
    "    k1 = np.array(ode(t, y))\n",
    "    k2 = np.array(ode(t+(h/2), y+ (h/2)*k1))\n",
    "    k3 = np.array(ode(t+(h/2), y+(h/2)*k2))\n",
    "    k4 = np.array(ode(t+h, y+h*k3))\n",
    "    ynew = y + h*(k1+2*k2+2*k3+k4)/6\n",
    "    return ynew"
   ]
  },
  {
   "cell_type": "code",
   "execution_count": 8,
   "metadata": {},
   "outputs": [],
   "source": [
    "#def ODEBahngleichung(t, y):\n",
    "def ODEBahngleichung(y, t):\n",
    "    #print('Bahngleichung')\n",
    "    #print('t', t)\n",
    "    #print('y', y)\n",
    "    rx = y[0]\n",
    "    ry = y[1]\n",
    "    dy = np.zeros_like(y)\n",
    "    dy[0] = y[-2]\n",
    "    dy[1] = y[-1]\n",
    "    #dy[2] = -(G_val*M_val*rx)/(sy.sqrt(rx**2+ry**2)**3)\n",
    "    #dy[3] = -(G_val*M_val*ry)/(sy.sqrt(rx**2+ry**2)**3)\n",
    "    GM = G_val*M_val\n",
    "    #print('rx', rx)\n",
    "    #print('GM', GM)\n",
    "    #print('|r|', sy.sqrt(rx**2+ry**2))\n",
    "    dy[2] = -((G_val*M_val)*rx)/(sy.sqrt(rx**2+ry**2)**3)\n",
    "    dy[3] = -((G_val*M_val)*ry)/(sy.sqrt(rx**2+ry**2)**3)\n",
    "    #print('old r_n', y)\n",
    "    #print('dr_n', dy)\n",
    "    return dy"
   ]
  },
  {
   "cell_type": "code",
   "execution_count": 9,
   "metadata": {},
   "outputs": [],
   "source": [
    "def ODEBahngleichung_rk(t, y):\n",
    "#def ODEBahngleichung(y, t):\n",
    "    #print('Bahngleichung')\n",
    "    #print('t', t)\n",
    "    #print('y', y)\n",
    "    rx = y[0]\n",
    "    ry = y[1]\n",
    "    dy = np.zeros_like(y)\n",
    "    dy[0] = y[-2]\n",
    "    dy[1] = y[-1]\n",
    "    #dy[2] = -(G_val*M_val*rx)/(sy.sqrt(rx**2+ry**2)**3)\n",
    "    #dy[3] = -(G_val*M_val*ry)/(sy.sqrt(rx**2+ry**2)**3)\n",
    "    dy[2] = -((G_val*M_val)*rx)/(sy.sqrt(rx**2+ry**2)**3)\n",
    "    dy[3] = -((G_val*M_val)*ry)/(sy.sqrt(rx**2+ry**2)**3)\n",
    "    #print('old r_n', y)\n",
    "    #print('dr_n', dy)\n",
    "    return dy"
   ]
  },
  {
   "cell_type": "code",
   "execution_count": 10,
   "metadata": {},
   "outputs": [],
   "source": [
    "def euler(y, t, h, ode):\n",
    "    ynew = y+h*np.array(ode(t,y))\n",
    "    return ynew"
   ]
  },
  {
   "cell_type": "code",
   "execution_count": 11,
   "metadata": {},
   "outputs": [],
   "source": [
    "def abl(f, xold, xnew):\n",
    "    t = 0\n",
    "    diff_matr = np.zeros(shape=(len(xold),len(xold)))\n",
    "    for i in range(0, len(xold)):\n",
    "        xzw = copy.deepcopy(xold)\n",
    "        xer = xnew[i]\n",
    "        xzw[i] = xer\n",
    "        fold = np.array(f(t, xold))\n",
    "        fzw = np.array(f(t, xzw))\n",
    "        dif_q = np.array((fold-fzw)/(xold[i]-xnew[i]))\n",
    "        dif_q = list(dif_q)\n",
    "        for j in range(0, len(dif_q)):\n",
    "            #print(dif_q[j])\n",
    "            diff_matr[i][j] = dif_q[j]\n",
    "    return diff_matr"
   ]
  },
  {
   "cell_type": "code",
   "execution_count": 12,
   "metadata": {},
   "outputs": [],
   "source": [
    "def impeuler(y, t, h, ode):\n",
    "    y_np1 = euler(y, t, h, ode)\n",
    "    abl_m = abl(ode, y, y_np1)\n",
    "    J = np.array(np.eye(len(y)))-(h*abl_m)\n",
    "    J = J.T\n",
    "    LU, P = LA.lu_factor(J)\n",
    "    for i in range(1,3):\n",
    "        b1 = (h*np.array(ode(t+h, y_np1)))\n",
    "        b2 = (y+(-1)*h*np.array(ode(t+h, y_np1)))\n",
    "        b = (-1*(y_np1-y-b1))\n",
    "        y_del = LA.lu_solve((LU, P), b)\n",
    "        y_np1 = y_np1 + y_del\n",
    "    ynew = y_np1\n",
    "    return ynew"
   ]
  },
  {
   "cell_type": "code",
   "execution_count": 13,
   "metadata": {},
   "outputs": [],
   "source": [
    "#Grafik\n",
    "M_val = m_sonne\n",
    "G_val = 6.674031e-11\n",
    "def Bahnkurve_Plot(anfangsort, anfangsgesch, t0, tend, N=1000):\n",
    "    vr_val = anfangsort-a_ort_sonne\n",
    "    print('abstand', vr_val)\n",
    "    r_val = LA.norm(vr_val)\n",
    "    print('abstand norm ', r_val)\n",
    "    #C1_val = anfangsgesch + G_val*(M_val*r_val)/(LA.norm(r_val)**3)*t0\n",
    "    #ddr_t = (-(G_val*M_val*np.array([rx1, ry1]))/(sy.sqrt(rx1**2+ry1**2)**3))\n",
    "    print('GM', G_val*M_val)\n",
    "    #display(ddr_n)\n",
    "    #dr_n = anfangsgesch\n",
    "    #ddr_n = ddr(t0, dr_n, vr_val)\n",
    "    r_n = np.array([vr_val[0], vr_val[1], anfangsgesch[0], anfangsgesch[1]])\n",
    "    dr_n = ODEBahngleichung_rk(t0, r_n)\n",
    "    #dr_n = ODEBahngleichung(r_n, t0)\n",
    "    xs = [r_n[0]]\n",
    "    ys = [r_n[1]]\n",
    "    tvals, h = np.linspace(t0, tend, N, retstep=True)\n",
    "    print('h', h)\n",
    "    gesch = [r_n[2], r_n[3]]\n",
    "    ort = [r_n[0], r_n[1]]\n",
    "    alpha = np.arccos(np.dot(gesch, ort)/(LA.norm(gesch)*LA.norm(ort)))\n",
    "    I = m_erde*LA.norm(gesch)\n",
    "    Is = [I]\n",
    "    L = m_erde*LA.norm(gesch)*LA.norm(ort)*math.sin(alpha)\n",
    "    LS = [L]\n",
    "    plt.plot(anfangsort[0], anfangsort[1], 'ob', label='Anfangsort Erde', ms=4)\n",
    "    plt.plot(a_ort_sonne[0], a_ort_sonne[1], 'oy', label='Anfangsort Sonne', ms=10)\n",
    "    for ts in tvals:\n",
    "        #ddr_np1 = np.array([0., 0.])\n",
    "        #print('ddr_t', ddr_t[1].subs(rx1, r_n[0]).subs(ry1, r_n[1]))\n",
    "        #print('dr_n', dr_n)\n",
    "        #print('r_n', r_n)\n",
    "        #ddr_np1 = ddr(t, dr_n, r_n)\n",
    "        #display(ddr_np1)\n",
    "        #dr_np1 = rk4(r_n, dr_n, t, h, ddr)\n",
    "        #r_np1 = rk4(r_n, r_n, t, h, dr)\n",
    "        #print('r_np1', r_np1)\n",
    "        r_np1 = rk4(r_n, ts, h, ODEBahngleichung_rk)\n",
    "        gesch = [r_n[2], r_n[3]]\n",
    "        ort = [r_n[0], r_n[1]]\n",
    "        alpha = np.arccos(np.dot(gesch, ort)/(LA.norm(gesch)*LA.norm(ort)))\n",
    "        L = m_erde*LA.norm(gesch)*LA.norm(ort)*math.sin(alpha)\n",
    "        assert np.allclose(L, LS[-1])\n",
    "        LS.append(L)\n",
    "        I = m_erde*LA.norm(gesch)\n",
    "        Is.append(I)\n",
    "        assert np.allclose(I, Is[-1])\n",
    "        \n",
    "        xs.append(r_np1[0])\n",
    "        ys.append(r_np1[1])\n",
    "        \n",
    "        #ddr_n = ddr_np1\n",
    "        #dr_n = dr_np1\n",
    "        r_n = r_np1\n",
    "    #print(xs)\n",
    "    #print(ys)\n",
    "    #sol = integrate.odeint(ODEBahngleichung, r_n, tvals)\n",
    "    #print(sol)\n",
    "    #print(sol[1])\n",
    "    #xs = [s[0] for s in sol]\n",
    "    #ys = [s[1] for s in sol]\n",
    "    #print('maximal y', max(ys))\n",
    "    #print('minimal y', min(ys))\n",
    "    #print((max(ys)-min(ys))/2)\n",
    "    #print((max(xs)-min(xs))/2)\n",
    "    #x_list = np.arange(min(xs), max(xs), 1e10)\n",
    "    #print([min(ys)+(max(ys)-min(ys)/2)]*len(x_list))\n",
    "    #plt.plot(x_list, [min(ys)+((max(ys)-min(ys))/2)]*len(x_list), '--r')\n",
    "    #y_list = np.arange(min(ys), max(ys), 1e10)\n",
    "    #print([min(ys)+(max(ys)-min(ys)/2)]*len(x_list))\n",
    "    #x_list = [min(xs)+((max(xs)-min(xs))/2)]*len(y_list)\n",
    "    #plt.plot(x_list, y_list, '--g')\n",
    "    #print([min(xs)+((max(xs)-min(xs))/2)]*len(y_list))\n",
    "    #print(xs)\n",
    "    plt.plot(xs, ys, 'b', label='Bahnkurve Erde')\n",
    "    plt.plot(xs[-1], ys[-1], 'ob', label='Endort Erde', mec='#000000')\n",
    "    plt.legend()\n",
    "    #plt.axis([-2.5e11, 2.5e11, -2.5e11, 2.5e11])\n",
    "    plt.axis('scaled')\n",
    "    plt.show()\n",
    "    return LS, Is"
   ]
  },
  {
   "cell_type": "code",
   "execution_count": 14,
   "metadata": {
    "scrolled": true
   },
   "outputs": [
    {
     "name": "stdout",
     "output_type": "stream",
     "text": [
      "1.780252e+29\n",
      "90.0\n",
      "L 2.663256992e+40\n",
      "1.0\n",
      "T 31554030.44102971\n",
      "E_kin 2.65257548e+33\n",
      "E_pot -5.301252151135388e+33\n",
      "E_0 -2.6486766711353876e+33\n",
      "L 2.663256992e+40\n",
      "E_test 2.65257548e+33\n",
      "0.005931733759767581\n",
      "E_test 2: 2.65257548e+33\n",
      "E_circle -6.3000016672566334e-46\n",
      "Impulserhaltung\n",
      "1.780252e+29\n"
     ]
    }
   ],
   "source": [
    "p = m_erde*LA.norm(a_gesch_e)\n",
    "print(p)\n",
    "alpha = np.arccos(np.dot(a_gesch_e, a_ort_e)/(LA.norm(a_gesch_e)*LA.norm(a_ort_e)))\n",
    "print(alpha*180/math.pi)\n",
    "L = m_erde*LA.norm(a_gesch_e)*LA.norm(a_ort_e)*math.sin(alpha)\n",
    "print('L', L)\n",
    "print(math.sin(alpha))\n",
    "T = (4*math.pi**2)/(G_val*m_sonne)*LA.norm(a_ort_e)**3\n",
    "T = np.sqrt(T)\n",
    "print('T', T)\n",
    "E_kin = 0.5*m_erde*LA.norm(a_gesch_e)**2 \n",
    "#+ L**2/(2*m_erde*LA.norm(a_ort_e)**2)\n",
    "E_pot = -G_val*(m_erde*m_sonne)/LA.norm(a_ort_e)\n",
    "print('E_kin', E_kin)\n",
    "print('E_pot', E_pot)\n",
    "E_0 = E_kin+E_pot\n",
    "print('E_0', E_0)\n",
    "E_test = 0.5*m_erde*LA.norm(a_gesch_e)**2-(alpha/LA.norm(a_ort_e))\n",
    "print('L', L)\n",
    "print('E_test', E_test)\n",
    "a = ((2*math.pi)/T)**2*LA.norm(a_ort_e)\n",
    "E_test = 0.5*m_erde*LA.norm(a_gesch_e)**2-(a/LA.norm(a_ort_e))\n",
    "print(a)\n",
    "print('E_test 2:', E_test)\n",
    "E_circle = (-m_erde*LA.norm(a_ort_e))/(2*L**2)\n",
    "print('E_circle', E_circle)\n",
    "print('Impulserhaltung')\n",
    "I = (sum([m_erde*LA.norm(a_gesch_e), m_sonne*LA.norm([0,0])]))\n",
    "print(I)"
   ]
  },
  {
   "cell_type": "code",
   "execution_count": 16,
   "metadata": {
    "scrolled": false
   },
   "outputs": [
    {
     "name": "stdout",
     "output_type": "stream",
     "text": [
      "abstand [1.496e+11 0.000e+00]\n",
      "abstand norm  149600000000.0\n",
      "GM 1.32753150621e+20\n",
      "h 318727.5802124213\n"
     ]
    },
    {
     "data": {
      "image/png": "[encoded data removed]",
      "text/plain": [
       "<Figure size 432x288 with 1 Axes>"
      ]
     },
     "metadata": {},
     "output_type": "display_data"
    },
    {
     "data": {
      "image/png": "[encoded data removed]",
      "text/plain": [
       "<Figure size 432x288 with 1 Axes>"
      ]
     },
     "metadata": {},
     "output_type": "display_data"
    },
    {
     "data": {
      "image/png": "[encoded data removed]",
      "text/plain": [
       "<Figure size 432x288 with 1 Axes>"
      ]
     },
     "metadata": {},
     "output_type": "display_data"
    }
   ],
   "source": [
    "L,I = Bahnkurve_Plot(a_ort_e, a_gesch_e, 0, 31554030.44102971, N=100)\n",
    "#print(L)\n",
    "plt.plot(L, [1.]*len(L))\n",
    "plt.show()\n",
    "plt.plot(I, [1.]*len(I))\n",
    "plt.show()\n",
    "#print(I)"
   ]
  },
  {
   "cell_type": "code",
   "execution_count": 17,
   "metadata": {},
   "outputs": [],
   "source": [
    "def Bahnkurve_Animation(Anfangsort, Anfangsgesch, t0, tend, h):\n",
    "    r = np.array(Anfangsort)\n",
    "    v = np.array(Anfangsgesch)\n",
    "    \n",
    "    scene = vp.canvas(title='Bahnkurve Erde', background=vp.color.black, forward=vec(0, 2, -1))\n",
    "    erde = vp.sphere(pos=vec(r[0], r[1], 0), radius=1e10,color=vp.color.blue,  make_trail=True)\n",
    "    sun = vp.sphere(pos=(vec(0, 0, 0)), radius=2e10, color=vp.color.yellow)\n",
    "    sunlight = vp.local_light(pos=vec(0, 0, 0), color=vp.color.yellow)\n",
    "    t = t0\n",
    "    r_n = np.array([r[0], r[1], v[0], v[1]])\n",
    "    dr_n = ODEBahngleichung_rk(t0, r_n)\n",
    "    while t <= tend:\n",
    "        vp.rate(1100)\n",
    "        r_n = rk4(r_n, t, h, ODEBahngleichung_rk)\n",
    "        erde.pos = vec(r_n[0],r_n[1],0) \n",
    "        t += h"
   ]
  },
  {
   "cell_type": "code",
   "execution_count": 18,
   "metadata": {},
   "outputs": [
    {
     "data": {
      "text/html": [
       "<div id=\"glowscript\" class=\"glowscript\"></div>"
      ],
      "text/plain": [
       "<IPython.core.display.HTML object>"
      ]
     },
     "metadata": {},
     "output_type": "display_data"
    },
    {
     "data": {
      "application/javascript": [
       "window.__context = { glowscript_container: $(\"#glowscript\").removeAttr(\"id\")}"
      ],
      "text/plain": [
       "<IPython.core.display.Javascript object>"
      ]
     },
     "metadata": {},
     "output_type": "display_data"
    },
    {
     "ename": "KeyboardInterrupt",
     "evalue": "",
     "output_type": "error",
     "traceback": [
      "\u001b[1;31m---------------------------------------------------------------------------\u001b[0m",
      "\u001b[1;31mKeyboardInterrupt\u001b[0m                         Traceback (most recent call last)",
      "\u001b[1;32m<ipython-input-18-937844ccccd1>\u001b[0m in \u001b[0;36m<module>\u001b[1;34m()\u001b[0m\n\u001b[0;32m      2\u001b[0m \u001b[0mG_val\u001b[0m \u001b[1;33m=\u001b[0m \u001b[1;36m6.67408E-11\u001b[0m\u001b[1;33m\u001b[0m\u001b[0m\n\u001b[0;32m      3\u001b[0m \u001b[1;31m#a_gesch_e = np.array([1e1, 40e3])\u001b[0m\u001b[1;33m\u001b[0m\u001b[1;33m\u001b[0m\u001b[0m\n\u001b[1;32m----> 4\u001b[1;33m \u001b[0mBahnkurve_Animation\u001b[0m\u001b[1;33m(\u001b[0m\u001b[0ma_ort_e\u001b[0m\u001b[1;33m,\u001b[0m \u001b[0ma_gesch_e\u001b[0m\u001b[1;33m,\u001b[0m \u001b[1;36m0\u001b[0m\u001b[1;33m,\u001b[0m \u001b[1;36m1e10\u001b[0m\u001b[1;33m,\u001b[0m \u001b[1;36m1e2\u001b[0m\u001b[1;33m)\u001b[0m\u001b[1;33m\u001b[0m\u001b[0m\n\u001b[0m",
      "\u001b[1;32m<ipython-input-17-6be953fed87e>\u001b[0m in \u001b[0;36mBahnkurve_Animation\u001b[1;34m(Anfangsort, Anfangsgesch, t0, tend, h)\u001b[0m\n\u001b[0;32m     12\u001b[0m     \u001b[1;32mwhile\u001b[0m \u001b[0mt\u001b[0m \u001b[1;33m<=\u001b[0m \u001b[0mtend\u001b[0m\u001b[1;33m:\u001b[0m\u001b[1;33m\u001b[0m\u001b[0m\n\u001b[0;32m     13\u001b[0m         \u001b[0mvp\u001b[0m\u001b[1;33m.\u001b[0m\u001b[0mrate\u001b[0m\u001b[1;33m(\u001b[0m\u001b[1;36m1100\u001b[0m\u001b[1;33m)\u001b[0m\u001b[1;33m\u001b[0m\u001b[0m\n\u001b[1;32m---> 14\u001b[1;33m         \u001b[0mr_n\u001b[0m \u001b[1;33m=\u001b[0m \u001b[0mrk4\u001b[0m\u001b[1;33m(\u001b[0m\u001b[0mr_n\u001b[0m\u001b[1;33m,\u001b[0m \u001b[0mt\u001b[0m\u001b[1;33m,\u001b[0m \u001b[0mh\u001b[0m\u001b[1;33m,\u001b[0m \u001b[0mODEBahngleichung_rk\u001b[0m\u001b[1;33m)\u001b[0m\u001b[1;33m\u001b[0m\u001b[0m\n\u001b[0m\u001b[0;32m     15\u001b[0m         \u001b[0merde\u001b[0m\u001b[1;33m.\u001b[0m\u001b[0mpos\u001b[0m \u001b[1;33m=\u001b[0m \u001b[0mvec\u001b[0m\u001b[1;33m(\u001b[0m\u001b[0mr_n\u001b[0m\u001b[1;33m[\u001b[0m\u001b[1;36m0\u001b[0m\u001b[1;33m]\u001b[0m\u001b[1;33m,\u001b[0m\u001b[0mr_n\u001b[0m\u001b[1;33m[\u001b[0m\u001b[1;36m1\u001b[0m\u001b[1;33m]\u001b[0m\u001b[1;33m,\u001b[0m\u001b[1;36m0\u001b[0m\u001b[1;33m)\u001b[0m\u001b[1;33m\u001b[0m\u001b[0m\n\u001b[0;32m     16\u001b[0m         \u001b[0mt\u001b[0m \u001b[1;33m+=\u001b[0m \u001b[0mh\u001b[0m\u001b[1;33m\u001b[0m\u001b[0m\n",
      "\u001b[1;32m<ipython-input-7-c058865adfa9>\u001b[0m in \u001b[0;36mrk4\u001b[1;34m(y, t, h, ode)\u001b[0m\n\u001b[0;32m      1\u001b[0m \u001b[1;32mdef\u001b[0m \u001b[0mrk4\u001b[0m\u001b[1;33m(\u001b[0m\u001b[0my\u001b[0m\u001b[1;33m,\u001b[0m \u001b[0mt\u001b[0m\u001b[1;33m,\u001b[0m \u001b[0mh\u001b[0m\u001b[1;33m,\u001b[0m \u001b[0mode\u001b[0m\u001b[1;33m)\u001b[0m\u001b[1;33m:\u001b[0m\u001b[1;33m\u001b[0m\u001b[0m\n\u001b[0;32m      2\u001b[0m     \u001b[0mk1\u001b[0m \u001b[1;33m=\u001b[0m \u001b[0mnp\u001b[0m\u001b[1;33m.\u001b[0m\u001b[0marray\u001b[0m\u001b[1;33m(\u001b[0m\u001b[0mode\u001b[0m\u001b[1;33m(\u001b[0m\u001b[0mt\u001b[0m\u001b[1;33m,\u001b[0m \u001b[0my\u001b[0m\u001b[1;33m)\u001b[0m\u001b[1;33m)\u001b[0m\u001b[1;33m\u001b[0m\u001b[0m\n\u001b[1;32m----> 3\u001b[1;33m     \u001b[0mk2\u001b[0m \u001b[1;33m=\u001b[0m \u001b[0mnp\u001b[0m\u001b[1;33m.\u001b[0m\u001b[0marray\u001b[0m\u001b[1;33m(\u001b[0m\u001b[0mode\u001b[0m\u001b[1;33m(\u001b[0m\u001b[0mt\u001b[0m\u001b[1;33m+\u001b[0m\u001b[1;33m(\u001b[0m\u001b[0mh\u001b[0m\u001b[1;33m/\u001b[0m\u001b[1;36m2\u001b[0m\u001b[1;33m)\u001b[0m\u001b[1;33m,\u001b[0m \u001b[0my\u001b[0m\u001b[1;33m+\u001b[0m \u001b[1;33m(\u001b[0m\u001b[0mh\u001b[0m\u001b[1;33m/\u001b[0m\u001b[1;36m2\u001b[0m\u001b[1;33m)\u001b[0m\u001b[1;33m*\u001b[0m\u001b[0mk1\u001b[0m\u001b[1;33m)\u001b[0m\u001b[1;33m)\u001b[0m\u001b[1;33m\u001b[0m\u001b[0m\n\u001b[0m\u001b[0;32m      4\u001b[0m     \u001b[0mk3\u001b[0m \u001b[1;33m=\u001b[0m \u001b[0mnp\u001b[0m\u001b[1;33m.\u001b[0m\u001b[0marray\u001b[0m\u001b[1;33m(\u001b[0m\u001b[0mode\u001b[0m\u001b[1;33m(\u001b[0m\u001b[0mt\u001b[0m\u001b[1;33m+\u001b[0m\u001b[1;33m(\u001b[0m\u001b[0mh\u001b[0m\u001b[1;33m/\u001b[0m\u001b[1;36m2\u001b[0m\u001b[1;33m)\u001b[0m\u001b[1;33m,\u001b[0m \u001b[0my\u001b[0m\u001b[1;33m+\u001b[0m\u001b[1;33m(\u001b[0m\u001b[0mh\u001b[0m\u001b[1;33m/\u001b[0m\u001b[1;36m2\u001b[0m\u001b[1;33m)\u001b[0m\u001b[1;33m*\u001b[0m\u001b[0mk2\u001b[0m\u001b[1;33m)\u001b[0m\u001b[1;33m)\u001b[0m\u001b[1;33m\u001b[0m\u001b[0m\n\u001b[0;32m      5\u001b[0m     \u001b[0mk4\u001b[0m \u001b[1;33m=\u001b[0m \u001b[0mnp\u001b[0m\u001b[1;33m.\u001b[0m\u001b[0marray\u001b[0m\u001b[1;33m(\u001b[0m\u001b[0mode\u001b[0m\u001b[1;33m(\u001b[0m\u001b[0mt\u001b[0m\u001b[1;33m+\u001b[0m\u001b[0mh\u001b[0m\u001b[1;33m,\u001b[0m \u001b[0my\u001b[0m\u001b[1;33m+\u001b[0m\u001b[0mh\u001b[0m\u001b[1;33m*\u001b[0m\u001b[0mk3\u001b[0m\u001b[1;33m)\u001b[0m\u001b[1;33m)\u001b[0m\u001b[1;33m\u001b[0m\u001b[0m\n",
      "\u001b[1;32m<ipython-input-9-dab75935339e>\u001b[0m in \u001b[0;36mODEBahngleichung_rk\u001b[1;34m(t, y)\u001b[0m\n\u001b[0;32m     11\u001b[0m     \u001b[1;31m#dy[2] = -(G_val*M_val*rx)/(sy.sqrt(rx**2+ry**2)**3)\u001b[0m\u001b[1;33m\u001b[0m\u001b[1;33m\u001b[0m\u001b[0m\n\u001b[0;32m     12\u001b[0m     \u001b[1;31m#dy[3] = -(G_val*M_val*ry)/(sy.sqrt(rx**2+ry**2)**3)\u001b[0m\u001b[1;33m\u001b[0m\u001b[1;33m\u001b[0m\u001b[0m\n\u001b[1;32m---> 13\u001b[1;33m     \u001b[0mdy\u001b[0m\u001b[1;33m[\u001b[0m\u001b[1;36m2\u001b[0m\u001b[1;33m]\u001b[0m \u001b[1;33m=\u001b[0m \u001b[1;33m-\u001b[0m\u001b[1;33m(\u001b[0m\u001b[1;33m(\u001b[0m\u001b[0mG_val\u001b[0m\u001b[1;33m*\u001b[0m\u001b[0mM_val\u001b[0m\u001b[1;33m)\u001b[0m\u001b[1;33m*\u001b[0m\u001b[0mrx\u001b[0m\u001b[1;33m)\u001b[0m\u001b[1;33m/\u001b[0m\u001b[1;33m(\u001b[0m\u001b[0msy\u001b[0m\u001b[1;33m.\u001b[0m\u001b[0msqrt\u001b[0m\u001b[1;33m(\u001b[0m\u001b[0mrx\u001b[0m\u001b[1;33m**\u001b[0m\u001b[1;36m2\u001b[0m\u001b[1;33m+\u001b[0m\u001b[0mry\u001b[0m\u001b[1;33m**\u001b[0m\u001b[1;36m2\u001b[0m\u001b[1;33m)\u001b[0m\u001b[1;33m**\u001b[0m\u001b[1;36m3\u001b[0m\u001b[1;33m)\u001b[0m\u001b[1;33m\u001b[0m\u001b[0m\n\u001b[0m\u001b[0;32m     14\u001b[0m     \u001b[0mdy\u001b[0m\u001b[1;33m[\u001b[0m\u001b[1;36m3\u001b[0m\u001b[1;33m]\u001b[0m \u001b[1;33m=\u001b[0m \u001b[1;33m-\u001b[0m\u001b[1;33m(\u001b[0m\u001b[1;33m(\u001b[0m\u001b[0mG_val\u001b[0m\u001b[1;33m*\u001b[0m\u001b[0mM_val\u001b[0m\u001b[1;33m)\u001b[0m\u001b[1;33m*\u001b[0m\u001b[0mry\u001b[0m\u001b[1;33m)\u001b[0m\u001b[1;33m/\u001b[0m\u001b[1;33m(\u001b[0m\u001b[0msy\u001b[0m\u001b[1;33m.\u001b[0m\u001b[0msqrt\u001b[0m\u001b[1;33m(\u001b[0m\u001b[0mrx\u001b[0m\u001b[1;33m**\u001b[0m\u001b[1;36m2\u001b[0m\u001b[1;33m+\u001b[0m\u001b[0mry\u001b[0m\u001b[1;33m**\u001b[0m\u001b[1;36m2\u001b[0m\u001b[1;33m)\u001b[0m\u001b[1;33m**\u001b[0m\u001b[1;36m3\u001b[0m\u001b[1;33m)\u001b[0m\u001b[1;33m\u001b[0m\u001b[0m\n\u001b[0;32m     15\u001b[0m     \u001b[1;31m#print('old r_n', y)\u001b[0m\u001b[1;33m\u001b[0m\u001b[1;33m\u001b[0m\u001b[0m\n",
      "\u001b[1;32m~\\Anaconda3\\lib\\site-packages\\sympy\\functions\\elementary\\miscellaneous.py\u001b[0m in \u001b[0;36msqrt\u001b[1;34m(arg)\u001b[0m\n\u001b[0;32m    113\u001b[0m     \"\"\"\n\u001b[0;32m    114\u001b[0m     \u001b[1;31m# arg = sympify(arg) is handled by Pow\u001b[0m\u001b[1;33m\u001b[0m\u001b[1;33m\u001b[0m\u001b[0m\n\u001b[1;32m--> 115\u001b[1;33m     \u001b[1;32mreturn\u001b[0m \u001b[0mPow\u001b[0m\u001b[1;33m(\u001b[0m\u001b[0marg\u001b[0m\u001b[1;33m,\u001b[0m \u001b[0mS\u001b[0m\u001b[1;33m.\u001b[0m\u001b[0mHalf\u001b[0m\u001b[1;33m)\u001b[0m\u001b[1;33m\u001b[0m\u001b[0m\n\u001b[0m\u001b[0;32m    116\u001b[0m \u001b[1;33m\u001b[0m\u001b[0m\n\u001b[0;32m    117\u001b[0m \u001b[1;33m\u001b[0m\u001b[0m\n",
      "\u001b[1;32m~\\Anaconda3\\lib\\site-packages\\sympy\\core\\power.py\u001b[0m in \u001b[0;36m__new__\u001b[1;34m(cls, b, e, evaluate)\u001b[0m\n\u001b[0;32m    191\u001b[0m         \u001b[1;32mfrom\u001b[0m \u001b[0msympy\u001b[0m\u001b[1;33m.\u001b[0m\u001b[0mfunctions\u001b[0m\u001b[1;33m.\u001b[0m\u001b[0melementary\u001b[0m\u001b[1;33m.\u001b[0m\u001b[0mexponential\u001b[0m \u001b[1;32mimport\u001b[0m \u001b[0mexp_polar\u001b[0m\u001b[1;33m\u001b[0m\u001b[0m\n\u001b[0;32m    192\u001b[0m \u001b[1;33m\u001b[0m\u001b[0m\n\u001b[1;32m--> 193\u001b[1;33m         \u001b[0mb\u001b[0m \u001b[1;33m=\u001b[0m \u001b[0m_sympify\u001b[0m\u001b[1;33m(\u001b[0m\u001b[0mb\u001b[0m\u001b[1;33m)\u001b[0m\u001b[1;33m\u001b[0m\u001b[0m\n\u001b[0m\u001b[0;32m    194\u001b[0m         \u001b[0me\u001b[0m \u001b[1;33m=\u001b[0m \u001b[0m_sympify\u001b[0m\u001b[1;33m(\u001b[0m\u001b[0me\u001b[0m\u001b[1;33m)\u001b[0m\u001b[1;33m\u001b[0m\u001b[0m\n\u001b[0;32m    195\u001b[0m         \u001b[1;32mif\u001b[0m \u001b[0mevaluate\u001b[0m\u001b[1;33m:\u001b[0m\u001b[1;33m\u001b[0m\u001b[0m\n",
      "\u001b[1;32m~\\Anaconda3\\lib\\site-packages\\sympy\\core\\sympify.py\u001b[0m in \u001b[0;36m_sympify\u001b[1;34m(a)\u001b[0m\n\u001b[0;32m    385\u001b[0m \u001b[1;33m\u001b[0m\u001b[0m\n\u001b[0;32m    386\u001b[0m     \"\"\"\n\u001b[1;32m--> 387\u001b[1;33m     \u001b[1;32mreturn\u001b[0m \u001b[0msympify\u001b[0m\u001b[1;33m(\u001b[0m\u001b[0ma\u001b[0m\u001b[1;33m,\u001b[0m \u001b[0mstrict\u001b[0m\u001b[1;33m=\u001b[0m\u001b[1;32mTrue\u001b[0m\u001b[1;33m)\u001b[0m\u001b[1;33m\u001b[0m\u001b[0m\n\u001b[0m\u001b[0;32m    388\u001b[0m \u001b[1;33m\u001b[0m\u001b[0m\n\u001b[0;32m    389\u001b[0m \u001b[1;33m\u001b[0m\u001b[0m\n",
      "\u001b[1;32m~\\Anaconda3\\lib\\site-packages\\sympy\\core\\sympify.py\u001b[0m in \u001b[0;36msympify\u001b[1;34m(a, locals, convert_xor, strict, rational, evaluate)\u001b[0m\n\u001b[0;32m    271\u001b[0m                     a = str(list(np.reshape(np.asarray(a),\n\u001b[0;32m    272\u001b[0m                                             (1, np.size(a)))[0]))[1:-1]\n\u001b[1;32m--> 273\u001b[1;33m                     \u001b[1;32mreturn\u001b[0m \u001b[0mFloat\u001b[0m\u001b[1;33m(\u001b[0m\u001b[0ma\u001b[0m\u001b[1;33m,\u001b[0m \u001b[0mprecision\u001b[0m\u001b[1;33m=\u001b[0m\u001b[0mprec\u001b[0m\u001b[1;33m)\u001b[0m\u001b[1;33m\u001b[0m\u001b[0m\n\u001b[0m\u001b[0;32m    274\u001b[0m                 \u001b[1;32mexcept\u001b[0m \u001b[0mNotImplementedError\u001b[0m\u001b[1;33m:\u001b[0m\u001b[1;33m\u001b[0m\u001b[0m\n\u001b[0;32m    275\u001b[0m                     raise SympifyError('Translation for numpy float : %s '\n",
      "\u001b[1;32m~\\Anaconda3\\lib\\site-packages\\sympy\\core\\numbers.py\u001b[0m in \u001b[0;36m__new__\u001b[1;34m(cls, num, dps, prec, precision)\u001b[0m\n\u001b[0;32m    953\u001b[0m                              'Supply only one. ')\n\u001b[0;32m    954\u001b[0m \u001b[1;33m\u001b[0m\u001b[0m\n\u001b[1;32m--> 955\u001b[1;33m         \u001b[1;32mif\u001b[0m \u001b[0misinstance\u001b[0m\u001b[1;33m(\u001b[0m\u001b[0mnum\u001b[0m\u001b[1;33m,\u001b[0m \u001b[0mstring_types\u001b[0m\u001b[1;33m)\u001b[0m\u001b[1;33m:\u001b[0m\u001b[1;33m\u001b[0m\u001b[0m\n\u001b[0m\u001b[0;32m    956\u001b[0m             \u001b[0mnum\u001b[0m \u001b[1;33m=\u001b[0m \u001b[0mnum\u001b[0m\u001b[1;33m.\u001b[0m\u001b[0mreplace\u001b[0m\u001b[1;33m(\u001b[0m\u001b[1;34m' '\u001b[0m\u001b[1;33m,\u001b[0m \u001b[1;34m''\u001b[0m\u001b[1;33m)\u001b[0m\u001b[1;33m\u001b[0m\u001b[0m\n\u001b[0;32m    957\u001b[0m             \u001b[1;32mif\u001b[0m \u001b[0mnum\u001b[0m\u001b[1;33m.\u001b[0m\u001b[0mstartswith\u001b[0m\u001b[1;33m(\u001b[0m\u001b[1;34m'.'\u001b[0m\u001b[1;33m)\u001b[0m \u001b[1;32mand\u001b[0m \u001b[0mlen\u001b[0m\u001b[1;33m(\u001b[0m\u001b[0mnum\u001b[0m\u001b[1;33m)\u001b[0m \u001b[1;33m>\u001b[0m \u001b[1;36m1\u001b[0m\u001b[1;33m:\u001b[0m\u001b[1;33m\u001b[0m\u001b[0m\n",
      "\u001b[1;31mKeyboardInterrupt\u001b[0m: "
     ]
    }
   ],
   "source": [
    "M_val = m_sonne\n",
    "G_val = 6.67408E-11\n",
    "#a_gesch_e = np.array([1e1, 40e3])\n",
    "Bahnkurve_Animation(a_ort_e, a_gesch_e, 0, 1e10, 1e2)"
   ]
  },
  {
   "cell_type": "markdown",
   "metadata": {},
   "source": [
    "### 3.\n",
    "Überprüfen Sie die Impuls-, Drehimpuls- und Energieerhaltung analytisch. Verwenden Sie dazu Polarkoordinaten und leinten Sie die Bewegungsgleichung in Polarkoordinaten her:\n",
    "$$ m(\\ddot{r} - r*\\dot{\\theta}^2) = -G\\frac{mM}{r^2}$$\n",
    "$$ m(r\\ddot{\\theta}+2\\dot{r}\\dot{\\theta}) = 0 $$"
   ]
  },
  {
   "cell_type": "code",
   "execution_count": null,
   "metadata": {},
   "outputs": [],
   "source": []
  },
  {
   "cell_type": "markdown",
   "metadata": {},
   "source": [
    "### 4.\n",
    "Varieeren Sie die Anfangsgeschwindigkeit der Erde und beschreiben Sie die verschiedenen Bahnformen, die sich ergeben."
   ]
  },
  {
   "cell_type": "code",
   "execution_count": null,
   "metadata": {},
   "outputs": [],
   "source": []
  },
  {
   "cell_type": "markdown",
   "metadata": {},
   "source": [
    "### 5.\n",
    "Beschrieben Sie mit Hilfe des Programms die Bewegung zweier Fast gleich großer Massen (Zweikörperproblem). Denken Sie an die Impulserhaltung!"
   ]
  },
  {
   "cell_type": "code",
   "execution_count": null,
   "metadata": {},
   "outputs": [],
   "source": []
  },
  {
   "cell_type": "markdown",
   "metadata": {},
   "source": [
    "### 6.\n",
    "Drei Sterne seinen anfangs in Ruhe mit folgenden Massen und Positionen (arbitrary units):\n",
    "\n",
    "|       | Masse |  x |  y |\n",
    "|:-------:|:-------:|:----:|:----:|\n",
    "|**Stern 1**|  150  |  3 |  1 |\n",
    "|**Stern 2**|  200  | -1 | -2 |\n",
    "|**Stern 3**|  250  | -1 |  1 |\n",
    "\n",
    "(Die drei Sterne seien in der $xy$-Ebene.)"
   ]
  },
  {
   "cell_type": "markdown",
   "metadata": {},
   "source": [
    "#### (a)\n",
    "Zeigen Sie, dass die Bewegungsgleichung für Position $\\vec{r}_1$ des ersten Sterns gegeben ist durch:\n",
    "$$\\ddot{\\vec{r}}_1 = Gm_2\\frac{\\vec{r}_2-\\vec{r}_1}{|\\vec{r}_2-\\vec{r}_1|^3} + Gm_3\\frac{\\vec{r}_3-\\vec{r}_1}{|\\vec{r}_3-\\vec{r}_1|^3} $$\n",
    "und stellen Sie die Gleichung für $\\vec{r}_2$ und $\\vec{r}_3$ der beiden anderen Sterne auf."
   ]
  },
  {
   "cell_type": "markdown",
   "metadata": {},
   "source": [
    "$$ \\vec{F}_{ij} = -G\\frac{m_im_j}{r^2}\\vec{e}_r $$\n",
    "$$ r = |\\vec{r}_j - \\vec{r}_i| $$\n",
    "$$ \\vec{e}_r = \\frac{\\vec{r}_j - \\vec{r}_i}{|\\vec{r}_j - \\vec{r}_i|}$$\n",
    "\n",
    "$$ \\vec{F}_{ij} = -G\\frac{m_im_j}{|\\vec{r}_j - \\vec{r}_i|^2}\\frac{\\vec{r}_j - \\vec{r}_i}{|\\vec{r}_j - \\vec{r}_i|} = -Gm_im_j\\frac{\\vec{r}_j - \\vec{r}_i}{|\\vec{r}_j - \\vec{r}_i|^3}$$\n",
    "\n",
    "$$ m_i\\ddot{\\vec{r}}_i = \\sum_{j\\neq i} F_{ij} = \\sum_{j\\neq i} -Gm_im_j\\frac{\\vec{r}_j - \\vec{r}_i}{|\\vec{r}_j - \\vec{r}_i|^3}$$\n",
    "\n",
    "$$ \\ddot{\\vec{r}}_i = \\sum_{j\\neq i} -Gm_j\\frac{\\vec{r}_j - \\vec{r}_i}{|\\vec{r}_j - \\vec{r}_i|^3}$$\n",
    "\n",
    "$$ \\ddot{\\vec{r}}_1 = -Gm_2\\frac{\\vec{r}_2 - \\vec{r}_1}{|\\vec{r}_2 - \\vec{r}_1|^3} -Gm_3\\frac{\\vec{r}_3 - \\vec{r}_1}{|\\vec{r}_3 - \\vec{r}_1|^3}$$\n",
    "$$ \\ddot{\\vec{r}}_2 = -Gm_1\\frac{\\vec{r}_1 - \\vec{r}_2}{|\\vec{r}_1 - \\vec{r}_2|^3} -Gm_3\\frac{\\vec{r}_3 - \\vec{r}_2}{|\\vec{r}_3 - \\vec{r}_2|^3}$$\n",
    "$$ \\ddot{\\vec{r}}_3 = -Gm_1\\frac{\\vec{r}_1 - \\vec{r}_3}{|\\vec{r}_1 - \\vec{r}_3|^3} -Gm_2\\frac{\\vec{r}_2 - \\vec{r}_3}{|\\vec{r}_2 - \\vec{r}_3|^3}$$"
   ]
  },
  {
   "cell_type": "markdown",
   "metadata": {},
   "source": [
    "#### (b)\n",
    "Setzten Sie $G=1$ und schreiben sie ein Programm, das die Bewegungsgleichungen löst. Plotten Sie $y$ als Funktion von $x$ und animieren Sie die Bewegung. Die Sterne bewegen sich sehr schnell, wenn sie sich nähern und sind sehr langsam, wenn sie weit voneinander entfernt sind. Eine adaptive Methode könnte deshab nützlich sein."
   ]
  },
  {
   "cell_type": "code",
   "execution_count": 19,
   "metadata": {},
   "outputs": [],
   "source": [
    "G = 1\n",
    "Sterne = {'Stern1': {'m' : 150, 'pos': [3, 1]}, 'Stern2': {'m' : 200, 'pos': [-1, -2]},'Stern3': {'m' : 250, 'pos': [-1, 1]}}"
   ]
  },
  {
   "cell_type": "code",
   "execution_count": 20,
   "metadata": {},
   "outputs": [],
   "source": [
    "def ODEsterne(y, t):\n",
    "    '''\n",
    "    berechnet die rechte Seite der Differentialgleichung \n",
    "    Zunächst kommen alle Variablen (x,y,vx,vy) für den ersten Planeten, dann alle 4 für den zweiten,... \n",
    "    :param t: aktueller zeitpunkt\n",
    "    :param y: aktueller y-Wert (n Komponenten)\n",
    "    :return: rechte Seite f der Dgl. y'=f(t,y)\n",
    "    '''\n",
    "\n",
    "    # Daten der Planeten\n",
    "    G = 1  # Gravitationskonstante\n",
    "    masse_Sterne = [150, 200, 250]\n",
    "    y = np.array(y)\n",
    "    y = y.reshape(-1, 4)\n",
    "    #print(y)\n",
    "    rs = []\n",
    "    dy = []\n",
    "    #print(planets)\n",
    "    for i in range(0, len(y)):\n",
    "        F_i = 0\n",
    "        rs.append(np.array([y[i][0], y[i][1]]))\n",
    "        r_i = np.array([y[i][0], y[i][1]])\n",
    "        for j in range(0, len(y)):\n",
    "            if i != j:\n",
    "                r_j = np.array([y[j][0], y[j][1]])\n",
    "                m_j = masse_Sterne[j]\n",
    "                dist = r_i-r_j\n",
    "                F_i += m_j *((dist)/(LA.norm(dist))**3)\n",
    "        ddr_i = -G*F_i\n",
    "        dy.append(y[i][2])\n",
    "        dy.append(y[i][3])\n",
    "        dy.append(ddr_i[0])\n",
    "        dy.append(ddr_i[1])\n",
    "    return dy"
   ]
  },
  {
   "cell_type": "code",
   "execution_count": 27,
   "metadata": {},
   "outputs": [
    {
     "name": "stdout",
     "output_type": "stream",
     "text": [
      "0.00040008001600320064\n",
      "[3, 1, 0, 0, -1, -2, 0, 0, -1, 1, 0, 0]\n"
     ]
    },
    {
     "data": {
      "image/png": "[encoded data removed]",
      "text/plain": [
       "<Figure size 432x288 with 1 Axes>"
      ]
     },
     "metadata": {},
     "output_type": "display_data"
    }
   ],
   "source": [
    "Stern_n = ['Stern1', 'Stern2', 'Stern3']\n",
    "tvals, h = np.linspace(0, 2, 5000, retstep=True)\n",
    "print(h)\n",
    "coordinates = {}\n",
    "for stern in Sterne:\n",
    "    x_s = Sterne[stern]['pos'][0]\n",
    "    y_s = Sterne[stern]['pos'][1]\n",
    "    plt.plot(x_s, y_s, 'o', label=stern)\n",
    "    coordinates[stern] = {'x':[], 'y':[]}\n",
    "#plt.legend()\n",
    "#plt.show()\n",
    "y_sterne = []\n",
    "for s in Sterne:\n",
    "    x_s = Sterne[s]['pos'][0]\n",
    "    y_s = Sterne[s]['pos'][1]\n",
    "    y_sterne.append(x_s)\n",
    "    y_sterne.append(y_s)\n",
    "    y_sterne.append(0)\n",
    "    y_sterne.append(0)\n",
    "print(y_sterne)\n",
    "y_list = [y_sterne]\n",
    "#for t in tvals:\n",
    "#    y_sterne_np1 = rk4(y_sterne, t, h, ODEsterne)\n",
    "\n",
    "#    y_list.append(y_sterne_np1)\n",
    "#    y_stern = y_sterne_np1\n",
    "y_list = integrate.odeint(ODEsterne, y_sterne, tvals)\n",
    "\n",
    "#print(y_list)\n",
    "y_list[0] = np.array(y_list[0])\n",
    "for y_step in y_list:\n",
    "    y_shaped = y_step.reshape(-1, 4)\n",
    "    for i in range(0, len(y_shaped)):\n",
    "        list_c = coordinates[Stern_n[i]]['x']\n",
    "        list_c.append(y_shaped[i][0])\n",
    "        list_c = coordinates[Stern_n[i]]['y']\n",
    "        list_c.append(y_shaped[i][1])\n",
    "for st in coordinates:\n",
    "    plt.plot(coordinates[st]['x'], coordinates[st]['y'], label=st)\n",
    "    \n",
    "plt.legend()\n",
    "plt.show()\n",
    "    \n",
    "    \n",
    "            \n",
    "                    "
   ]
  },
  {
   "cell_type": "code",
   "execution_count": null,
   "metadata": {},
   "outputs": [],
   "source": []
  }
 ],
 "metadata": {
  "kernelspec": {
   "display_name": "VPython",
   "language": "python",
   "name": "vpython"
  },
  "language_info": {
   "codemirror_mode": {
    "name": "ipython",
    "version": 3
   },
   "file_extension": ".py",
   "mimetype": "text/x-python",
   "name": "python",
   "nbconvert_exporter": "python",
   "pygments_lexer": "ipython3",
   "version": "3.6.4"
  }
 },
 "nbformat": 4,
 "nbformat_minor": 2
}
