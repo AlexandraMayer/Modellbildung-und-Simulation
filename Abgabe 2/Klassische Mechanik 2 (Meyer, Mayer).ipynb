{
 "cells": [
  {
   "cell_type": "code",
   "execution_count": 1,
   "metadata": {},
   "outputs": [
    {
     "data": {
      "application/javascript": [
       "require.undef(\"nbextensions/vpython_libraries/glow.min\");"
      ],
      "text/plain": [
       "<IPython.core.display.Javascript object>"
      ]
     },
     "metadata": {},
     "output_type": "display_data"
    },
    {
     "data": {
      "application/javascript": [
       "require.undef(\"nbextensions/vpython_libraries/glowcomm\");"
      ],
      "text/plain": [
       "<IPython.core.display.Javascript object>"
      ]
     },
     "metadata": {},
     "output_type": "display_data"
    },
    {
     "data": {
      "application/javascript": [
       "require.undef(\"nbextensions/vpython_libraries/jquery-ui.custom.min\");"
      ],
      "text/plain": [
       "<IPython.core.display.Javascript object>"
      ]
     },
     "metadata": {},
     "output_type": "display_data"
    },
    {
     "data": {
      "application/javascript": [
       "require([\"nbextensions/vpython_libraries/glow.min\"], function(){console.log(\"GLOW LOADED\");})"
      ],
      "text/plain": [
       "<IPython.core.display.Javascript object>"
      ]
     },
     "metadata": {},
     "output_type": "display_data"
    },
    {
     "data": {
      "application/javascript": [
       "require([\"nbextensions/vpython_libraries/glowcomm\"], function(){console.log(\"GLOWCOMM LOADED\");})"
      ],
      "text/plain": [
       "<IPython.core.display.Javascript object>"
      ]
     },
     "metadata": {},
     "output_type": "display_data"
    },
    {
     "data": {
      "application/javascript": [
       "require([\"nbextensions/vpython_libraries/jquery-ui.custom.min\"], function(){console.log(\"JQUERY LOADED\");})"
      ],
      "text/plain": [
       "<IPython.core.display.Javascript object>"
      ]
     },
     "metadata": {},
     "output_type": "display_data"
    },
    {
     "data": {
      "text/html": [
       "<div id=\"glowscript\" class=\"glowscript\"></div>"
      ],
      "text/plain": [
       "<IPython.core.display.HTML object>"
      ]
     },
     "metadata": {},
     "output_type": "display_data"
    },
    {
     "data": {
      "application/javascript": [
       "window.__context = { glowscript_container: $(\"#glowscript\").removeAttr(\"id\")}"
      ],
      "text/plain": [
       "<IPython.core.display.Javascript object>"
      ]
     },
     "metadata": {},
     "output_type": "display_data"
    }
   ],
   "source": [
    "import sympy as sy\n",
    "sy.init_printing(use_latex=True)\n",
    "import numpy as np\n",
    "import pandas as pd\n",
    "import scipy as sc\n",
    "import scipy.linalg as LA\n",
    "import matplotlib.pyplot as plt\n",
    "import math\n",
    "import vpython as vp\n",
    "import scipy.integrate as integrate\n",
    "import copy\n",
    "vec = vp.vector"
   ]
  },
  {
   "cell_type": "markdown",
   "metadata": {},
   "source": [
    "# 2. Abgabe aus dem Fach Modellbildung und Simulation - Klassische Mechanik 2"
   ]
  },
  {
   "cell_type": "markdown",
   "metadata": {},
   "source": [
    "## Keplerproblem"
   ]
  },
  {
   "cell_type": "markdown",
   "metadata": {},
   "source": [
    "Zwei Massen $M$ und $m$, die den Abstand $r$ zueinander besitzen, ziehen sich gegenseitig mit der Kraft\n",
    "$$ \\vec{F}_G = -G\\frac{Mm}{r^2}\\vec{e}_r $$\n",
    "an. $G$ ist die universelle Gravitationskonstante."
   ]
  },
  {
   "cell_type": "code",
   "execution_count": null,
   "metadata": {},
   "outputs": [],
   "source": [
    "x = sy.symbols('x')"
   ]
  },
  {
   "cell_type": "markdown",
   "metadata": {},
   "source": [
    "### 1.\n",
    "Im File Sat.txt sind die Umlaufzeiten $T$ und mittleren Radien $r$ der Umlaufbahnen von vier Satelliten angegeben (die einen Asteroiden umkreisen). Zeigen Sie, dass sich die Datein mit der Form $T=Cr^n$ beschreiben lassen. Bestimmen Sie $n$ und $C$, indem sie Sie die Daten logarithmisch auftragen. Schätzen Sie den fehlenden Radius ab."
   ]
  },
  {
   "cell_type": "markdown",
   "metadata": {},
   "source": [
    "Aufgabe herausfinden was C und n sein können."
   ]
  },
  {
   "cell_type": "markdown",
   "metadata": {},
   "source": [
    "Die Umlaufzeit ist gegeben durch $a= \\omega^2r = (\\frac{2\\pi}{T})^2r$"
   ]
  },
  {
   "cell_type": "code",
   "execution_count": null,
   "metadata": {
    "scrolled": true
   },
   "outputs": [],
   "source": [
    "with open(\"Sat.txt\", \"r\") as f:\n",
    "    sat = [line.split() for line in f]\n",
    "header_ = sat[0]\n",
    "header = []\n",
    "h_str1 = ''\n",
    "h_str2 = ''\n",
    "for i in range(0, 3):\n",
    "    h_str1 += header_[i] + ' '\n",
    "    h_str2 += header_[i+3] + ' '\n",
    "header = [h_str1, h_str2]\n",
    "sat[0] = header\n",
    "print(header)\n",
    "print(sat)\n",
    "sat_data = {}\n",
    "for s in range(1, len(sat)):\n",
    "    for n in range(0, len(sat[s])):\n",
    "        if sat[s][n] == '?':\n",
    "            sat[s][n] = x\n",
    "        else:\n",
    "            sat[s][n] = float(sat[s][n])\n",
    "sat_data = {sat[0][i]: [ line[i] for line in sat[1:] ]  for i in range(len(sat[0]))}\n",
    "print(sat_data)\n",
    "xs = sat_data['T in a '][0:3]\n",
    "xs.append(sat_data['T in a '][4])\n",
    "print(xs)\n",
    "\n",
    "ys = sat_data['r in Gm '][0:3]\n",
    "ys.append(sat_data['r in Gm '][4])\n",
    "print(ys)\n",
    "plt.loglog(xs, ys, 'o')\n",
    "plt.loglog(xs, ys)\n",
    "plt.xlabel('T in a')\n",
    "plt.ylabel('r in Gm')\n",
    "plt.show()"
   ]
  },
  {
   "cell_type": "markdown",
   "metadata": {},
   "source": [
    "$\\mathrm{ln}(a) + b \\mathrm{ln}(x) = \\mathrm{ln}(y) $\n",
    "Berechnung Potenzfunktion : $y = ax^b$"
   ]
  },
  {
   "cell_type": "markdown",
   "metadata": {},
   "source": [
    "### 2.\n",
    "Schreiben Sie ein Programm, das die Differentialgleichung\n",
    "$$ m\\ddot{\\vec{r}} = -G\\frac{Mm}{r^3}\\vec{r} $$\n",
    "löst und visualisieren Sie die Bahnkurve der Erde um die Sonne. Verwenden sie als Anfangsgeschwindigkeit $(0.0, 29.8)*10^3m/s$ und den Anfangsort der Erde $(1.4960, 0.0)*10^{11}m$ (Die Sonne ruhe anfänglich im Urspung). Überprüfen Sie die Impuls-, Drehimpuls- und Energieerhaltung numerisch."
   ]
  },
  {
   "cell_type": "code",
   "execution_count": null,
   "metadata": {},
   "outputs": [],
   "source": [
    "M, m, r, G, vr, t = sy.symbols('M, m, r, G, \\\\vec{r}, t')\n",
    "ddr = sy.symbols('\\ddot{\\\\vec{r}}', function=True)"
   ]
  },
  {
   "cell_type": "code",
   "execution_count": null,
   "metadata": {
    "scrolled": true
   },
   "outputs": [],
   "source": [
    "gl = sy.Eq(m*ddr(t), -G*((M*m)/r**3)*vr)\n",
    "display(gl)\n",
    "gl = sy.solve(gl, ddr(t))\n",
    "display(gl)\n",
    "gl2 = sy.Eq(ddr(t), gl[0])\n",
    "display(gl2)"
   ]
  },
  {
   "cell_type": "code",
   "execution_count": null,
   "metadata": {},
   "outputs": [],
   "source": [
    "def rk4(y, t, m, g, h, ode):\n",
    "    k1 = np.array(ode(t, y, m, g))\n",
    "    k2 = np.array(ode(t+(h/2), y+ (h/2)*k1, m, g))\n",
    "    k3 = np.array(ode(t+(h/2), y+(h/2)*k2, m, g))\n",
    "    k4 = np.array(ode(t+h, y+h*k3, m, g))\n",
    "    ynew = y + h*(k1+2*k2+2*k3+k4)/6\n",
    "    return ynew"
   ]
  },
  {
   "cell_type": "code",
   "execution_count": null,
   "metadata": {},
   "outputs": [],
   "source": [
    "def ODEPlaneten_rk(t, y, massen, G_val):\n",
    "    '''\n",
    "    berechnet die rechte Seite der Differentialgleichung \n",
    "    Zunächst kommen alle Variablen (x,y,vx,vy) für den ersten Planeten, dann alle 4 für den zweiten,... \n",
    "    :param t: aktueller zeitpunkt\n",
    "    :param y: aktueller y-Wert (n Komponenten)\n",
    "    :return: rechte Seite f der Dgl. y'=f(t,y)\n",
    "    '''\n",
    "\n",
    "    G = G_val #Gravitationskonstante\n",
    "    y = np.array(y)\n",
    "    y = y.reshape(-1, 4)\n",
    "    rs = []\n",
    "    dy = []\n",
    "    for i in range(0, len(y)):\n",
    "        F_i = np.array([0., 0.])\n",
    "        rs.append(np.array([y[i][0], y[i][1]]))\n",
    "        r_i = np.array([y[i][0], y[i][1]])\n",
    "        for j in range(0, len(y)):\n",
    "            if i != j:\n",
    "                r_j = np.array([y[j][0], y[j][1]])\n",
    "                m_j = massen[j]\n",
    "                dist = r_i-r_j\n",
    "                if LA.norm(dist) > 0:\n",
    "                    F_i += m_j *((dist)/(LA.norm(dist))**3)\n",
    "                else:\n",
    "                    F_i += np.array([0., 0.])\n",
    "        ddr_i = -G*F_i\n",
    "        dy.append(y[i][2])\n",
    "        dy.append(y[i][3])\n",
    "        dy.append(ddr_i[0])\n",
    "        dy.append(ddr_i[1])\n",
    "    return dy"
   ]
  },
  {
   "cell_type": "code",
   "execution_count": null,
   "metadata": {},
   "outputs": [],
   "source": [
    "def integrateall(method, ode, massen, G_val, y0, t0, tend, N, intermediate=False):\n",
    "    \"\"\"\n",
    "    :param method: Enschrittverfahren\n",
    "    :param ode: Rechte seite der Dgl\n",
    "    :param y0: Anfangswert\n",
    "    :param t0: Anfangszeitpunkt\n",
    "    :param tend: Endzeitpunkt\n",
    "    :param N: Anzahl der Schritte\n",
    "    :param intermediate: True, wenn zum Plotten der Lösung auch die Ergebnisse der Zwischenschritte zurückgegeben werden sollen\n",
    "    :return: Lösung am Endzeitpunkt (bzw. zusätzlich an den Zwischenzetpunkten, wenn intermediate =True)\n",
    "    \"\"\"\n",
    "    yvals = [y0]\n",
    "    space =  np.linspace(t0, round(tend, 5), num=N, retstep=True, dtype=float)\n",
    "    tvals = space[0]\n",
    "    h = space[1]\n",
    "    y = y0\n",
    "    for ts in tvals:\n",
    "        y = method(y, ts, massen, G_val, h, ode)\n",
    "        yvals.append(y)\n",
    "    del yvals[-1]\n",
    "    yend=yvals[-1]\n",
    "    if intermediate:\n",
    "        return np.array(yvals), tvals\n",
    "    else:\n",
    "        return yend"
   ]
  },
  {
   "cell_type": "code",
   "execution_count": null,
   "metadata": {},
   "outputs": [],
   "source": [
    "def Planeten_Coordinates(Planeten, g, t0, tend, N):\n",
    "    Planet_n = []\n",
    "    tvals, h = np.linspace(t0, tend, N, retstep=True)\n",
    "    coordinates = {}\n",
    "    y_planeten = []\n",
    "    massen = []\n",
    "    G_val = g\n",
    "    for planet in Planeten:\n",
    "        Planet_n.append(planet)\n",
    "        x_s = Planeten[planet]['pos'][0]\n",
    "        y_s = Planeten[planet]['pos'][1]\n",
    "        dx_s = Planeten[planet]['gesch'][0]\n",
    "        dy_s = Planeten[planet]['gesch'][1]\n",
    "        y_planeten.append(x_s)\n",
    "        y_planeten.append(y_s)\n",
    "        y_planeten.append(dx_s)\n",
    "        y_planeten.append(dy_s)\n",
    "        massen.append(Planeten[planet]['masse'])\n",
    "        coordinates[planet] = {'x':[], 'y':[]}\n",
    "    y_list, t_list = integrateall(rk4, ODEPlaneten_rk, massen, G_val, y_planeten, t0, tend, N, intermediate=True)\n",
    "    for y_step in y_list:\n",
    "        y_shaped = y_step.reshape(-1, 4)\n",
    "        for i in range(0, len(y_shaped)):\n",
    "            list_c = coordinates[Planet_n[i]]['x']\n",
    "            list_c.append(y_shaped[i][0])\n",
    "            list_c = coordinates[Planet_n[i]]['y']\n",
    "            list_c.append(y_shaped[i][1])\n",
    "    \n",
    "    return y_list, coordinates"
   ]
  },
  {
   "cell_type": "code",
   "execution_count": null,
   "metadata": {},
   "outputs": [],
   "source": [
    "def Planets_Plot(Namen, AOrte, AGesch, Massen, G_val, Zeiten, Schritte):\n",
    "    Planeten = {}\n",
    "    for i in range(0, len(AOrte)):\n",
    "        Planeten[Namen[i]] = {'pos' : AOrte[i], 'gesch': AGesch[i], 'masse': Massen[i]}\n",
    "    t0 = Zeiten[0]\n",
    "    tend = Zeiten[1]\n",
    "    N = Schritte\n",
    "    y_list, coordinates = Planeten_Coordinates(Planeten, G_val, t0, tend, N)\n",
    "    for st in coordinates:\n",
    "        r = np.random.rand()\n",
    "        g = np.random.rand()\n",
    "        b = np.random.rand()\n",
    "        xs = coordinates[st]['x']\n",
    "        ys = coordinates[st]['y']\n",
    "        plt.plot(xs[0], ys[0], 'x', color=[r, g, b], label='Anfangspunkt'+st)\n",
    "        plt.plot(xs, ys, color=[r, g, b], label=st)\n",
    "        plt.plot(xs[-1], ys[-1], 'o', color=[r, g, b], label='Endpunkt'+st)\n",
    "\n",
    "    plt.legend()\n",
    "    return y_list, coordinates"
   ]
  },
  {
   "cell_type": "code",
   "execution_count": null,
   "metadata": {},
   "outputs": [],
   "source": [
    "def Erhaltung(y):\n",
    "    xs = range(0, len(y))\n",
    "    Pe = []\n",
    "    Ps = []\n",
    "    P = []\n",
    "    Le = []\n",
    "    Ls = []\n",
    "    L = []\n",
    "    Ekin = []\n",
    "    Epot = []\n",
    "    E = []\n",
    "    for y_ in y:\n",
    "        o_s = y_[0:2]\n",
    "        g_s = y_[2:4]\n",
    "        o_e = y_[4:6]\n",
    "        g_e = y_[6:8]\n",
    "        \n",
    "        r = (o_e-o_s)\n",
    "        r_e = (m_s/(m_e+m_s))*r\n",
    "        r_s = r-r_e\n",
    "        \n",
    "        #Impulserhaltung\n",
    "        P_e = m_e*g_e\n",
    "        Pe.append(P_e)\n",
    "        P_e_g = P_e[0]+P_e[1]\n",
    "        P_s = m_s*g_s\n",
    "        Ps.append(P_s)\n",
    "        P_s_g = P_s[0]+P_s[1]\n",
    "        P.append(P_e_g+P_s_g)\n",
    "        \n",
    "        #Drehimpulserhaltung\n",
    "        alpha_e = np.arccos(np.dot(g_e, r_e)/(LA.norm(g_e)*LA.norm(r_e)))\n",
    "        L_e = m_e*LA.norm(g_e)*LA.norm(r_e)*math.sin(alpha_e)\n",
    "        Le.append(L_e)\n",
    "        alpha_s = np.arccos(np.dot(g_s, r_s)/(LA.norm(g_s)*LA.norm(r_s)))\n",
    "        L_s = m_s*LA.norm(g_s)*LA.norm(r_s)*math.sin(alpha_s)\n",
    "        Ls.append(L_s)\n",
    "        L.append(L_e+L_s)\n",
    "        \n",
    "        #Energieerhaltung\n",
    "        E_kin = m_e*((LA.norm(g_e))**2)/2+m_s*((LA.norm(g_s))**2)/2\n",
    "        Ekin.append(E_kin)\n",
    "        E_pot = -G_val*m_e*m_s/LA.norm(r)\n",
    "        Epot.append(E_pot)\n",
    "        E.append(E_kin+E_pot)\n",
    "\n",
    "    Erg = {'x': xs, 'Impulserhaltung': [Pe, Ps, P], 'Drehimpulserhaltung': [Le, Ls, L], 'Energieerhaltung': [Ekin, Epot, E]}\n",
    "    return Erg"
   ]
  },
  {
   "cell_type": "code",
   "execution_count": null,
   "metadata": {},
   "outputs": [],
   "source": [
    "G_val = 6.674E-11\n",
    "\n",
    "m_e = 5.972e24\n",
    "a_ort_e = np.array([149.6e11, 0.])\n",
    "a_gesch_e = np.array([0.0, 2.978e3])\n",
    "\n",
    "m_s = 1.989e30\n",
    "a_ort_s = np.array([0, 0.])\n",
    "a_gesch_s = np.array([0., 0.])"
   ]
  },
  {
   "cell_type": "code",
   "execution_count": null,
   "metadata": {},
   "outputs": [],
   "source": [
    "Namen = ['Sonne', 'Erde']\n",
    "Orte = [a_ort_s, a_ort_e]\n",
    "Gesch = [a_gesch_s, a_gesch_e]\n",
    "Massen = [m_s, m_e]\n",
    "ys, c = Planets_Plot(Namen, Orte, Gesch, Massen, G_val, [0, 3.154e10], 10000)\n",
    "plt.axis('scaled')\n",
    "plt.show()"
   ]
  },
  {
   "cell_type": "code",
   "execution_count": null,
   "metadata": {},
   "outputs": [],
   "source": [
    "def Plot_Impulserhaltung(Erg):\n",
    "    xs = Erg['x']\n",
    "    imp = Erg['Impulserhaltung']\n",
    "    Pe = imp[0]\n",
    "    Ps = imp[1]\n",
    "    P = imp[2]\n",
    "\n",
    "    plt.plot(xs, np.array(Pe)[:, 0], color='#b7d5fd', label='Impuls in x Richtung Erde')\n",
    "    plt.plot(xs, np.array(Pe)[:, 1], color='#004a85', label='Impuls in y Richtung Erde')\n",
    "    plt.legend()\n",
    "    plt.show()\n",
    "\n",
    "    plt.plot(xs, np.array(Ps)[:, 0], color='#feff83', label='Impuls in x Richtung Sonne')\n",
    "    plt.plot(xs, np.array(Ps)[:, 1], color='#e1e000', label='Impuls in y Richtung Sonne')\n",
    "    plt.legend()\n",
    "    plt.show()\n",
    "\n",
    "    Pe_s = [Pe[i][0]+Pe[i][1] for i in range(0, len(Pe))]\n",
    "    plt.plot(Pe_s, color='#0000ff', label='Impuls Erde')\n",
    "    Ps_s = [Ps[i][0]+Ps[i][1] for i in range(0, len(Ps))]\n",
    "    plt.plot(xs, Ps_s, color='#ffff00', label='Impuls Sonne')\n",
    "    plt.legend()\n",
    "    plt.show()\n",
    "\n",
    "    plt.plot(xs, P, color='#00ff00')\n",
    "    plt.title('Impuls gesamt')\n",
    "    plt.show()"
   ]
  },
  {
   "cell_type": "code",
   "execution_count": null,
   "metadata": {},
   "outputs": [],
   "source": [
    "def Plot_Drehimpulserhaltung(Erg):\n",
    "    xs = Erg['x']\n",
    "    dImp = Erg['Drehimpulserhaltung']\n",
    "    Le = dImp[0]\n",
    "    Ls = dImp[1]\n",
    "    L = dImp[2]\n",
    "    plt.plot(xs, Le, color='#0000ff')\n",
    "    plt.title('Drehimpuls Erde')\n",
    "    plt.show()\n",
    "    plt.plot(xs, Ls, color='#ffff00')\n",
    "    plt.title('Drehimpuls Sonne')\n",
    "    plt.show()\n",
    "    plt.plot(xs, L, color='#00ff00')\n",
    "    plt.title('Drehimpuls gesamt')\n",
    "    plt.show()"
   ]
  },
  {
   "cell_type": "code",
   "execution_count": null,
   "metadata": {},
   "outputs": [],
   "source": [
    "def Plot_Energieerhaltung(Erg):\n",
    "    xs = Erg['x']\n",
    "    En = Erg['Energieerhaltung']\n",
    "    Ekin = En[0]\n",
    "    Epot = En[1]\n",
    "    E = En[2]\n",
    "    plt.plot(xs, Ekin, color='#ff00ff')\n",
    "    plt.title('Kinetische Energie')\n",
    "    plt.show()\n",
    "    plt.plot(xs, Epot, color='#ff004e')\n",
    "    plt.title('Potenzielle Energie')\n",
    "    plt.show()\n",
    "    plt.plot(xs, E, color='#00ff00')\n",
    "    plt.title('Energie gesamt')\n",
    "    plt.show()"
   ]
  },
  {
   "cell_type": "code",
   "execution_count": null,
   "metadata": {},
   "outputs": [],
   "source": [
    "Erg = Erhaltung(ys)"
   ]
  },
  {
   "cell_type": "code",
   "execution_count": null,
   "metadata": {},
   "outputs": [],
   "source": [
    "Plot_Impulserhaltung(Erg)"
   ]
  },
  {
   "cell_type": "code",
   "execution_count": null,
   "metadata": {},
   "outputs": [],
   "source": [
    "Plot_Drehimpulserhaltung(Erg)"
   ]
  },
  {
   "cell_type": "code",
   "execution_count": null,
   "metadata": {},
   "outputs": [],
   "source": [
    "Plot_Energieerhaltung(Erg)"
   ]
  },
  {
   "cell_type": "code",
   "execution_count": null,
   "metadata": {},
   "outputs": [],
   "source": [
    "m_e = 5.972e24\n",
    "a_ort_e = np.array([149.6e11, 0.])\n",
    "a_gesch_e = np.array([0.0, 29.78e3])\n",
    "\n",
    "m_s = 1.989e30\n",
    "a_ort_s = np.array([0, 0.])\n",
    "a_gesch_s = np.array([0., 0.])\n",
    "G_val = 6.674E-11"
   ]
  },
  {
   "cell_type": "code",
   "execution_count": null,
   "metadata": {},
   "outputs": [],
   "source": [
    "Namen = ['Sonne', 'Erde']\n",
    "Orte = [a_ort_s, a_ort_e]\n",
    "Gesch = [a_gesch_s, a_gesch_e]\n",
    "Massen = [m_s, m_e]\n",
    "ys, c = Planets_Plot(Namen, Orte, Gesch, Massen, G_val, [0, 2e9], 10000)"
   ]
  },
  {
   "cell_type": "code",
   "execution_count": null,
   "metadata": {},
   "outputs": [],
   "source": [
    "Erg = Erhaltung(ys)"
   ]
  },
  {
   "cell_type": "code",
   "execution_count": null,
   "metadata": {},
   "outputs": [],
   "source": [
    "Plot_Impulserhaltung(Erg)"
   ]
  },
  {
   "cell_type": "code",
   "execution_count": null,
   "metadata": {},
   "outputs": [],
   "source": [
    "Plot_Drehimpulserhaltung(Erg)"
   ]
  },
  {
   "cell_type": "code",
   "execution_count": null,
   "metadata": {},
   "outputs": [],
   "source": [
    "Plot_Energieerhaltung(Erg)"
   ]
  },
  {
   "cell_type": "code",
   "execution_count": null,
   "metadata": {},
   "outputs": [],
   "source": [
    "def Bahnkurve_Animation(Anfangsorte, Anfangsgesch, massen, g, t0, tend, h):\n",
    "    re = np.array(Anfangsorte[0])\n",
    "    rs = np.array(Anfangsorte[1])\n",
    "    ve = np.array(Anfangsgesch[0])\n",
    "    vs = np.array(Anfangsgesch[1])\n",
    "    \n",
    "    scene = vp.canvas(title='Bahnkurve Erde', background=vp.color.black, forward=vec(0, 2, -1))\n",
    "    erde = vp.sphere(pos=vec(re[0], re[1], 0), radius=1e12, color=vp.color.blue,  make_trail=True)\n",
    "    sun = vp.sphere(pos=(vec(rs[0], rs[1], 0)), radius=2e12, color=vp.color.yellow)\n",
    "    sunlight = vp.local_light(pos=vec(rs[0], rs[1], 0), color=vp.color.yellow)\n",
    "    t = t0\n",
    "    r_n = np.array([re[0], re[1], ve[0], ve[1], rs[0], rs[1], vs[0], vs[1]])\n",
    "    dr_n = ODEPlaneten_rk(t0, r_n, massen, g)\n",
    "    while t <= tend:\n",
    "        vp.rate(5000)\n",
    "        r_n = rk4(r_n, t, massen, g, h, ODEPlaneten_rk)\n",
    "        erde.pos = vec(r_n[0], r_n[1], 0) \n",
    "        sun.pos = vec(r_n[4], r_n[5], 0)\n",
    "        sunlight.pos = vec(r_n[4], r_n[5], 0)\n",
    "        t += h"
   ]
  },
  {
   "cell_type": "code",
   "execution_count": null,
   "metadata": {},
   "outputs": [],
   "source": [
    "m_e = 5.972e24\n",
    "a_ort_e = np.array([149.6e11, 0.])\n",
    "a_gesch_e = np.array([0.0, 29.78e3])\n",
    "\n",
    "m_s = 1.989e30\n",
    "a_ort_s = np.array([0, 0.])\n",
    "a_gesch_s = np.array([0., 0.])\n",
    "G_val = 6.674E-11"
   ]
  },
  {
   "cell_type": "code",
   "execution_count": null,
   "metadata": {},
   "outputs": [],
   "source": [
    "Bahnkurve_Animation([a_ort_e, a_ort_s], [a_gesch_e, a_gesch_s], [m_e, m_s], G_val, 0, 2e9, 1e5)"
   ]
  },
  {
   "cell_type": "code",
   "execution_count": null,
   "metadata": {},
   "outputs": [],
   "source": [
    "G_val = 6.674E-11\n",
    "\n",
    "m_e = 5.972e24\n",
    "a_ort_e = np.array([149.6e11, 0.])\n",
    "a_gesch_e = np.array([0.0, 2.978e3])\n",
    "\n",
    "m_s = 1.989e30\n",
    "a_ort_s = np.array([0, 0.])\n",
    "a_gesch_s = np.array([0., 0.])"
   ]
  },
  {
   "cell_type": "code",
   "execution_count": null,
   "metadata": {},
   "outputs": [],
   "source": [
    "Bahnkurve_Animation([a_ort_e, a_ort_s], [a_gesch_e, a_gesch_s], [m_e, m_s], G_val, 0, 3.145e10, 1e6)"
   ]
  },
  {
   "cell_type": "markdown",
   "metadata": {},
   "source": [
    "### 3.\n",
    "Überprüfen Sie die Impuls-, Drehimpuls- und Energieerhaltung analytisch. Verwenden Sie dazu Polarkoordinaten und leinten Sie die Bewegungsgleichung in Polarkoordinaten her:\n",
    "$$ m(\\ddot{r} - r*\\dot{\\theta}^2) = -G\\frac{mM}{r^2}$$\n",
    "$$ m(r\\ddot{\\theta}+2\\dot{r}\\dot{\\theta}) = 0 $$"
   ]
  },
  {
   "cell_type": "code",
   "execution_count": null,
   "metadata": {},
   "outputs": [],
   "source": []
  },
  {
   "cell_type": "markdown",
   "metadata": {},
   "source": [
    "### 4.\n",
    "Varieeren Sie die Anfangsgeschwindigkeit der Erde und beschreiben Sie die verschiedenen Bahnformen, die sich ergeben."
   ]
  },
  {
   "cell_type": "code",
   "execution_count": null,
   "metadata": {},
   "outputs": [],
   "source": []
  },
  {
   "cell_type": "markdown",
   "metadata": {},
   "source": [
    "### 5.\n",
    "Beschrieben Sie mit Hilfe des Programms die Bewegung zweier Fast gleich großer Massen (Zweikörperproblem). Denken Sie an die Impulserhaltung!"
   ]
  },
  {
   "cell_type": "code",
   "execution_count": null,
   "metadata": {},
   "outputs": [],
   "source": []
  },
  {
   "cell_type": "markdown",
   "metadata": {},
   "source": [
    "### 6.\n",
    "Drei Sterne seinen anfangs in Ruhe mit folgenden Massen und Positionen (arbitrary units):\n",
    "\n",
    "|       | Masse |  x |  y |\n",
    "|:-------:|:-------:|:----:|:----:|\n",
    "|**Stern 1**|  150  |  3 |  1 |\n",
    "|**Stern 2**|  200  | -1 | -2 |\n",
    "|**Stern 3**|  250  | -1 |  1 |\n",
    "\n",
    "(Die drei Sterne seien in der $xy$-Ebene.)"
   ]
  },
  {
   "cell_type": "markdown",
   "metadata": {},
   "source": [
    "#### (a)\n",
    "Zeigen Sie, dass die Bewegungsgleichung für Position $\\vec{r}_1$ des ersten Sterns gegeben ist durch:\n",
    "$$\\ddot{\\vec{r}}_1 = Gm_2\\frac{\\vec{r}_2-\\vec{r}_1}{|\\vec{r}_2-\\vec{r}_1|^3} + Gm_3\\frac{\\vec{r}_3-\\vec{r}_1}{|\\vec{r}_3-\\vec{r}_1|^3} $$\n",
    "und stellen Sie die Gleichung für $\\vec{r}_2$ und $\\vec{r}_3$ der beiden anderen Sterne auf."
   ]
  },
  {
   "cell_type": "markdown",
   "metadata": {},
   "source": [
    "$$ \\vec{F}_{ij} = -G\\frac{m_im_j}{r^2}\\vec{e}_r $$\n",
    "$$ r = |\\vec{r}_j - \\vec{r}_i| $$\n",
    "$$ \\vec{e}_r = \\frac{\\vec{r}_j - \\vec{r}_i}{|\\vec{r}_j - \\vec{r}_i|}$$\n",
    "\n",
    "$$ \\vec{F}_{ij} = -G\\frac{m_im_j}{|\\vec{r}_j - \\vec{r}_i|^2}\\frac{\\vec{r}_j - \\vec{r}_i}{|\\vec{r}_j - \\vec{r}_i|} = -Gm_im_j\\frac{\\vec{r}_j - \\vec{r}_i}{|\\vec{r}_j - \\vec{r}_i|^3}$$\n",
    "\n",
    "$$ m_i\\ddot{\\vec{r}}_i = \\sum_{j\\neq i} F_{ij} = \\sum_{j\\neq i} -Gm_im_j\\frac{\\vec{r}_j - \\vec{r}_i}{|\\vec{r}_j - \\vec{r}_i|^3}$$\n",
    "\n",
    "$$ \\ddot{\\vec{r}}_i = \\sum_{j\\neq i} -Gm_j\\frac{\\vec{r}_j - \\vec{r}_i}{|\\vec{r}_j - \\vec{r}_i|^3}$$\n",
    "\n",
    "$$ \\ddot{\\vec{r}}_1 = -Gm_2\\frac{\\vec{r}_2 - \\vec{r}_1}{|\\vec{r}_2 - \\vec{r}_1|^3} -Gm_3\\frac{\\vec{r}_3 - \\vec{r}_1}{|\\vec{r}_3 - \\vec{r}_1|^3}$$\n",
    "$$ \\ddot{\\vec{r}}_2 = -Gm_1\\frac{\\vec{r}_1 - \\vec{r}_2}{|\\vec{r}_1 - \\vec{r}_2|^3} -Gm_3\\frac{\\vec{r}_3 - \\vec{r}_2}{|\\vec{r}_3 - \\vec{r}_2|^3}$$\n",
    "$$ \\ddot{\\vec{r}}_3 = -Gm_1\\frac{\\vec{r}_1 - \\vec{r}_3}{|\\vec{r}_1 - \\vec{r}_3|^3} -Gm_2\\frac{\\vec{r}_2 - \\vec{r}_3}{|\\vec{r}_2 - \\vec{r}_3|^3}$$"
   ]
  },
  {
   "cell_type": "markdown",
   "metadata": {},
   "source": [
    "#### (b)\n",
    "Setzten Sie $G=1$ und schreiben sie ein Programm, das die Bewegungsgleichungen löst. Plotten Sie $y$ als Funktion von $x$ und animieren Sie die Bewegung. Die Sterne bewegen sich sehr schnell, wenn sie sich nähern und sind sehr langsam, wenn sie weit voneinander entfernt sind. Eine adaptive Methode könnte deshab nützlich sein."
   ]
  },
  {
   "cell_type": "code",
   "execution_count": 2,
   "metadata": {},
   "outputs": [],
   "source": [
    "G = 1\n",
    "Sterne = {'Stern1': {'m' : 150, 'pos': [3, 1]}, 'Stern2': {'m' : 200, 'pos': [-1, -2]},'Stern3': {'m' : 250, 'pos': [-1, 1]}}"
   ]
  },
  {
   "cell_type": "code",
   "execution_count": 3,
   "metadata": {},
   "outputs": [],
   "source": [
    "def ODEsterne(y, t):\n",
    "    '''\n",
    "    berechnet die rechte Seite der Differentialgleichung \n",
    "    Zunächst kommen alle Variablen (x,y,vx,vy) für den ersten Planeten, dann alle 4 für den zweiten,... \n",
    "    :param t: aktueller zeitpunkt\n",
    "    :param y: aktueller y-Wert (n Komponenten)\n",
    "    :return: rechte Seite f der Dgl. y'=f(t,y)\n",
    "    '''\n",
    "\n",
    "    # Daten der Planeten\n",
    "    G = 1  # Gravitationskonstante\n",
    "    #masse_Sterne = [150, 200, 250]\n",
    "    #print('Massen', Massen)\n",
    "    y = np.array(y)\n",
    "    y = y.reshape(-1, 4)\n",
    "    #print(y)\n",
    "    rs = []\n",
    "    dy = []\n",
    "    #print(planets)\n",
    "    for i in range(0, len(y)):\n",
    "        F_i = 0\n",
    "        rs.append(np.array([y[i][0], y[i][1]]))\n",
    "        r_i = np.array([y[i][0], y[i][1]])\n",
    "        for j in range(0, len(y)):\n",
    "            if i != j:\n",
    "                r_j = np.array([y[j][0], y[j][1]])\n",
    "                m_j = Massen[j]\n",
    "                dist = r_i-r_j\n",
    "                F_i += m_j *((dist)/(LA.norm(dist))**3)\n",
    "        ddr_i = -G*F_i\n",
    "        dy.append(y[i][2])\n",
    "        dy.append(y[i][3])\n",
    "        dy.append(ddr_i[0])\n",
    "        dy.append(ddr_i[1])\n",
    "    return dy"
   ]
  },
  {
   "cell_type": "code",
   "execution_count": 4,
   "metadata": {},
   "outputs": [],
   "source": [
    "def Sterne_Coordinates(Sterne, t0, tend, N):\n",
    "    Stern_n = []\n",
    "    tvals, h = np.linspace(t0, tend, N, retstep=True)\n",
    "    #print(h)\n",
    "    coordinates = {}\n",
    "    y_sterne = []\n",
    "    for stern in Sterne:\n",
    "        Stern_n.append(stern)\n",
    "        x_s = Sterne[stern]['pos'][0]\n",
    "        y_s = Sterne[stern]['pos'][1]\n",
    "        vx_s = Sterne[stern]['gesch'][0]\n",
    "        vy_s = Sterne[stern]['gesch'][1]\n",
    "        y_sterne.append(x_s)\n",
    "        y_sterne.append(y_s)\n",
    "        y_sterne.append(vx_s)\n",
    "        y_sterne.append(vy_s)\n",
    "        coordinates[stern] = {'x':[], 'y':[]}\n",
    "    y_list = [y_sterne]\n",
    "    y_list = integrate.odeint(ODEsterne, y_sterne, tvals)\n",
    "    y_list[0] = np.array(y_list[0])\n",
    "    for y_step in y_list:\n",
    "        y_shaped = y_step.reshape(-1, 4)\n",
    "        for i in range(0, len(y_shaped)):\n",
    "            list_c = coordinates[Stern_n[i]]['x']\n",
    "            list_c.append(y_shaped[i][0])\n",
    "            list_c = coordinates[Stern_n[i]]['y']\n",
    "            list_c.append(y_shaped[i][1])\n",
    "    \n",
    "    return coordinates"
   ]
  },
  {
   "cell_type": "code",
   "execution_count": 5,
   "metadata": {},
   "outputs": [],
   "source": [
    "def Sterne_Plot(Sterne, t0, tend, N):\n",
    "    coordinates = Sterne_Coordinates(Sterne, t0, tend, N)\n",
    "    for st in coordinates:\n",
    "        r = np.random.rand()\n",
    "        g = np.random.rand()\n",
    "        b = np.random.rand()\n",
    "        xs = coordinates[st]['x']\n",
    "        ys = coordinates[st]['y']\n",
    "        #plt.plot(xs[0], ys[0], 'o', color=[r, g, b])\n",
    "        plt.plot(xs, ys, color=[r, g, b], label=st)\n",
    "        plt.plot(xs[-1], ys[-1], 'o', color=[r, g, b])\n",
    "        plt.plot(xs[0], ys[0], 'x', color=[r, g, b])\n",
    "\n",
    "    plt.legend()\n",
    "    plt.show()"
   ]
  },
  {
   "cell_type": "code",
   "execution_count": null,
   "metadata": {},
   "outputs": [],
   "source": [
    "s1 = {'m': 150, 'pos': [ 3,  1], 'gesch': [0, 0]}\n",
    "s2 = {'m': 200, 'pos': [-1, -2], 'gesch': [0, 0]}\n",
    "s3 = {'m': 250, 'pos': [-1,  1], 'gesch': [0, 0]}\n",
    "Sterne = {'Stern1': s1, 'Stern2': s2, 'Stern3': s3}\n",
    "Massen = [150, 200, 250]"
   ]
  },
  {
   "cell_type": "code",
   "execution_count": null,
   "metadata": {
    "scrolled": true
   },
   "outputs": [],
   "source": [
    "Sterne_Plot(Sterne, 0, 5, 10000)"
   ]
  },
  {
   "cell_type": "code",
   "execution_count": null,
   "metadata": {},
   "outputs": [],
   "source": [
    "s1 = {'m': 10, 'pos': [ 0,  2], 'gesch': [-0.4, -0.4]}\n",
    "s2 = {'m': 200, 'pos': [ 1,  1], 'gesch': [-3, -3]}\n",
    "s3 = {'m': 200, 'pos': [-1,  1], 'gesch': [3, 3]}\n",
    "Sterne = {'Stern1': s1, 'Stern2': s2, 'Stern3': s3}\n",
    "Massen = [1, 200, 200]\n"
   ]
  },
  {
   "cell_type": "code",
   "execution_count": null,
   "metadata": {},
   "outputs": [],
   "source": [
    "Sterne_Plot(Sterne, 0, 2.4, 100000)"
   ]
  },
  {
   "cell_type": "code",
   "execution_count": null,
   "metadata": {},
   "outputs": [],
   "source": [
    "s1 = {'m': 0.1, 'pos': [ 0,  2], 'gesch': [0, 0]}\n",
    "s2 = {'m': 200, 'pos': [ 1,  1], 'gesch': [0, -90]}\n",
    "s3 = {'m': 20000, 'pos': [0,  1], 'gesch': [0, 0]}\n",
    "Sterne = {'Stern1': s1, 'Stern2': s2, 'Stern3': s3}\n",
    "Massen = [10, 200, 20000]"
   ]
  },
  {
   "cell_type": "code",
   "execution_count": null,
   "metadata": {},
   "outputs": [],
   "source": [
    "Sterne_Plot(Sterne, 0, 0.1, 100000)"
   ]
  },
  {
   "cell_type": "code",
   "execution_count": null,
   "metadata": {},
   "outputs": [],
   "source": [
    "s1 = {'m': 150, 'pos': [ 3,  1], 'gesch': [2, 0]}\n",
    "s2 = {'m': 200, 'pos': [-1, -2], 'gesch': [0, 2]}\n",
    "s3 = {'m': 250, 'pos': [-1,  1], 'gesch': [-1, 0]}\n",
    "Sterne = {'Stern1': s1, 'Stern2': s2, 'Stern3': s3}\n",
    "Massen = [150, 200, 250]"
   ]
  },
  {
   "cell_type": "code",
   "execution_count": null,
   "metadata": {},
   "outputs": [],
   "source": [
    "Sterne_Plot(Sterne, 0, 3.5, 100000)"
   ]
  },
  {
   "cell_type": "code",
   "execution_count": 6,
   "metadata": {},
   "outputs": [],
   "source": [
    "def Sterne_Animation(Sterne, t0, tend, N, Rate):\n",
    "    \n",
    "    scene = vp.canvas(title='Animation Sterne', background=vp.color.black, forward=vec(0, 2, -1))\n",
    "    stern1 = vp.sphere(pos=vec(Sterne['Stern1']['pos'][0], Sterne['Stern1']['pos'][1], 0), radius=0.1, color=vp.color.blue, make_trail=True)\n",
    "    stern2 = vp.sphere(pos=vec(Sterne['Stern2']['pos'][0], Sterne['Stern2']['pos'][1], 0), radius=0.1, color=vp.color.green, make_trail=True)\n",
    "    stern3 = vp.sphere(pos=vec(Sterne['Stern3']['pos'][0], Sterne['Stern3']['pos'][1], 0), radius=0.1, color=vp.color.yellow, make_trail=True)\n",
    "    coordinates = Sterne_Coordinates(Sterne, t0, tend, N)\n",
    "    h = abs(tend-t0)/N\n",
    "    t = t0\n",
    "    i = 0\n",
    "    #y_n = ODEsterne_rk(t0, y_sterne)\n",
    "    #while True:\n",
    "    while i < len(coordinates['Stern1']['x']):\n",
    "    #while True:\n",
    "        #print(y_n)\n",
    "        s1 = coordinates['Stern1']\n",
    "        s2 = coordinates['Stern2']\n",
    "        s3 = coordinates['Stern3']\n",
    "        vp.rate(Rate)\n",
    "        stern1.pos = vec(s1['x'][i], s1['y'][i],0)\n",
    "        #vp.rate(500)\n",
    "        stern2.pos = vec(s2['x'][i], s2['y'][i],0)\n",
    "        #vp.rate(500)\n",
    "        stern3.pos = vec(s3['x'][i], s3['y'][i],0)\n",
    "    #    t += h\n",
    "        i += 1\n",
    "#Sterne_Animation(Sterne, 0, 10, 0.05)"
   ]
  },
  {
   "cell_type": "code",
   "execution_count": 7,
   "metadata": {},
   "outputs": [],
   "source": [
    "s1 = {'m': 150, 'pos': [ 3,  1], 'gesch': [0, 0]}\n",
    "s2 = {'m': 200, 'pos': [-1, -2], 'gesch': [0, 0]}\n",
    "s3 = {'m': 250, 'pos': [-1,  1], 'gesch': [0, 0]}\n",
    "Sterne = {'Stern1': s1, 'Stern2': s2, 'Stern3': s3}\n",
    "Massen = [150, 200, 250]"
   ]
  },
  {
   "cell_type": "code",
   "execution_count": 8,
   "metadata": {
    "scrolled": false
   },
   "outputs": [
    {
     "data": {
      "text/html": [
       "<div id=\"glowscript\" class=\"glowscript\"></div>"
      ],
      "text/plain": [
       "<IPython.core.display.HTML object>"
      ]
     },
     "metadata": {},
     "output_type": "display_data"
    },
    {
     "data": {
      "application/javascript": [
       "window.__context = { glowscript_container: $(\"#glowscript\").removeAttr(\"id\")}"
      ],
      "text/plain": [
       "<IPython.core.display.Javascript object>"
      ]
     },
     "metadata": {},
     "output_type": "display_data"
    }
   ],
   "source": [
    "Sterne_Animation(Sterne, 0, 3, 100000, 1000)"
   ]
  },
  {
   "cell_type": "code",
   "execution_count": 9,
   "metadata": {},
   "outputs": [],
   "source": [
    "s1 = {'m': 10, 'pos': [ 0,  2], 'gesch': [-0.4, -0.4]}\n",
    "s2 = {'m': 200, 'pos': [ 1,  1], 'gesch': [-3, -3]}\n",
    "s3 = {'m': 200, 'pos': [-1,  1], 'gesch': [3, 3]}\n",
    "Sterne = {'Stern1': s1, 'Stern2': s2, 'Stern3': s3}\n",
    "Massen = [1, 200, 200]"
   ]
  },
  {
   "cell_type": "code",
   "execution_count": 11,
   "metadata": {},
   "outputs": [
    {
     "data": {
      "text/html": [
       "<div id=\"glowscript\" class=\"glowscript\"></div>"
      ],
      "text/plain": [
       "<IPython.core.display.HTML object>"
      ]
     },
     "metadata": {},
     "output_type": "display_data"
    },
    {
     "data": {
      "application/javascript": [
       "window.__context = { glowscript_container: $(\"#glowscript\").removeAttr(\"id\")}"
      ],
      "text/plain": [
       "<IPython.core.display.Javascript object>"
      ]
     },
     "metadata": {},
     "output_type": "display_data"
    },
    {
     "name": "stdout",
     "output_type": "stream",
     "text": [
      "ERROR! Session/line number was not unique in database. History logging moved to new session 311\n"
     ]
    }
   ],
   "source": [
    "Sterne_Animation(Sterne, 0, 4, 100000, 500)"
   ]
  },
  {
   "cell_type": "code",
   "execution_count": 35,
   "metadata": {},
   "outputs": [
    {
     "name": "stdout",
     "output_type": "stream",
     "text": [
      "ERROR! Session/line number was not unique in database. History logging moved to new session 325\n"
     ]
    }
   ],
   "source": [
    "s1 = {'m': 2, 'pos': [ 0,  1], 'gesch': [0, 9]}\n",
    "s2 = {'m': 2, 'pos': [ 1,  1], 'gesch': [0, 7]}\n",
    "s3 = {'m': 200, 'pos': [-1,  1], 'gesch': [0, 0]}\n",
    "Sterne = {'Stern1': s1, 'Stern2': s2, 'Stern3': s3}\n",
    "Massen = [2, 2, 200]"
   ]
  },
  {
   "cell_type": "code",
   "execution_count": 36,
   "metadata": {},
   "outputs": [
    {
     "data": {
      "text/html": [
       "<div id=\"glowscript\" class=\"glowscript\"></div>"
      ],
      "text/plain": [
       "<IPython.core.display.HTML object>"
      ]
     },
     "metadata": {},
     "output_type": "display_data"
    },
    {
     "data": {
      "application/javascript": [
       "window.__context = { glowscript_container: $(\"#glowscript\").removeAttr(\"id\")}"
      ],
      "text/plain": [
       "<IPython.core.display.Javascript object>"
      ]
     },
     "metadata": {},
     "output_type": "display_data"
    }
   ],
   "source": [
    "Sterne_Animation(Sterne, 0, 1, 100000, 900)"
   ]
  },
  {
   "cell_type": "code",
   "execution_count": null,
   "metadata": {},
   "outputs": [],
   "source": []
  }
 ],
 "metadata": {
  "kernelspec": {
   "display_name": "VPython",
   "language": "python",
   "name": "vpython"
  },
  "language_info": {
   "codemirror_mode": {
    "name": "ipython",
    "version": 3
   },
   "file_extension": ".py",
   "mimetype": "text/x-python",
   "name": "python",
   "nbconvert_exporter": "python",
   "pygments_lexer": "ipython3",
   "version": "3.6.4"
  }
 },
 "nbformat": 4,
 "nbformat_minor": 2
}
