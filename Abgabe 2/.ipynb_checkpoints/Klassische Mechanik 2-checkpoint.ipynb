{
 "cells": [
  {
   "cell_type": "code",
   "execution_count": 132,
   "metadata": {},
   "outputs": [
    {
     "data": {
      "application/javascript": [
       "require.undef(\"nbextensions/vpython_libraries/glow.min\");"
      ],
      "text/plain": [
       "<IPython.core.display.Javascript object>"
      ]
     },
     "metadata": {},
     "output_type": "display_data"
    },
    {
     "data": {
      "application/javascript": [
       "require.undef(\"nbextensions/vpython_libraries/glowcomm\");"
      ],
      "text/plain": [
       "<IPython.core.display.Javascript object>"
      ]
     },
     "metadata": {},
     "output_type": "display_data"
    },
    {
     "data": {
      "application/javascript": [
       "require.undef(\"nbextensions/vpython_libraries/jquery-ui.custom.min\");"
      ],
      "text/plain": [
       "<IPython.core.display.Javascript object>"
      ]
     },
     "metadata": {},
     "output_type": "display_data"
    },
    {
     "data": {
      "application/javascript": [
       "require([\"nbextensions/vpython_libraries/glow.min\"], function(){console.log(\"GLOW LOADED\");})"
      ],
      "text/plain": [
       "<IPython.core.display.Javascript object>"
      ]
     },
     "metadata": {},
     "output_type": "display_data"
    },
    {
     "data": {
      "application/javascript": [
       "require([\"nbextensions/vpython_libraries/glowcomm\"], function(){console.log(\"GLOWCOMM LOADED\");})"
      ],
      "text/plain": [
       "<IPython.core.display.Javascript object>"
      ]
     },
     "metadata": {},
     "output_type": "display_data"
    },
    {
     "data": {
      "application/javascript": [
       "require([\"nbextensions/vpython_libraries/jquery-ui.custom.min\"], function(){console.log(\"JQUERY LOADED\");})"
      ],
      "text/plain": [
       "<IPython.core.display.Javascript object>"
      ]
     },
     "metadata": {},
     "output_type": "display_data"
    },
    {
     "data": {
      "text/html": [
       "<div id=\"glowscript\" class=\"glowscript\"></div>"
      ],
      "text/plain": [
       "<IPython.core.display.HTML object>"
      ]
     },
     "metadata": {},
     "output_type": "display_data"
    },
    {
     "data": {
      "application/javascript": [
       "window.__context = { glowscript_container: $(\"#glowscript\").removeAttr(\"id\")}"
      ],
      "text/plain": [
       "<IPython.core.display.Javascript object>"
      ]
     },
     "metadata": {},
     "output_type": "display_data"
    }
   ],
   "source": [
    "import sympy as sy\n",
    "sy.init_printing(use_latex=True)\n",
    "import numpy as np\n",
    "import pandas as pd\n",
    "import scipy as sc\n",
    "import scipy.linalg as LA\n",
    "import matplotlib.pyplot as plt\n",
    "import math\n",
    "import vpython as vp\n",
    "vec = vp.vector"
   ]
  },
  {
   "cell_type": "markdown",
   "metadata": {},
   "source": [
    "# 2. Abgabe aus dem Fach Modellbildung und Simulation - Klassische Mechanik 2"
   ]
  },
  {
   "cell_type": "markdown",
   "metadata": {},
   "source": [
    "## Kelperproblem"
   ]
  },
  {
   "cell_type": "markdown",
   "metadata": {},
   "source": [
    "Zwei Massen $M$ und $m$, die den Abstand $r$ zueinander besitzen, ziehen sich gegenseitig mit der Kraft\n",
    "$$ \\vec{F}_G = -G\\frac{Mm}{r^2}\\vec{e}_r $$\n",
    "an. $G$ ist die universelle Gravitationskonstante."
   ]
  },
  {
   "cell_type": "code",
   "execution_count": 133,
   "metadata": {},
   "outputs": [],
   "source": [
    "x = sy.symbols('x')"
   ]
  },
  {
   "cell_type": "markdown",
   "metadata": {},
   "source": [
    "### 1.\n",
    "Im File Sat.txt sind die Umlaufzeiten $T$ und mittleren Radien $r$ der Umlaufbahnen von vier Satelliten angegeben (die einen Asteroiden umkreisen). Zeigen Sie, dass sich die Datein mit der Form $T=Cr^n$ beschreiben lassen. Bestimmen Sie $n$ und $C$, indem sie Sie die Daten logarithmisch auftragen. Schätzen Sie den fehlenden Radius ab."
   ]
  },
  {
   "cell_type": "markdown",
   "metadata": {},
   "source": [
    "Die Beschleunigung im Abstand ist gegeben durch $a= \\omega^2r = (\\frac{2\\pi}{T})^2r$"
   ]
  },
  {
   "cell_type": "code",
   "execution_count": 7,
   "metadata": {},
   "outputs": [
    {
     "name": "stdout",
     "output_type": "stream",
     "text": [
      "['T in a ', 'r in Gm ']\n",
      "[['T in a ', 'r in Gm '], ['0.44', '0.088'], ['1.61', '0.208'], ['3.88', '0.374'], ['6.20', '?'], ['7.89', '0.600']]\n",
      "{'T in a ': [0.44, 1.61, 3.88, 6.2, 7.89], 'r in Gm ': [0.088, 0.208, 0.374, x, 0.6]}\n"
     ]
    }
   ],
   "source": [
    "with open(\"Sat.txt\", \"r\") as f:\n",
    "    sat = [line.split() for line in f]\n",
    "header_ = sat[0]\n",
    "header = []\n",
    "h_str1 = ''\n",
    "h_str2 = ''\n",
    "for i in range(0, 3):\n",
    "    h_str1 += header_[i] + ' '\n",
    "    h_str2 += header_[i+3] + ' '\n",
    "header = [h_str1, h_str2]\n",
    "sat[0] = header\n",
    "print(header)\n",
    "print(sat)\n",
    "sat_data = {}\n",
    "for s in range(1, len(sat)):\n",
    "    for n in range(0, len(sat[s])):\n",
    "        if sat[s][n] == '?':\n",
    "            sat[s][n] = x\n",
    "        else:\n",
    "            sat[s][n] = float(sat[s][n])\n",
    "sat_data = {sat[0][i]: [ line[i] for line in sat[1:] ]  for i in range(len(sat[0]))}\n",
    "print(sat_data)"
   ]
  },
  {
   "cell_type": "markdown",
   "metadata": {},
   "source": [
    "### 2.\n",
    "Schreiben Sie ein Programm, das die Differentialgleichung\n",
    "$$ m\\ddot{\\vec{r}} = -G\\frac{Mm}{r^3}\\vec{r} $$\n",
    "löst und visualisieren Sie die Bahnkurve der Erde um die Sonne. Verwenden sie als Anfangsgeschwindigkeit $(0.0, 29.8)*10^3m/s$ und den Anfangsort der Erde $(1.4960, 0.0)*10^{11}m$ (Die Sonne ruhe anfänglich im Urspung). Überprüfen Sie die Impuls-, Drehimpuls- und Energieerhaltung numerisch."
   ]
  },
  {
   "cell_type": "code",
   "execution_count": 134,
   "metadata": {},
   "outputs": [],
   "source": [
    "M, m, r, G, vr, t = sy.symbols('M, m, r, G, \\\\vec{r}, t')\n",
    "ddr = sy.symbols('\\ddot{\\\\vec{r}}', function=True)"
   ]
  },
  {
   "cell_type": "code",
   "execution_count": 135,
   "metadata": {
    "scrolled": true
   },
   "outputs": [
    {
     "data": {
      "image/png": "[encoded data removed]",
      "text/latex": [
       "$$m \\ddot{\\vec{r}}{\\left (t \\right )} = - \\frac{G M}{r^{3}} \\vec{r} m$$"
      ],
      "text/plain": [
       "                      -G⋅M⋅\\vec{r}⋅m \n",
       "m⋅\\ddot{\\vec{r}}(t) = ───────────────\n",
       "                              3      \n",
       "                             r       "
      ]
     },
     "metadata": {},
     "output_type": "display_data"
    },
    {
     "data": {
      "image/png": "[encoded data removed]",
      "text/latex": [
       "$$\\left [ - \\frac{G M}{r^{3}} \\vec{r}\\right ]$$"
      ],
      "text/plain": [
       "⎡-G⋅M⋅\\vec{r} ⎤\n",
       "⎢─────────────⎥\n",
       "⎢       3     ⎥\n",
       "⎣      r      ⎦"
      ]
     },
     "metadata": {},
     "output_type": "display_data"
    },
    {
     "data": {
      "image/png": "[encoded data removed]",
      "text/latex": [
       "$$\\ddot{\\vec{r}}{\\left (t \\right )} = - \\frac{G M}{r^{3}} \\vec{r}$$"
      ],
      "text/plain": [
       "                    -G⋅M⋅\\vec{r} \n",
       "\\ddot{\\vec{r}}(t) = ─────────────\n",
       "                           3     \n",
       "                          r      "
      ]
     },
     "metadata": {},
     "output_type": "display_data"
    }
   ],
   "source": [
    "gl = sy.Eq(m*ddr(t), -G*((M*m)/r**3)*vr)\n",
    "display(gl)\n",
    "gl = sy.solve(gl, ddr(t))\n",
    "display(gl)\n",
    "gl2 = sy.Eq(ddr(t), gl[0])\n",
    "display(gl2)"
   ]
  },
  {
   "cell_type": "code",
   "execution_count": 136,
   "metadata": {},
   "outputs": [],
   "source": [
    "r1 = sy.symbols('\\\\vec{r}_1')\n",
    "rx1 = sy.symbols('r_{x_1}')\n",
    "ry1 = sy.symbols('r_{y_1}')\n",
    "m_erde = 5.974e24\n",
    "m_sonne = 1.9891e30\n",
    "a_ort_e = np.array([1.4960e11, 0.])\n",
    "a_ort_sonne = np.array([0., 0.])\n",
    "a_gesch_e = np.array([0., 29.8e3])"
   ]
  },
  {
   "cell_type": "code",
   "execution_count": 137,
   "metadata": {},
   "outputs": [],
   "source": [
    "def euler(y_n, h, f):\n",
    "    return np.array(y_n+h*f)"
   ]
  },
  {
   "cell_type": "code",
   "execution_count": 141,
   "metadata": {},
   "outputs": [],
   "source": [
    "#Grafik\n",
    "def Bahnkurve_Plot(anfangsort, anfangsgesch, t0, tend, N=1000):\n",
    "    vr_val = anfangsort-a_ort_sonne\n",
    "    print('abstand', vr_val)\n",
    "    r_val = LA.norm(vr_val)\n",
    "    print('abstand norm ', r_val)\n",
    "    M_val = m_sonne\n",
    "    G_val = 6.67408E-11\n",
    "    ddr_t = (-(G_val*M_val*np.array([rx1, ry1]))/(sy.sqrt(rx1**2+ry1**2)**3))\n",
    "    ddr_n = (-(G_val*M_val*vr_val)/(r_val**3))\n",
    "    display(ddr_t)\n",
    "    dr_n = anfangsgesch\n",
    "    r_n = anfangsort\n",
    "    xs = [r_n[0]]\n",
    "    ys = [r_n[1]]\n",
    "    tvals, h = np.linspace(t0, tend, N, retstep=True)\n",
    "    plt.plot(anfangsort[0], anfangsort[1], 'ob', label='Anfangsort Erde', ms=4)\n",
    "    plt.plot(a_ort_sonne[0], a_ort_sonne[1], 'oy', label='Anfangsort Sonne', ms=10)\n",
    "    for ts in tvals:\n",
    "        ddr_np1 = np.array([0., 0.])\n",
    "        #print('ddr_t', ddr_t[1].subs(rx1, r_n[0]).subs(ry1, r_n[1]))\n",
    "        #print('dr_n', dr_n)\n",
    "        #print('r_n', r_n)\n",
    "        ddr_np1[0] = ddr_t[0].subs(rx1, r_n[0]).subs(ry1, r_n[1])\n",
    "        ddr_np1[1] = ddr_t[1].subs(rx1, r_n[0]).subs(ry1, r_n[1])\n",
    "        #display(ddr_np1)\n",
    "        dr_np1 = euler(dr_n, h, ddr_np1)\n",
    "        r_np1 = euler(r_n, h, dr_np1)\n",
    "        #print('r_np1', r_np1)\n",
    "        \n",
    "        xs.append(r_np1[0])\n",
    "        ys.append(r_np1[1])\n",
    "        \n",
    "        ddr_n = ddr_np1\n",
    "        dr_n = dr_np1\n",
    "        r_n = r_np1\n",
    "    #print(xs)\n",
    "    #print(ys)\n",
    "    plt.plot(xs, ys, 'b', label='Bahnkurve Erde')\n",
    "    plt.plot(xs[-1], ys[-1], 'ob', label='Endort Erde', mec='#000000')\n",
    "    plt.legend()\n",
    "    plt.axis([-1.7e11, 2.5e11, -1.7e11, 2.5e11])\n",
    "    plt.show()"
   ]
  },
  {
   "cell_type": "code",
   "execution_count": 187,
   "metadata": {},
   "outputs": [
    {
     "name": "stdout",
     "output_type": "stream",
     "text": [
      "abstand [1.496e+11 0.000e+00]\n",
      "abstand norm  149600000000.0\n"
     ]
    },
    {
     "data": {
      "text/plain": [
       "array([-1.3275412528e+20*r_{x_1}/(r_{x_1}**2 + r_{y_1}**2)**(3/2),\n",
       "       -1.3275412528e+20*r_{y_1}/(r_{x_1}**2 + r_{y_1}**2)**(3/2)],\n",
       "      dtype=object)"
      ]
     },
     "metadata": {},
     "output_type": "display_data"
    },
    {
     "data": {
      "image/png": "[encoded data removed]",
      "text/plain": [
       "<Figure size 432x288 with 1 Axes>"
      ]
     },
     "metadata": {},
     "output_type": "display_data"
    }
   ],
   "source": [
    "Bahnkurve_Plot(a_ort_e, a_gesch_e, 0, 4e7, N=1000)"
   ]
  },
  {
   "cell_type": "code",
   "execution_count": 178,
   "metadata": {},
   "outputs": [],
   "source": [
    "def Bahnkurve_Animation(Anfangsort, Anfangsgesch):\n",
    "    r = np.array(Anfangsort)\n",
    "    v = np.array(Anfangsgesch)\n",
    "    \n",
    "    scene = vp.canvas(title='Bahnkurve Erde', background=vp.color.black, forward=vec(0, 2, -1))\n",
    "    erde = vp.sphere(pos=vec(r[0], r[1], 0), radius=1e10,color=vp.color.blue)\n",
    "    sun = vp.sphere(pos=(vec(0, 0, 0)), radius=2e10, color=vp.color.yellow)\n",
    "    sunlight = vp.local_light(pos=vec(0, 0, 0), color=vp.color.yellow)\n",
    "    i = 0\n",
    "    while i <= 100:\n",
    "        vp.rate(200)\n",
    "        i += 1"
   ]
  },
  {
   "cell_type": "code",
   "execution_count": 179,
   "metadata": {},
   "outputs": [
    {
     "data": {
      "text/html": [
       "<div id=\"glowscript\" class=\"glowscript\"></div>"
      ],
      "text/plain": [
       "<IPython.core.display.HTML object>"
      ]
     },
     "metadata": {},
     "output_type": "display_data"
    },
    {
     "data": {
      "application/javascript": [
       "window.__context = { glowscript_container: $(\"#glowscript\").removeAttr(\"id\")}"
      ],
      "text/plain": [
       "<IPython.core.display.Javascript object>"
      ]
     },
     "metadata": {},
     "output_type": "display_data"
    }
   ],
   "source": [
    "Bahnkurve_Animation(a_ort_e, a_gesch_e)"
   ]
  },
  {
   "cell_type": "markdown",
   "metadata": {},
   "source": [
    "### 3.\n",
    "Überprüfen Sie die Impuls-, Drehimpuls- und Energieerhaltung analytisch. Verwenden Sie dazu Polarkoordinaten und leinten Sie die Bewegungsgleichung in Polarkoordinaten her:\n",
    "$$ m(\\ddot{r} - r*\\dot{\\theta}^2 = -G\\frac{mM}{r^2}$$\n",
    "$$ m(r\\ddot{\\theta}+2\\dot{r}\\dot{\\theta}) = 0 $$"
   ]
  },
  {
   "cell_type": "code",
   "execution_count": null,
   "metadata": {},
   "outputs": [],
   "source": []
  },
  {
   "cell_type": "markdown",
   "metadata": {},
   "source": [
    "### 4.\n",
    "Varieeren Sie die Anfangsgeschwindigkeit der Erde und beschreiben Sie die verschiedenen Bahnformen, die sich ergeben."
   ]
  },
  {
   "cell_type": "code",
   "execution_count": null,
   "metadata": {},
   "outputs": [],
   "source": []
  },
  {
   "cell_type": "markdown",
   "metadata": {},
   "source": [
    "### 5.\n",
    "Beschrieben Sie mit Hilfe des Programms die Bewegung zweier Fast gleich großer Massen (Zweikörperproblem). Denken Sie an die Impulserhaltung!"
   ]
  },
  {
   "cell_type": "code",
   "execution_count": null,
   "metadata": {},
   "outputs": [],
   "source": []
  },
  {
   "cell_type": "markdown",
   "metadata": {},
   "source": [
    "### 6.\n",
    "Drei Sterne seinen anfangs in Ruhe mit folgenden Massen und Positionen (arbitrary units):\n",
    "\n",
    "|       | Masse |  x |  y |\n",
    "|:-------:|:-------:|:----:|:----:|\n",
    "|**Stern 1**|  150  |  3 |  1 |\n",
    "|**Stern 2**|  200  | -1 | -2 |\n",
    "|**Stern 3**|  250  | -1 |  1 |\n",
    "\n",
    "(Die drei Sterne seien in der $xy$-Ebene.)"
   ]
  },
  {
   "cell_type": "markdown",
   "metadata": {},
   "source": [
    "#### (a)\n",
    "Zeigen Sie, dass die Bewegungsgleichung für Position $\\vec{r}_r$ des ersten Sterns gegeben ist durch:\n",
    "$$\\ddot{\\vec{r}}_1 = Gm_2\\frac{\\vec{r}_2-\\vec{r}_1}{|\\vec{r}_2-\\vec{r}_1|^3} + Gm_3\\frac{\\vec{r}_3-\\vec{r}_1}{|\\vec{r}_3-\\vec{r}_1|^3} $$\n",
    "und stellen Sie die Gleichung für $\\vec{r}_2$ und $\\vec{r}_3$ der beiden anderen Sterne auf."
   ]
  },
  {
   "cell_type": "code",
   "execution_count": null,
   "metadata": {},
   "outputs": [],
   "source": []
  },
  {
   "cell_type": "markdown",
   "metadata": {},
   "source": [
    "#### (b)\n",
    "Setzten Sie $G=1$ und schreiben sie ein Programm, das die Bewegungsgleichungen löst. Plotten Sie $y$ als Funktion von $x$ und animieren Sie die Bewegung. Die Sterne bewegen sich sehr schnell, wenn sie sich nähern und sind serh langsam, wenn sie weit voneinander entfernt sind. Eine adaptive Methode könnte deshab nützlich sein."
   ]
  },
  {
   "cell_type": "code",
   "execution_count": null,
   "metadata": {},
   "outputs": [],
   "source": []
  }
 ],
 "metadata": {
  "kernelspec": {
   "display_name": "VPython",
   "language": "python",
   "name": "vpython"
  },
  "language_info": {
   "codemirror_mode": {
    "name": "ipython",
    "version": 3
   },
   "file_extension": ".py",
   "mimetype": "text/x-python",
   "name": "python",
   "nbconvert_exporter": "python",
   "pygments_lexer": "ipython3",
   "version": "3.6.4"
  }
 },
 "nbformat": 4,
 "nbformat_minor": 2
}
