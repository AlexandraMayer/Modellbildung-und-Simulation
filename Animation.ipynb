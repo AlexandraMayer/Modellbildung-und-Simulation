{
 "cells": [
  {
   "cell_type": "code",
   "execution_count": 1,
   "metadata": {},
   "outputs": [
    {
     "data": {
      "application/javascript": [
       "require.undef(\"nbextensions/vpython_libraries/glow.min\");"
      ],
      "text/plain": [
       "<IPython.core.display.Javascript object>"
      ]
     },
     "metadata": {},
     "output_type": "display_data"
    },
    {
     "data": {
      "application/javascript": [
       "require.undef(\"nbextensions/vpython_libraries/glowcomm\");"
      ],
      "text/plain": [
       "<IPython.core.display.Javascript object>"
      ]
     },
     "metadata": {},
     "output_type": "display_data"
    },
    {
     "data": {
      "application/javascript": [
       "require.undef(\"nbextensions/vpython_libraries/jquery-ui.custom.min\");"
      ],
      "text/plain": [
       "<IPython.core.display.Javascript object>"
      ]
     },
     "metadata": {},
     "output_type": "display_data"
    },
    {
     "data": {
      "application/javascript": [
       "require([\"nbextensions/vpython_libraries/glow.min\"], function(){console.log(\"GLOW LOADED\");})"
      ],
      "text/plain": [
       "<IPython.core.display.Javascript object>"
      ]
     },
     "metadata": {},
     "output_type": "display_data"
    },
    {
     "data": {
      "application/javascript": [
       "require([\"nbextensions/vpython_libraries/glowcomm\"], function(){console.log(\"GLOWCOMM LOADED\");})"
      ],
      "text/plain": [
       "<IPython.core.display.Javascript object>"
      ]
     },
     "metadata": {},
     "output_type": "display_data"
    },
    {
     "data": {
      "application/javascript": [
       "require([\"nbextensions/vpython_libraries/jquery-ui.custom.min\"], function(){console.log(\"JQUERY LOADED\");})"
      ],
      "text/plain": [
       "<IPython.core.display.Javascript object>"
      ]
     },
     "metadata": {},
     "output_type": "display_data"
    },
    {
     "data": {
      "text/html": [
       "<div id=\"glowscript\" class=\"glowscript\"></div>"
      ],
      "text/plain": [
       "<IPython.core.display.HTML object>"
      ]
     },
     "metadata": {},
     "output_type": "display_data"
    },
    {
     "data": {
      "application/javascript": [
       "window.__context = { glowscript_container: $(\"#glowscript\").removeAttr(\"id\")}"
      ],
      "text/plain": [
       "<IPython.core.display.Javascript object>"
      ]
     },
     "metadata": {},
     "output_type": "display_data"
    }
   ],
   "source": [
    "import pandas as pd\n",
    "import matplotlib.pyplot as plt\n",
    "import sympy as sy\n",
    "#sy.init_printing()\n",
    "import numpy as np\n",
    "import math\n",
    "import scipy as sc\n",
    "from vpython import *\n",
    "experiment = pd.read_csv(\"Pressure and velocity.csv\", \",\")\n",
    "experiment_beschleunigung = pd.read_csv(\"Acceleration.csv\", \",\")"
   ]
  },
  {
   "cell_type": "code",
   "execution_count": 2,
   "metadata": {},
   "outputs": [
    {
     "data": {
      "text/plain": [
       "[<matplotlib.lines.Line2D at 0x15f214d4e48>]"
      ]
     },
     "execution_count": 2,
     "metadata": {},
     "output_type": "execute_result"
    },
    {
     "data": {
      "image/png": "[encoded data removed]",
      "text/plain": [
       "<matplotlib.figure.Figure at 0x15f214d4eb8>"
      ]
     },
     "metadata": {},
     "output_type": "display_data"
    }
   ],
   "source": [
    "def height(x):\n",
    "    if x < 8:\n",
    "        return 0.0\n",
    "    elif x < 8.4:\n",
    "        return 8.2-x\n",
    "    elif x < 8.7:\n",
    "        return 8.5 - x\n",
    "    elif x < 9:\n",
    "        return 8.8 -x\n",
    "    elif x < 9.3:\n",
    "        return 9.1-x\n",
    "    elif x < 9.6:\n",
    "        return 9.2-x\n",
    "    elif x < 10:\n",
    "        return 9.4-x\n",
    "    elif x < 10.3:\n",
    "        return 9.7-x\n",
    "    elif x < 10.6:\n",
    "        return 9.85-x\n",
    "    elif x < 11.8:\n",
    "        return 9.9-x\n",
    "    elif x < 30:\n",
    "        return 10-x\n",
    "    elif x < 31.5:\n",
    "        return 10.5-x\n",
    "    elif x < 31.8:\n",
    "        return 10.7-x\n",
    "    elif x < 32.1:\n",
    "        return 10.9-x\n",
    "    elif x < 32.4:\n",
    "        return 11.1-x\n",
    "    elif x < 32.7:\n",
    "        return 11.3-x\n",
    "    elif x < 32.9:\n",
    "        return 11.45-x\n",
    "    elif x < 33.1:\n",
    "        return 11.6-x\n",
    "    elif x < 33.3:\n",
    "        return 11.75-x\n",
    "    else:\n",
    "        return -22\n",
    "    \n",
    "x = np.arange(0,45, 0.01)\n",
    "y = [height(xs) for xs in x]\n",
    "plt.plot(experiment.values[:,0], experiment.values[:,2])\n",
    "plt.plot(x,y)\n"
   ]
  },
  {
   "cell_type": "code",
   "execution_count": 3,
   "metadata": {},
   "outputs": [],
   "source": [
    "test = box(pos = vec(-3,0,0))\n",
    "elevatorH = box(pos = vec(0,0,0), ratio = 0.1)\n",
    "for newPos in y:\n",
    "    rate(100)\n",
    "    elevatorH.pos.y = newPos"
   ]
  },
  {
   "cell_type": "code",
   "execution_count": null,
   "metadata": {},
   "outputs": [],
   "source": []
  }
 ],
 "metadata": {
  "kernelspec": {
   "display_name": "VPython",
   "language": "python",
   "name": "vpython"
  },
  "language_info": {
   "codemirror_mode": {
    "name": "ipython",
    "version": 3
   },
   "file_extension": ".py",
   "mimetype": "text/x-python",
   "name": "python",
   "nbconvert_exporter": "python",
   "pygments_lexer": "ipython3",
   "version": "3.6.4"
  }
 },
 "nbformat": 4,
 "nbformat_minor": 2
}
